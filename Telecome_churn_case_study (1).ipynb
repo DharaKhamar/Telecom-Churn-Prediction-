{
 "cells": [
  {
   "cell_type": "markdown",
   "id": "4abf7e70",
   "metadata": {},
   "source": [
    "# Telecom Churn Case Study : Dhara Khamar, Bunty Biswas, Gourav Kumar"
   ]
  },
  {
   "cell_type": "markdown",
   "id": "3fffb6e3",
   "metadata": {},
   "source": [
    "## Business problem overview\n",
    "In the telecom industry, customers are able to choose from multiple service providers and actively switch from one operator to another. In this highly competitive market, the telecommunications industry experiences an average of 15-25% annual churn rate. Given the fact that it costs 5-10 times more to acquire a new customer than to retain an existing one, customer retention has now become even more important than customer acquisition.For many incumbent operators, retaining high profitable customers is the number one business goal.To reduce customer churn, telecom companies need to predict which customers are at high risk of churn."
   ]
  },
  {
   "cell_type": "markdown",
   "id": "e9e1c18e",
   "metadata": {},
   "source": [
    "## Objectives: \n",
    "The predictive model that you’re going to build will serve two purposes:\n",
    "\n",
    "1. It will be used to predict whether a high-value customer will churn or not, in near future (i.e. churn phase). By knowing this, the company can take action steps such as providing special plans, discounts on recharge etc.\n",
    "\n",
    "2. It will be used to identify important variables that are strong predictors of churn. These variables may also indicate why customers choose to switch to other networks."
   ]
  },
  {
   "cell_type": "markdown",
   "id": "e953628e",
   "metadata": {},
   "source": [
    "## Data Preparation:\n",
    "\n",
    "1. Derive new features\n",
    "\n",
    "This is one of the most important parts of data preparation since good features are often the differentiators between good and bad models. Use your business understanding to derive features you think could be important indicators of churn.\n",
    "\n",
    "2. Filter high-value customers\n",
    "\n",
    "As mentioned above, you need to predict churn only for the high-value customers. Define high-value customers as follows: Those who have recharged with an amount more than or equal to X, where X is the 70th percentile of the average recharge amount in the first two months (the good phase).\n",
    "\n",
    "After filtering the high-value customers, you should get about 29.9k rows.\n",
    "\n",
    "3. Tag churners and remove attributes of the churn phase\n",
    "\n",
    "Now tag the churned customers (churn=1, else 0) based on the fourth month as follows: Those who have not made any calls (either incoming or outgoing) AND have not used mobile internet even once in the churn phase. The attributes you need to use to tag churners are:\n",
    "\n",
    "total_ic_mou_9, total_og_mou_9, vol_2g_mb_9, vol_3g_mb_9\n",
    "\n",
    "After tagging churners, remove all the attributes corresponding to the churn phase (all attributes having ‘ _9’, etc. in their names)."
   ]
  },
  {
   "cell_type": "markdown",
   "id": "aa1064ac",
   "metadata": {},
   "source": [
    "## Step 1: Data Reading and understanding "
   ]
  },
  {
   "cell_type": "code",
   "execution_count": 1,
   "id": "08f5f204",
   "metadata": {},
   "outputs": [],
   "source": [
    "# Importing necessary packages\n",
    "import numpy as np \n",
    "import pandas as pd \n",
    "import matplotlib.pyplot as plt\n",
    "import seaborn as sns\n",
    "\n",
    "%matplotlib inline\n",
    "\n",
    "import warnings\n",
    "warnings.filterwarnings('ignore')"
   ]
  },
  {
   "cell_type": "code",
   "execution_count": 2,
   "id": "03eff4d2",
   "metadata": {},
   "outputs": [
    {
     "data": {
      "text/html": [
       "<div>\n",
       "<style scoped>\n",
       "    .dataframe tbody tr th:only-of-type {\n",
       "        vertical-align: middle;\n",
       "    }\n",
       "\n",
       "    .dataframe tbody tr th {\n",
       "        vertical-align: top;\n",
       "    }\n",
       "\n",
       "    .dataframe thead th {\n",
       "        text-align: right;\n",
       "    }\n",
       "</style>\n",
       "<table border=\"1\" class=\"dataframe\">\n",
       "  <thead>\n",
       "    <tr style=\"text-align: right;\">\n",
       "      <th></th>\n",
       "      <th>mobile_number</th>\n",
       "      <th>circle_id</th>\n",
       "      <th>loc_og_t2o_mou</th>\n",
       "      <th>std_og_t2o_mou</th>\n",
       "      <th>loc_ic_t2o_mou</th>\n",
       "      <th>last_date_of_month_6</th>\n",
       "      <th>last_date_of_month_7</th>\n",
       "      <th>last_date_of_month_8</th>\n",
       "      <th>last_date_of_month_9</th>\n",
       "      <th>arpu_6</th>\n",
       "      <th>...</th>\n",
       "      <th>sachet_3g_9</th>\n",
       "      <th>fb_user_6</th>\n",
       "      <th>fb_user_7</th>\n",
       "      <th>fb_user_8</th>\n",
       "      <th>fb_user_9</th>\n",
       "      <th>aon</th>\n",
       "      <th>aug_vbc_3g</th>\n",
       "      <th>jul_vbc_3g</th>\n",
       "      <th>jun_vbc_3g</th>\n",
       "      <th>sep_vbc_3g</th>\n",
       "    </tr>\n",
       "  </thead>\n",
       "  <tbody>\n",
       "    <tr>\n",
       "      <th>0</th>\n",
       "      <td>7000842753</td>\n",
       "      <td>109</td>\n",
       "      <td>0.0</td>\n",
       "      <td>0.0</td>\n",
       "      <td>0.0</td>\n",
       "      <td>6/30/2014</td>\n",
       "      <td>7/31/2014</td>\n",
       "      <td>8/31/2014</td>\n",
       "      <td>9/30/2014</td>\n",
       "      <td>197.385</td>\n",
       "      <td>...</td>\n",
       "      <td>0</td>\n",
       "      <td>1.0</td>\n",
       "      <td>1.0</td>\n",
       "      <td>1.0</td>\n",
       "      <td>NaN</td>\n",
       "      <td>968</td>\n",
       "      <td>30.4</td>\n",
       "      <td>0.0</td>\n",
       "      <td>101.20</td>\n",
       "      <td>3.58</td>\n",
       "    </tr>\n",
       "    <tr>\n",
       "      <th>1</th>\n",
       "      <td>7001865778</td>\n",
       "      <td>109</td>\n",
       "      <td>0.0</td>\n",
       "      <td>0.0</td>\n",
       "      <td>0.0</td>\n",
       "      <td>6/30/2014</td>\n",
       "      <td>7/31/2014</td>\n",
       "      <td>8/31/2014</td>\n",
       "      <td>9/30/2014</td>\n",
       "      <td>34.047</td>\n",
       "      <td>...</td>\n",
       "      <td>0</td>\n",
       "      <td>NaN</td>\n",
       "      <td>1.0</td>\n",
       "      <td>1.0</td>\n",
       "      <td>NaN</td>\n",
       "      <td>1006</td>\n",
       "      <td>0.0</td>\n",
       "      <td>0.0</td>\n",
       "      <td>0.00</td>\n",
       "      <td>0.00</td>\n",
       "    </tr>\n",
       "    <tr>\n",
       "      <th>2</th>\n",
       "      <td>7001625959</td>\n",
       "      <td>109</td>\n",
       "      <td>0.0</td>\n",
       "      <td>0.0</td>\n",
       "      <td>0.0</td>\n",
       "      <td>6/30/2014</td>\n",
       "      <td>7/31/2014</td>\n",
       "      <td>8/31/2014</td>\n",
       "      <td>9/30/2014</td>\n",
       "      <td>167.690</td>\n",
       "      <td>...</td>\n",
       "      <td>0</td>\n",
       "      <td>NaN</td>\n",
       "      <td>NaN</td>\n",
       "      <td>NaN</td>\n",
       "      <td>1.0</td>\n",
       "      <td>1103</td>\n",
       "      <td>0.0</td>\n",
       "      <td>0.0</td>\n",
       "      <td>4.17</td>\n",
       "      <td>0.00</td>\n",
       "    </tr>\n",
       "    <tr>\n",
       "      <th>3</th>\n",
       "      <td>7001204172</td>\n",
       "      <td>109</td>\n",
       "      <td>0.0</td>\n",
       "      <td>0.0</td>\n",
       "      <td>0.0</td>\n",
       "      <td>6/30/2014</td>\n",
       "      <td>7/31/2014</td>\n",
       "      <td>8/31/2014</td>\n",
       "      <td>9/30/2014</td>\n",
       "      <td>221.338</td>\n",
       "      <td>...</td>\n",
       "      <td>0</td>\n",
       "      <td>NaN</td>\n",
       "      <td>NaN</td>\n",
       "      <td>NaN</td>\n",
       "      <td>NaN</td>\n",
       "      <td>2491</td>\n",
       "      <td>0.0</td>\n",
       "      <td>0.0</td>\n",
       "      <td>0.00</td>\n",
       "      <td>0.00</td>\n",
       "    </tr>\n",
       "    <tr>\n",
       "      <th>4</th>\n",
       "      <td>7000142493</td>\n",
       "      <td>109</td>\n",
       "      <td>0.0</td>\n",
       "      <td>0.0</td>\n",
       "      <td>0.0</td>\n",
       "      <td>6/30/2014</td>\n",
       "      <td>7/31/2014</td>\n",
       "      <td>8/31/2014</td>\n",
       "      <td>9/30/2014</td>\n",
       "      <td>261.636</td>\n",
       "      <td>...</td>\n",
       "      <td>0</td>\n",
       "      <td>0.0</td>\n",
       "      <td>NaN</td>\n",
       "      <td>NaN</td>\n",
       "      <td>NaN</td>\n",
       "      <td>1526</td>\n",
       "      <td>0.0</td>\n",
       "      <td>0.0</td>\n",
       "      <td>0.00</td>\n",
       "      <td>0.00</td>\n",
       "    </tr>\n",
       "  </tbody>\n",
       "</table>\n",
       "<p>5 rows × 226 columns</p>\n",
       "</div>"
      ],
      "text/plain": [
       "   mobile_number  circle_id  loc_og_t2o_mou  std_og_t2o_mou  loc_ic_t2o_mou  \\\n",
       "0     7000842753        109             0.0             0.0             0.0   \n",
       "1     7001865778        109             0.0             0.0             0.0   \n",
       "2     7001625959        109             0.0             0.0             0.0   \n",
       "3     7001204172        109             0.0             0.0             0.0   \n",
       "4     7000142493        109             0.0             0.0             0.0   \n",
       "\n",
       "  last_date_of_month_6 last_date_of_month_7 last_date_of_month_8  \\\n",
       "0            6/30/2014            7/31/2014            8/31/2014   \n",
       "1            6/30/2014            7/31/2014            8/31/2014   \n",
       "2            6/30/2014            7/31/2014            8/31/2014   \n",
       "3            6/30/2014            7/31/2014            8/31/2014   \n",
       "4            6/30/2014            7/31/2014            8/31/2014   \n",
       "\n",
       "  last_date_of_month_9   arpu_6  ...  sachet_3g_9  fb_user_6  fb_user_7  \\\n",
       "0            9/30/2014  197.385  ...            0        1.0        1.0   \n",
       "1            9/30/2014   34.047  ...            0        NaN        1.0   \n",
       "2            9/30/2014  167.690  ...            0        NaN        NaN   \n",
       "3            9/30/2014  221.338  ...            0        NaN        NaN   \n",
       "4            9/30/2014  261.636  ...            0        0.0        NaN   \n",
       "\n",
       "   fb_user_8  fb_user_9   aon  aug_vbc_3g  jul_vbc_3g  jun_vbc_3g  sep_vbc_3g  \n",
       "0        1.0        NaN   968        30.4         0.0      101.20        3.58  \n",
       "1        1.0        NaN  1006         0.0         0.0        0.00        0.00  \n",
       "2        NaN        1.0  1103         0.0         0.0        4.17        0.00  \n",
       "3        NaN        NaN  2491         0.0         0.0        0.00        0.00  \n",
       "4        NaN        NaN  1526         0.0         0.0        0.00        0.00  \n",
       "\n",
       "[5 rows x 226 columns]"
      ]
     },
     "execution_count": 2,
     "metadata": {},
     "output_type": "execute_result"
    }
   ],
   "source": [
    "# lets import and read the dataset\n",
    "tel_churn_data = pd.read_csv(\"telecom_churn_data.csv\")\n",
    "tel_churn_data.head()"
   ]
  },
  {
   "cell_type": "code",
   "execution_count": 3,
   "id": "92e40171",
   "metadata": {},
   "outputs": [
    {
     "data": {
      "text/plain": [
       "(99999, 226)"
      ]
     },
     "execution_count": 3,
     "metadata": {},
     "output_type": "execute_result"
    }
   ],
   "source": [
    "tel_churn_data.shape"
   ]
  },
  {
   "cell_type": "code",
   "execution_count": 4,
   "id": "1745f3e5",
   "metadata": {},
   "outputs": [
    {
     "name": "stdout",
     "output_type": "stream",
     "text": [
      "<class 'pandas.core.frame.DataFrame'>\n",
      "RangeIndex: 99999 entries, 0 to 99998\n",
      "Data columns (total 226 columns):\n",
      " #    Column                    Dtype  \n",
      "---   ------                    -----  \n",
      " 0    mobile_number             int64  \n",
      " 1    circle_id                 int64  \n",
      " 2    loc_og_t2o_mou            float64\n",
      " 3    std_og_t2o_mou            float64\n",
      " 4    loc_ic_t2o_mou            float64\n",
      " 5    last_date_of_month_6      object \n",
      " 6    last_date_of_month_7      object \n",
      " 7    last_date_of_month_8      object \n",
      " 8    last_date_of_month_9      object \n",
      " 9    arpu_6                    float64\n",
      " 10   arpu_7                    float64\n",
      " 11   arpu_8                    float64\n",
      " 12   arpu_9                    float64\n",
      " 13   onnet_mou_6               float64\n",
      " 14   onnet_mou_7               float64\n",
      " 15   onnet_mou_8               float64\n",
      " 16   onnet_mou_9               float64\n",
      " 17   offnet_mou_6              float64\n",
      " 18   offnet_mou_7              float64\n",
      " 19   offnet_mou_8              float64\n",
      " 20   offnet_mou_9              float64\n",
      " 21   roam_ic_mou_6             float64\n",
      " 22   roam_ic_mou_7             float64\n",
      " 23   roam_ic_mou_8             float64\n",
      " 24   roam_ic_mou_9             float64\n",
      " 25   roam_og_mou_6             float64\n",
      " 26   roam_og_mou_7             float64\n",
      " 27   roam_og_mou_8             float64\n",
      " 28   roam_og_mou_9             float64\n",
      " 29   loc_og_t2t_mou_6          float64\n",
      " 30   loc_og_t2t_mou_7          float64\n",
      " 31   loc_og_t2t_mou_8          float64\n",
      " 32   loc_og_t2t_mou_9          float64\n",
      " 33   loc_og_t2m_mou_6          float64\n",
      " 34   loc_og_t2m_mou_7          float64\n",
      " 35   loc_og_t2m_mou_8          float64\n",
      " 36   loc_og_t2m_mou_9          float64\n",
      " 37   loc_og_t2f_mou_6          float64\n",
      " 38   loc_og_t2f_mou_7          float64\n",
      " 39   loc_og_t2f_mou_8          float64\n",
      " 40   loc_og_t2f_mou_9          float64\n",
      " 41   loc_og_t2c_mou_6          float64\n",
      " 42   loc_og_t2c_mou_7          float64\n",
      " 43   loc_og_t2c_mou_8          float64\n",
      " 44   loc_og_t2c_mou_9          float64\n",
      " 45   loc_og_mou_6              float64\n",
      " 46   loc_og_mou_7              float64\n",
      " 47   loc_og_mou_8              float64\n",
      " 48   loc_og_mou_9              float64\n",
      " 49   std_og_t2t_mou_6          float64\n",
      " 50   std_og_t2t_mou_7          float64\n",
      " 51   std_og_t2t_mou_8          float64\n",
      " 52   std_og_t2t_mou_9          float64\n",
      " 53   std_og_t2m_mou_6          float64\n",
      " 54   std_og_t2m_mou_7          float64\n",
      " 55   std_og_t2m_mou_8          float64\n",
      " 56   std_og_t2m_mou_9          float64\n",
      " 57   std_og_t2f_mou_6          float64\n",
      " 58   std_og_t2f_mou_7          float64\n",
      " 59   std_og_t2f_mou_8          float64\n",
      " 60   std_og_t2f_mou_9          float64\n",
      " 61   std_og_t2c_mou_6          float64\n",
      " 62   std_og_t2c_mou_7          float64\n",
      " 63   std_og_t2c_mou_8          float64\n",
      " 64   std_og_t2c_mou_9          float64\n",
      " 65   std_og_mou_6              float64\n",
      " 66   std_og_mou_7              float64\n",
      " 67   std_og_mou_8              float64\n",
      " 68   std_og_mou_9              float64\n",
      " 69   isd_og_mou_6              float64\n",
      " 70   isd_og_mou_7              float64\n",
      " 71   isd_og_mou_8              float64\n",
      " 72   isd_og_mou_9              float64\n",
      " 73   spl_og_mou_6              float64\n",
      " 74   spl_og_mou_7              float64\n",
      " 75   spl_og_mou_8              float64\n",
      " 76   spl_og_mou_9              float64\n",
      " 77   og_others_6               float64\n",
      " 78   og_others_7               float64\n",
      " 79   og_others_8               float64\n",
      " 80   og_others_9               float64\n",
      " 81   total_og_mou_6            float64\n",
      " 82   total_og_mou_7            float64\n",
      " 83   total_og_mou_8            float64\n",
      " 84   total_og_mou_9            float64\n",
      " 85   loc_ic_t2t_mou_6          float64\n",
      " 86   loc_ic_t2t_mou_7          float64\n",
      " 87   loc_ic_t2t_mou_8          float64\n",
      " 88   loc_ic_t2t_mou_9          float64\n",
      " 89   loc_ic_t2m_mou_6          float64\n",
      " 90   loc_ic_t2m_mou_7          float64\n",
      " 91   loc_ic_t2m_mou_8          float64\n",
      " 92   loc_ic_t2m_mou_9          float64\n",
      " 93   loc_ic_t2f_mou_6          float64\n",
      " 94   loc_ic_t2f_mou_7          float64\n",
      " 95   loc_ic_t2f_mou_8          float64\n",
      " 96   loc_ic_t2f_mou_9          float64\n",
      " 97   loc_ic_mou_6              float64\n",
      " 98   loc_ic_mou_7              float64\n",
      " 99   loc_ic_mou_8              float64\n",
      " 100  loc_ic_mou_9              float64\n",
      " 101  std_ic_t2t_mou_6          float64\n",
      " 102  std_ic_t2t_mou_7          float64\n",
      " 103  std_ic_t2t_mou_8          float64\n",
      " 104  std_ic_t2t_mou_9          float64\n",
      " 105  std_ic_t2m_mou_6          float64\n",
      " 106  std_ic_t2m_mou_7          float64\n",
      " 107  std_ic_t2m_mou_8          float64\n",
      " 108  std_ic_t2m_mou_9          float64\n",
      " 109  std_ic_t2f_mou_6          float64\n",
      " 110  std_ic_t2f_mou_7          float64\n",
      " 111  std_ic_t2f_mou_8          float64\n",
      " 112  std_ic_t2f_mou_9          float64\n",
      " 113  std_ic_t2o_mou_6          float64\n",
      " 114  std_ic_t2o_mou_7          float64\n",
      " 115  std_ic_t2o_mou_8          float64\n",
      " 116  std_ic_t2o_mou_9          float64\n",
      " 117  std_ic_mou_6              float64\n",
      " 118  std_ic_mou_7              float64\n",
      " 119  std_ic_mou_8              float64\n",
      " 120  std_ic_mou_9              float64\n",
      " 121  total_ic_mou_6            float64\n",
      " 122  total_ic_mou_7            float64\n",
      " 123  total_ic_mou_8            float64\n",
      " 124  total_ic_mou_9            float64\n",
      " 125  spl_ic_mou_6              float64\n",
      " 126  spl_ic_mou_7              float64\n",
      " 127  spl_ic_mou_8              float64\n",
      " 128  spl_ic_mou_9              float64\n",
      " 129  isd_ic_mou_6              float64\n",
      " 130  isd_ic_mou_7              float64\n",
      " 131  isd_ic_mou_8              float64\n",
      " 132  isd_ic_mou_9              float64\n",
      " 133  ic_others_6               float64\n",
      " 134  ic_others_7               float64\n",
      " 135  ic_others_8               float64\n",
      " 136  ic_others_9               float64\n",
      " 137  total_rech_num_6          int64  \n",
      " 138  total_rech_num_7          int64  \n",
      " 139  total_rech_num_8          int64  \n",
      " 140  total_rech_num_9          int64  \n",
      " 141  total_rech_amt_6          int64  \n",
      " 142  total_rech_amt_7          int64  \n",
      " 143  total_rech_amt_8          int64  \n",
      " 144  total_rech_amt_9          int64  \n",
      " 145  max_rech_amt_6            int64  \n",
      " 146  max_rech_amt_7            int64  \n",
      " 147  max_rech_amt_8            int64  \n",
      " 148  max_rech_amt_9            int64  \n",
      " 149  date_of_last_rech_6       object \n",
      " 150  date_of_last_rech_7       object \n",
      " 151  date_of_last_rech_8       object \n",
      " 152  date_of_last_rech_9       object \n",
      " 153  last_day_rch_amt_6        int64  \n",
      " 154  last_day_rch_amt_7        int64  \n",
      " 155  last_day_rch_amt_8        int64  \n",
      " 156  last_day_rch_amt_9        int64  \n",
      " 157  date_of_last_rech_data_6  object \n",
      " 158  date_of_last_rech_data_7  object \n",
      " 159  date_of_last_rech_data_8  object \n",
      " 160  date_of_last_rech_data_9  object \n",
      " 161  total_rech_data_6         float64\n",
      " 162  total_rech_data_7         float64\n",
      " 163  total_rech_data_8         float64\n",
      " 164  total_rech_data_9         float64\n",
      " 165  max_rech_data_6           float64\n",
      " 166  max_rech_data_7           float64\n",
      " 167  max_rech_data_8           float64\n",
      " 168  max_rech_data_9           float64\n",
      " 169  count_rech_2g_6           float64\n",
      " 170  count_rech_2g_7           float64\n",
      " 171  count_rech_2g_8           float64\n",
      " 172  count_rech_2g_9           float64\n",
      " 173  count_rech_3g_6           float64\n",
      " 174  count_rech_3g_7           float64\n",
      " 175  count_rech_3g_8           float64\n",
      " 176  count_rech_3g_9           float64\n",
      " 177  av_rech_amt_data_6        float64\n",
      " 178  av_rech_amt_data_7        float64\n",
      " 179  av_rech_amt_data_8        float64\n",
      " 180  av_rech_amt_data_9        float64\n",
      " 181  vol_2g_mb_6               float64\n",
      " 182  vol_2g_mb_7               float64\n",
      " 183  vol_2g_mb_8               float64\n",
      " 184  vol_2g_mb_9               float64\n",
      " 185  vol_3g_mb_6               float64\n",
      " 186  vol_3g_mb_7               float64\n",
      " 187  vol_3g_mb_8               float64\n",
      " 188  vol_3g_mb_9               float64\n",
      " 189  arpu_3g_6                 float64\n",
      " 190  arpu_3g_7                 float64\n",
      " 191  arpu_3g_8                 float64\n",
      " 192  arpu_3g_9                 float64\n",
      " 193  arpu_2g_6                 float64\n",
      " 194  arpu_2g_7                 float64\n",
      " 195  arpu_2g_8                 float64\n",
      " 196  arpu_2g_9                 float64\n",
      " 197  night_pck_user_6          float64\n",
      " 198  night_pck_user_7          float64\n",
      " 199  night_pck_user_8          float64\n",
      " 200  night_pck_user_9          float64\n",
      " 201  monthly_2g_6              int64  \n",
      " 202  monthly_2g_7              int64  \n",
      " 203  monthly_2g_8              int64  \n",
      " 204  monthly_2g_9              int64  \n",
      " 205  sachet_2g_6               int64  \n",
      " 206  sachet_2g_7               int64  \n",
      " 207  sachet_2g_8               int64  \n",
      " 208  sachet_2g_9               int64  \n",
      " 209  monthly_3g_6              int64  \n",
      " 210  monthly_3g_7              int64  \n",
      " 211  monthly_3g_8              int64  \n",
      " 212  monthly_3g_9              int64  \n",
      " 213  sachet_3g_6               int64  \n",
      " 214  sachet_3g_7               int64  \n",
      " 215  sachet_3g_8               int64  \n",
      " 216  sachet_3g_9               int64  \n",
      " 217  fb_user_6                 float64\n",
      " 218  fb_user_7                 float64\n",
      " 219  fb_user_8                 float64\n",
      " 220  fb_user_9                 float64\n",
      " 221  aon                       int64  \n",
      " 222  aug_vbc_3g                float64\n",
      " 223  jul_vbc_3g                float64\n",
      " 224  jun_vbc_3g                float64\n",
      " 225  sep_vbc_3g                float64\n",
      "dtypes: float64(179), int64(35), object(12)\n",
      "memory usage: 172.4+ MB\n"
     ]
    }
   ],
   "source": [
    "tel_churn_data.info(verbose=1)"
   ]
  },
  {
   "cell_type": "code",
   "execution_count": 5,
   "id": "8707ec97",
   "metadata": {},
   "outputs": [
    {
     "data": {
      "text/html": [
       "<div>\n",
       "<style scoped>\n",
       "    .dataframe tbody tr th:only-of-type {\n",
       "        vertical-align: middle;\n",
       "    }\n",
       "\n",
       "    .dataframe tbody tr th {\n",
       "        vertical-align: top;\n",
       "    }\n",
       "\n",
       "    .dataframe thead th {\n",
       "        text-align: right;\n",
       "    }\n",
       "</style>\n",
       "<table border=\"1\" class=\"dataframe\">\n",
       "  <thead>\n",
       "    <tr style=\"text-align: right;\">\n",
       "      <th></th>\n",
       "      <th>mobile_number</th>\n",
       "      <th>circle_id</th>\n",
       "      <th>loc_og_t2o_mou</th>\n",
       "      <th>std_og_t2o_mou</th>\n",
       "      <th>loc_ic_t2o_mou</th>\n",
       "      <th>last_date_of_month_6</th>\n",
       "      <th>last_date_of_month_7</th>\n",
       "      <th>last_date_of_month_8</th>\n",
       "      <th>last_date_of_month_9</th>\n",
       "      <th>arpu_6</th>\n",
       "      <th>...</th>\n",
       "      <th>sachet_3g_9</th>\n",
       "      <th>fb_user_6</th>\n",
       "      <th>fb_user_7</th>\n",
       "      <th>fb_user_8</th>\n",
       "      <th>fb_user_9</th>\n",
       "      <th>aon</th>\n",
       "      <th>aug_vbc_3g</th>\n",
       "      <th>jul_vbc_3g</th>\n",
       "      <th>jun_vbc_3g</th>\n",
       "      <th>sep_vbc_3g</th>\n",
       "    </tr>\n",
       "  </thead>\n",
       "  <tbody>\n",
       "    <tr>\n",
       "      <th>count</th>\n",
       "      <td>9.999900e+04</td>\n",
       "      <td>99999.0</td>\n",
       "      <td>98981.0</td>\n",
       "      <td>98981.0</td>\n",
       "      <td>98981.0</td>\n",
       "      <td>99999</td>\n",
       "      <td>99398</td>\n",
       "      <td>98899</td>\n",
       "      <td>98340</td>\n",
       "      <td>99999.000000</td>\n",
       "      <td>...</td>\n",
       "      <td>99999.000000</td>\n",
       "      <td>25153.000000</td>\n",
       "      <td>25571.000000</td>\n",
       "      <td>26339.000000</td>\n",
       "      <td>25922.000000</td>\n",
       "      <td>99999.000000</td>\n",
       "      <td>99999.000000</td>\n",
       "      <td>99999.000000</td>\n",
       "      <td>99999.000000</td>\n",
       "      <td>99999.000000</td>\n",
       "    </tr>\n",
       "    <tr>\n",
       "      <th>unique</th>\n",
       "      <td>NaN</td>\n",
       "      <td>NaN</td>\n",
       "      <td>NaN</td>\n",
       "      <td>NaN</td>\n",
       "      <td>NaN</td>\n",
       "      <td>1</td>\n",
       "      <td>1</td>\n",
       "      <td>1</td>\n",
       "      <td>1</td>\n",
       "      <td>NaN</td>\n",
       "      <td>...</td>\n",
       "      <td>NaN</td>\n",
       "      <td>NaN</td>\n",
       "      <td>NaN</td>\n",
       "      <td>NaN</td>\n",
       "      <td>NaN</td>\n",
       "      <td>NaN</td>\n",
       "      <td>NaN</td>\n",
       "      <td>NaN</td>\n",
       "      <td>NaN</td>\n",
       "      <td>NaN</td>\n",
       "    </tr>\n",
       "    <tr>\n",
       "      <th>top</th>\n",
       "      <td>NaN</td>\n",
       "      <td>NaN</td>\n",
       "      <td>NaN</td>\n",
       "      <td>NaN</td>\n",
       "      <td>NaN</td>\n",
       "      <td>6/30/2014</td>\n",
       "      <td>7/31/2014</td>\n",
       "      <td>8/31/2014</td>\n",
       "      <td>9/30/2014</td>\n",
       "      <td>NaN</td>\n",
       "      <td>...</td>\n",
       "      <td>NaN</td>\n",
       "      <td>NaN</td>\n",
       "      <td>NaN</td>\n",
       "      <td>NaN</td>\n",
       "      <td>NaN</td>\n",
       "      <td>NaN</td>\n",
       "      <td>NaN</td>\n",
       "      <td>NaN</td>\n",
       "      <td>NaN</td>\n",
       "      <td>NaN</td>\n",
       "    </tr>\n",
       "    <tr>\n",
       "      <th>freq</th>\n",
       "      <td>NaN</td>\n",
       "      <td>NaN</td>\n",
       "      <td>NaN</td>\n",
       "      <td>NaN</td>\n",
       "      <td>NaN</td>\n",
       "      <td>99999</td>\n",
       "      <td>99398</td>\n",
       "      <td>98899</td>\n",
       "      <td>98340</td>\n",
       "      <td>NaN</td>\n",
       "      <td>...</td>\n",
       "      <td>NaN</td>\n",
       "      <td>NaN</td>\n",
       "      <td>NaN</td>\n",
       "      <td>NaN</td>\n",
       "      <td>NaN</td>\n",
       "      <td>NaN</td>\n",
       "      <td>NaN</td>\n",
       "      <td>NaN</td>\n",
       "      <td>NaN</td>\n",
       "      <td>NaN</td>\n",
       "    </tr>\n",
       "    <tr>\n",
       "      <th>mean</th>\n",
       "      <td>7.001207e+09</td>\n",
       "      <td>109.0</td>\n",
       "      <td>0.0</td>\n",
       "      <td>0.0</td>\n",
       "      <td>0.0</td>\n",
       "      <td>NaN</td>\n",
       "      <td>NaN</td>\n",
       "      <td>NaN</td>\n",
       "      <td>NaN</td>\n",
       "      <td>282.987358</td>\n",
       "      <td>...</td>\n",
       "      <td>0.084581</td>\n",
       "      <td>0.914404</td>\n",
       "      <td>0.908764</td>\n",
       "      <td>0.890808</td>\n",
       "      <td>0.860968</td>\n",
       "      <td>1219.854749</td>\n",
       "      <td>68.170248</td>\n",
       "      <td>66.839062</td>\n",
       "      <td>60.021204</td>\n",
       "      <td>3.299373</td>\n",
       "    </tr>\n",
       "    <tr>\n",
       "      <th>std</th>\n",
       "      <td>6.956694e+05</td>\n",
       "      <td>0.0</td>\n",
       "      <td>0.0</td>\n",
       "      <td>0.0</td>\n",
       "      <td>0.0</td>\n",
       "      <td>NaN</td>\n",
       "      <td>NaN</td>\n",
       "      <td>NaN</td>\n",
       "      <td>NaN</td>\n",
       "      <td>328.439770</td>\n",
       "      <td>...</td>\n",
       "      <td>0.650457</td>\n",
       "      <td>0.279772</td>\n",
       "      <td>0.287950</td>\n",
       "      <td>0.311885</td>\n",
       "      <td>0.345987</td>\n",
       "      <td>954.733842</td>\n",
       "      <td>267.580450</td>\n",
       "      <td>271.201856</td>\n",
       "      <td>253.938223</td>\n",
       "      <td>32.408353</td>\n",
       "    </tr>\n",
       "    <tr>\n",
       "      <th>min</th>\n",
       "      <td>7.000000e+09</td>\n",
       "      <td>109.0</td>\n",
       "      <td>0.0</td>\n",
       "      <td>0.0</td>\n",
       "      <td>0.0</td>\n",
       "      <td>NaN</td>\n",
       "      <td>NaN</td>\n",
       "      <td>NaN</td>\n",
       "      <td>NaN</td>\n",
       "      <td>-2258.709000</td>\n",
       "      <td>...</td>\n",
       "      <td>0.000000</td>\n",
       "      <td>0.000000</td>\n",
       "      <td>0.000000</td>\n",
       "      <td>0.000000</td>\n",
       "      <td>0.000000</td>\n",
       "      <td>180.000000</td>\n",
       "      <td>0.000000</td>\n",
       "      <td>0.000000</td>\n",
       "      <td>0.000000</td>\n",
       "      <td>0.000000</td>\n",
       "    </tr>\n",
       "    <tr>\n",
       "      <th>25%</th>\n",
       "      <td>7.000606e+09</td>\n",
       "      <td>109.0</td>\n",
       "      <td>0.0</td>\n",
       "      <td>0.0</td>\n",
       "      <td>0.0</td>\n",
       "      <td>NaN</td>\n",
       "      <td>NaN</td>\n",
       "      <td>NaN</td>\n",
       "      <td>NaN</td>\n",
       "      <td>93.411500</td>\n",
       "      <td>...</td>\n",
       "      <td>0.000000</td>\n",
       "      <td>1.000000</td>\n",
       "      <td>1.000000</td>\n",
       "      <td>1.000000</td>\n",
       "      <td>1.000000</td>\n",
       "      <td>467.000000</td>\n",
       "      <td>0.000000</td>\n",
       "      <td>0.000000</td>\n",
       "      <td>0.000000</td>\n",
       "      <td>0.000000</td>\n",
       "    </tr>\n",
       "    <tr>\n",
       "      <th>50%</th>\n",
       "      <td>7.001205e+09</td>\n",
       "      <td>109.0</td>\n",
       "      <td>0.0</td>\n",
       "      <td>0.0</td>\n",
       "      <td>0.0</td>\n",
       "      <td>NaN</td>\n",
       "      <td>NaN</td>\n",
       "      <td>NaN</td>\n",
       "      <td>NaN</td>\n",
       "      <td>197.704000</td>\n",
       "      <td>...</td>\n",
       "      <td>0.000000</td>\n",
       "      <td>1.000000</td>\n",
       "      <td>1.000000</td>\n",
       "      <td>1.000000</td>\n",
       "      <td>1.000000</td>\n",
       "      <td>863.000000</td>\n",
       "      <td>0.000000</td>\n",
       "      <td>0.000000</td>\n",
       "      <td>0.000000</td>\n",
       "      <td>0.000000</td>\n",
       "    </tr>\n",
       "    <tr>\n",
       "      <th>75%</th>\n",
       "      <td>7.001812e+09</td>\n",
       "      <td>109.0</td>\n",
       "      <td>0.0</td>\n",
       "      <td>0.0</td>\n",
       "      <td>0.0</td>\n",
       "      <td>NaN</td>\n",
       "      <td>NaN</td>\n",
       "      <td>NaN</td>\n",
       "      <td>NaN</td>\n",
       "      <td>371.060000</td>\n",
       "      <td>...</td>\n",
       "      <td>0.000000</td>\n",
       "      <td>1.000000</td>\n",
       "      <td>1.000000</td>\n",
       "      <td>1.000000</td>\n",
       "      <td>1.000000</td>\n",
       "      <td>1807.500000</td>\n",
       "      <td>0.000000</td>\n",
       "      <td>0.000000</td>\n",
       "      <td>0.000000</td>\n",
       "      <td>0.000000</td>\n",
       "    </tr>\n",
       "    <tr>\n",
       "      <th>max</th>\n",
       "      <td>7.002411e+09</td>\n",
       "      <td>109.0</td>\n",
       "      <td>0.0</td>\n",
       "      <td>0.0</td>\n",
       "      <td>0.0</td>\n",
       "      <td>NaN</td>\n",
       "      <td>NaN</td>\n",
       "      <td>NaN</td>\n",
       "      <td>NaN</td>\n",
       "      <td>27731.088000</td>\n",
       "      <td>...</td>\n",
       "      <td>49.000000</td>\n",
       "      <td>1.000000</td>\n",
       "      <td>1.000000</td>\n",
       "      <td>1.000000</td>\n",
       "      <td>1.000000</td>\n",
       "      <td>4337.000000</td>\n",
       "      <td>12916.220000</td>\n",
       "      <td>9165.600000</td>\n",
       "      <td>11166.210000</td>\n",
       "      <td>2618.570000</td>\n",
       "    </tr>\n",
       "  </tbody>\n",
       "</table>\n",
       "<p>11 rows × 226 columns</p>\n",
       "</div>"
      ],
      "text/plain": [
       "        mobile_number  circle_id  loc_og_t2o_mou  std_og_t2o_mou  \\\n",
       "count    9.999900e+04    99999.0         98981.0         98981.0   \n",
       "unique            NaN        NaN             NaN             NaN   \n",
       "top               NaN        NaN             NaN             NaN   \n",
       "freq              NaN        NaN             NaN             NaN   \n",
       "mean     7.001207e+09      109.0             0.0             0.0   \n",
       "std      6.956694e+05        0.0             0.0             0.0   \n",
       "min      7.000000e+09      109.0             0.0             0.0   \n",
       "25%      7.000606e+09      109.0             0.0             0.0   \n",
       "50%      7.001205e+09      109.0             0.0             0.0   \n",
       "75%      7.001812e+09      109.0             0.0             0.0   \n",
       "max      7.002411e+09      109.0             0.0             0.0   \n",
       "\n",
       "        loc_ic_t2o_mou last_date_of_month_6 last_date_of_month_7  \\\n",
       "count          98981.0                99999                99398   \n",
       "unique             NaN                    1                    1   \n",
       "top                NaN            6/30/2014            7/31/2014   \n",
       "freq               NaN                99999                99398   \n",
       "mean               0.0                  NaN                  NaN   \n",
       "std                0.0                  NaN                  NaN   \n",
       "min                0.0                  NaN                  NaN   \n",
       "25%                0.0                  NaN                  NaN   \n",
       "50%                0.0                  NaN                  NaN   \n",
       "75%                0.0                  NaN                  NaN   \n",
       "max                0.0                  NaN                  NaN   \n",
       "\n",
       "       last_date_of_month_8 last_date_of_month_9        arpu_6  ...  \\\n",
       "count                 98899                98340  99999.000000  ...   \n",
       "unique                    1                    1           NaN  ...   \n",
       "top               8/31/2014            9/30/2014           NaN  ...   \n",
       "freq                  98899                98340           NaN  ...   \n",
       "mean                    NaN                  NaN    282.987358  ...   \n",
       "std                     NaN                  NaN    328.439770  ...   \n",
       "min                     NaN                  NaN  -2258.709000  ...   \n",
       "25%                     NaN                  NaN     93.411500  ...   \n",
       "50%                     NaN                  NaN    197.704000  ...   \n",
       "75%                     NaN                  NaN    371.060000  ...   \n",
       "max                     NaN                  NaN  27731.088000  ...   \n",
       "\n",
       "         sachet_3g_9     fb_user_6     fb_user_7     fb_user_8     fb_user_9  \\\n",
       "count   99999.000000  25153.000000  25571.000000  26339.000000  25922.000000   \n",
       "unique           NaN           NaN           NaN           NaN           NaN   \n",
       "top              NaN           NaN           NaN           NaN           NaN   \n",
       "freq             NaN           NaN           NaN           NaN           NaN   \n",
       "mean        0.084581      0.914404      0.908764      0.890808      0.860968   \n",
       "std         0.650457      0.279772      0.287950      0.311885      0.345987   \n",
       "min         0.000000      0.000000      0.000000      0.000000      0.000000   \n",
       "25%         0.000000      1.000000      1.000000      1.000000      1.000000   \n",
       "50%         0.000000      1.000000      1.000000      1.000000      1.000000   \n",
       "75%         0.000000      1.000000      1.000000      1.000000      1.000000   \n",
       "max        49.000000      1.000000      1.000000      1.000000      1.000000   \n",
       "\n",
       "                 aon    aug_vbc_3g    jul_vbc_3g    jun_vbc_3g    sep_vbc_3g  \n",
       "count   99999.000000  99999.000000  99999.000000  99999.000000  99999.000000  \n",
       "unique           NaN           NaN           NaN           NaN           NaN  \n",
       "top              NaN           NaN           NaN           NaN           NaN  \n",
       "freq             NaN           NaN           NaN           NaN           NaN  \n",
       "mean     1219.854749     68.170248     66.839062     60.021204      3.299373  \n",
       "std       954.733842    267.580450    271.201856    253.938223     32.408353  \n",
       "min       180.000000      0.000000      0.000000      0.000000      0.000000  \n",
       "25%       467.000000      0.000000      0.000000      0.000000      0.000000  \n",
       "50%       863.000000      0.000000      0.000000      0.000000      0.000000  \n",
       "75%      1807.500000      0.000000      0.000000      0.000000      0.000000  \n",
       "max      4337.000000  12916.220000   9165.600000  11166.210000   2618.570000  \n",
       "\n",
       "[11 rows x 226 columns]"
      ]
     },
     "execution_count": 5,
     "metadata": {},
     "output_type": "execute_result"
    }
   ],
   "source": [
    "tel_churn_data.describe(include='all')"
   ]
  },
  {
   "cell_type": "markdown",
   "id": "a977d9d9",
   "metadata": {},
   "source": [
    "## Step 2: Data Preparation "
   ]
  },
  {
   "cell_type": "markdown",
   "id": "b200c9e4",
   "metadata": {},
   "source": [
    "### Derive new features"
   ]
  },
  {
   "cell_type": "code",
   "execution_count": 6,
   "id": "0beb0b10",
   "metadata": {},
   "outputs": [],
   "source": [
    "# To calculate total amount of recharge for talktime and data, we can use following columns: av_rech_amt_data_* and total_rech_data_* , Where * means 6,7,8,9\n",
    "\n",
    "tel_churn_data['total_data_rech_amt_6'] = tel_churn_data['av_rech_amt_data_6'] * tel_churn_data['total_rech_data_6']\n",
    "tel_churn_data['total_data_rech_amt_7'] = tel_churn_data['av_rech_amt_data_7'] * tel_churn_data['total_rech_data_7']\n",
    "tel_churn_data['total_data_rech_amt_8'] = tel_churn_data['av_rech_amt_data_8'] * tel_churn_data['total_rech_data_8']\n",
    "tel_churn_data['total_data_rech_amt_9'] = tel_churn_data['av_rech_amt_data_9'] * tel_churn_data['total_rech_data_9']"
   ]
  },
  {
   "cell_type": "code",
   "execution_count": 7,
   "id": "aba59c0a",
   "metadata": {},
   "outputs": [],
   "source": [
    "# To Find Average recharge amount for good phase (6th June and 7th July months )\n",
    "\n",
    "total_rech_amt_good_phase = (tel_churn_data['total_rech_amt_6'].fillna(0) + \n",
    "                             tel_churn_data['total_rech_amt_7'].fillna(0) + \n",
    "                             tel_churn_data['total_data_rech_amt_6'].fillna(0) + \n",
    "                             tel_churn_data['total_data_rech_amt_7'].fillna(0) ) / 2"
   ]
  },
  {
   "cell_type": "code",
   "execution_count": 8,
   "id": "213739e1",
   "metadata": {},
   "outputs": [],
   "source": [
    "# Dropping columns which are already been used for total amount  \n",
    "\n",
    "tel_churn_data.drop(['total_rech_data_6', 'total_rech_data_7', 'total_rech_data_8', 'total_rech_data_9', 'av_rech_amt_data_6',\n",
    "              'av_rech_amt_data_7', 'av_rech_amt_data_8', 'av_rech_amt_data_9'], axis=1, inplace=True)"
   ]
  },
  {
   "cell_type": "markdown",
   "id": "fa4d5970",
   "metadata": {},
   "source": [
    "### Filter high-value customers\n",
    "High-value customers as follows: Those who have recharged with an amount more than or equal to X, \n",
    "where X is the 70th percentile of the average recharge amount in the first two months (the good phase)."
   ]
  },
  {
   "cell_type": "code",
   "execution_count": 9,
   "id": "a5c5f9f1",
   "metadata": {},
   "outputs": [
    {
     "name": "stdout",
     "output_type": "stream",
     "text": [
      "70 Percentile of recharge amount is : 478.0\n"
     ]
    }
   ],
   "source": [
    "# TO find out 70 percentile of the calculated average amount\n",
    "\n",
    "tel_churn_data_70 = np.percentile(total_rech_amt_good_phase, 70.0)\n",
    "print(f'70 Percentile of recharge amount is : {tel_churn_data_70}')"
   ]
  },
  {
   "cell_type": "code",
   "execution_count": 10,
   "id": "67d23473",
   "metadata": {},
   "outputs": [],
   "source": [
    "# Dataset with high value customers only\n",
    "\n",
    "tel_churn_data_high_value = tel_churn_data[total_rech_amt_good_phase >= tel_churn_data_70]"
   ]
  },
  {
   "cell_type": "code",
   "execution_count": 11,
   "id": "0479f0e5",
   "metadata": {},
   "outputs": [
    {
     "data": {
      "text/html": [
       "<div>\n",
       "<style scoped>\n",
       "    .dataframe tbody tr th:only-of-type {\n",
       "        vertical-align: middle;\n",
       "    }\n",
       "\n",
       "    .dataframe tbody tr th {\n",
       "        vertical-align: top;\n",
       "    }\n",
       "\n",
       "    .dataframe thead th {\n",
       "        text-align: right;\n",
       "    }\n",
       "</style>\n",
       "<table border=\"1\" class=\"dataframe\">\n",
       "  <thead>\n",
       "    <tr style=\"text-align: right;\">\n",
       "      <th></th>\n",
       "      <th>mobile_number</th>\n",
       "      <th>circle_id</th>\n",
       "      <th>loc_og_t2o_mou</th>\n",
       "      <th>std_og_t2o_mou</th>\n",
       "      <th>loc_ic_t2o_mou</th>\n",
       "      <th>last_date_of_month_6</th>\n",
       "      <th>last_date_of_month_7</th>\n",
       "      <th>last_date_of_month_8</th>\n",
       "      <th>last_date_of_month_9</th>\n",
       "      <th>arpu_6</th>\n",
       "      <th>...</th>\n",
       "      <th>fb_user_9</th>\n",
       "      <th>aon</th>\n",
       "      <th>aug_vbc_3g</th>\n",
       "      <th>jul_vbc_3g</th>\n",
       "      <th>jun_vbc_3g</th>\n",
       "      <th>sep_vbc_3g</th>\n",
       "      <th>total_data_rech_amt_6</th>\n",
       "      <th>total_data_rech_amt_7</th>\n",
       "      <th>total_data_rech_amt_8</th>\n",
       "      <th>total_data_rech_amt_9</th>\n",
       "    </tr>\n",
       "  </thead>\n",
       "  <tbody>\n",
       "    <tr>\n",
       "      <th>0</th>\n",
       "      <td>7000842753</td>\n",
       "      <td>109</td>\n",
       "      <td>0.0</td>\n",
       "      <td>0.0</td>\n",
       "      <td>0.0</td>\n",
       "      <td>6/30/2014</td>\n",
       "      <td>7/31/2014</td>\n",
       "      <td>8/31/2014</td>\n",
       "      <td>9/30/2014</td>\n",
       "      <td>197.385</td>\n",
       "      <td>...</td>\n",
       "      <td>NaN</td>\n",
       "      <td>968</td>\n",
       "      <td>30.40</td>\n",
       "      <td>0.00</td>\n",
       "      <td>101.20</td>\n",
       "      <td>3.58</td>\n",
       "      <td>252.0</td>\n",
       "      <td>252.0</td>\n",
       "      <td>252.0</td>\n",
       "      <td>NaN</td>\n",
       "    </tr>\n",
       "    <tr>\n",
       "      <th>7</th>\n",
       "      <td>7000701601</td>\n",
       "      <td>109</td>\n",
       "      <td>0.0</td>\n",
       "      <td>0.0</td>\n",
       "      <td>0.0</td>\n",
       "      <td>6/30/2014</td>\n",
       "      <td>7/31/2014</td>\n",
       "      <td>8/31/2014</td>\n",
       "      <td>9/30/2014</td>\n",
       "      <td>1069.180</td>\n",
       "      <td>...</td>\n",
       "      <td>NaN</td>\n",
       "      <td>802</td>\n",
       "      <td>57.74</td>\n",
       "      <td>19.38</td>\n",
       "      <td>18.74</td>\n",
       "      <td>0.00</td>\n",
       "      <td>NaN</td>\n",
       "      <td>NaN</td>\n",
       "      <td>NaN</td>\n",
       "      <td>NaN</td>\n",
       "    </tr>\n",
       "    <tr>\n",
       "      <th>8</th>\n",
       "      <td>7001524846</td>\n",
       "      <td>109</td>\n",
       "      <td>0.0</td>\n",
       "      <td>0.0</td>\n",
       "      <td>0.0</td>\n",
       "      <td>6/30/2014</td>\n",
       "      <td>7/31/2014</td>\n",
       "      <td>8/31/2014</td>\n",
       "      <td>9/30/2014</td>\n",
       "      <td>378.721</td>\n",
       "      <td>...</td>\n",
       "      <td>NaN</td>\n",
       "      <td>315</td>\n",
       "      <td>21.03</td>\n",
       "      <td>910.65</td>\n",
       "      <td>122.16</td>\n",
       "      <td>0.00</td>\n",
       "      <td>NaN</td>\n",
       "      <td>354.0</td>\n",
       "      <td>207.0</td>\n",
       "      <td>NaN</td>\n",
       "    </tr>\n",
       "    <tr>\n",
       "      <th>21</th>\n",
       "      <td>7002124215</td>\n",
       "      <td>109</td>\n",
       "      <td>0.0</td>\n",
       "      <td>0.0</td>\n",
       "      <td>0.0</td>\n",
       "      <td>6/30/2014</td>\n",
       "      <td>7/31/2014</td>\n",
       "      <td>8/31/2014</td>\n",
       "      <td>9/30/2014</td>\n",
       "      <td>514.453</td>\n",
       "      <td>...</td>\n",
       "      <td>NaN</td>\n",
       "      <td>720</td>\n",
       "      <td>0.00</td>\n",
       "      <td>0.00</td>\n",
       "      <td>0.00</td>\n",
       "      <td>0.00</td>\n",
       "      <td>NaN</td>\n",
       "      <td>NaN</td>\n",
       "      <td>NaN</td>\n",
       "      <td>NaN</td>\n",
       "    </tr>\n",
       "    <tr>\n",
       "      <th>23</th>\n",
       "      <td>7000887461</td>\n",
       "      <td>109</td>\n",
       "      <td>0.0</td>\n",
       "      <td>0.0</td>\n",
       "      <td>0.0</td>\n",
       "      <td>6/30/2014</td>\n",
       "      <td>7/31/2014</td>\n",
       "      <td>8/31/2014</td>\n",
       "      <td>9/30/2014</td>\n",
       "      <td>74.350</td>\n",
       "      <td>...</td>\n",
       "      <td>1.0</td>\n",
       "      <td>604</td>\n",
       "      <td>40.45</td>\n",
       "      <td>51.86</td>\n",
       "      <td>0.00</td>\n",
       "      <td>0.00</td>\n",
       "      <td>NaN</td>\n",
       "      <td>712.0</td>\n",
       "      <td>540.0</td>\n",
       "      <td>252.0</td>\n",
       "    </tr>\n",
       "  </tbody>\n",
       "</table>\n",
       "<p>5 rows × 222 columns</p>\n",
       "</div>"
      ],
      "text/plain": [
       "    mobile_number  circle_id  loc_og_t2o_mou  std_og_t2o_mou  loc_ic_t2o_mou  \\\n",
       "0      7000842753        109             0.0             0.0             0.0   \n",
       "7      7000701601        109             0.0             0.0             0.0   \n",
       "8      7001524846        109             0.0             0.0             0.0   \n",
       "21     7002124215        109             0.0             0.0             0.0   \n",
       "23     7000887461        109             0.0             0.0             0.0   \n",
       "\n",
       "   last_date_of_month_6 last_date_of_month_7 last_date_of_month_8  \\\n",
       "0             6/30/2014            7/31/2014            8/31/2014   \n",
       "7             6/30/2014            7/31/2014            8/31/2014   \n",
       "8             6/30/2014            7/31/2014            8/31/2014   \n",
       "21            6/30/2014            7/31/2014            8/31/2014   \n",
       "23            6/30/2014            7/31/2014            8/31/2014   \n",
       "\n",
       "   last_date_of_month_9    arpu_6  ...  fb_user_9  aon  aug_vbc_3g  \\\n",
       "0             9/30/2014   197.385  ...        NaN  968       30.40   \n",
       "7             9/30/2014  1069.180  ...        NaN  802       57.74   \n",
       "8             9/30/2014   378.721  ...        NaN  315       21.03   \n",
       "21            9/30/2014   514.453  ...        NaN  720        0.00   \n",
       "23            9/30/2014    74.350  ...        1.0  604       40.45   \n",
       "\n",
       "    jul_vbc_3g  jun_vbc_3g  sep_vbc_3g  total_data_rech_amt_6  \\\n",
       "0         0.00      101.20        3.58                  252.0   \n",
       "7        19.38       18.74        0.00                    NaN   \n",
       "8       910.65      122.16        0.00                    NaN   \n",
       "21        0.00        0.00        0.00                    NaN   \n",
       "23       51.86        0.00        0.00                    NaN   \n",
       "\n",
       "    total_data_rech_amt_7  total_data_rech_amt_8  total_data_rech_amt_9  \n",
       "0                   252.0                  252.0                    NaN  \n",
       "7                     NaN                    NaN                    NaN  \n",
       "8                   354.0                  207.0                    NaN  \n",
       "21                    NaN                    NaN                    NaN  \n",
       "23                  712.0                  540.0                  252.0  \n",
       "\n",
       "[5 rows x 222 columns]"
      ]
     },
     "execution_count": 11,
     "metadata": {},
     "output_type": "execute_result"
    }
   ],
   "source": [
    "tel_churn_data_high_value.head()"
   ]
  },
  {
   "cell_type": "code",
   "execution_count": 12,
   "id": "b3b7c2fc",
   "metadata": {},
   "outputs": [
    {
     "data": {
      "text/plain": [
       "(30001, 222)"
      ]
     },
     "execution_count": 12,
     "metadata": {},
     "output_type": "execute_result"
    }
   ],
   "source": [
    "tel_churn_data_high_value.shape"
   ]
  },
  {
   "cell_type": "markdown",
   "id": "7383989d",
   "metadata": {},
   "source": [
    "### Tag churners and remove attributes of the churn phase"
   ]
  },
  {
   "cell_type": "code",
   "execution_count": 13,
   "id": "7ae33acd",
   "metadata": {},
   "outputs": [],
   "source": [
    "# Tagging churners\n",
    "\n",
    "tel_churn_data_high_value['churn'] = np.where((tel_churn_data_high_value['total_ic_mou_9']==0) & \n",
    "                                              (tel_churn_data_high_value['total_og_mou_9']==0) & \n",
    "                                              (tel_churn_data_high_value['vol_2g_mb_9']==0) & \n",
    "                                              (tel_churn_data_high_value['vol_3g_mb_9']==0), 1, 0)"
   ]
  },
  {
   "cell_type": "code",
   "execution_count": 14,
   "id": "50e6aa2d",
   "metadata": {},
   "outputs": [
    {
     "name": "stdout",
     "output_type": "stream",
     "text": [
      "['last_date_of_month_9', 'arpu_9', 'onnet_mou_9', 'offnet_mou_9', 'roam_ic_mou_9', 'roam_og_mou_9', 'loc_og_t2t_mou_9', 'loc_og_t2m_mou_9', 'loc_og_t2f_mou_9', 'loc_og_t2c_mou_9', 'loc_og_mou_9', 'std_og_t2t_mou_9', 'std_og_t2m_mou_9', 'std_og_t2f_mou_9', 'std_og_t2c_mou_9', 'std_og_mou_9', 'isd_og_mou_9', 'spl_og_mou_9', 'og_others_9', 'total_og_mou_9', 'loc_ic_t2t_mou_9', 'loc_ic_t2m_mou_9', 'loc_ic_t2f_mou_9', 'loc_ic_mou_9', 'std_ic_t2t_mou_9', 'std_ic_t2m_mou_9', 'std_ic_t2f_mou_9', 'std_ic_t2o_mou_9', 'std_ic_mou_9', 'total_ic_mou_9', 'spl_ic_mou_9', 'isd_ic_mou_9', 'ic_others_9', 'total_rech_num_9', 'total_rech_amt_9', 'max_rech_amt_9', 'date_of_last_rech_9', 'last_day_rch_amt_9', 'date_of_last_rech_data_9', 'max_rech_data_9', 'count_rech_2g_9', 'count_rech_3g_9', 'vol_2g_mb_9', 'vol_3g_mb_9', 'arpu_3g_9', 'arpu_2g_9', 'night_pck_user_9', 'monthly_2g_9', 'sachet_2g_9', 'monthly_3g_9', 'sachet_3g_9', 'fb_user_9', 'total_data_rech_amt_9']\n"
     ]
    }
   ],
   "source": [
    "# List out all the columns for churn month(9) and remove them\n",
    "\n",
    "columns_month_9 = [col for col in tel_churn_data_high_value.columns.to_list() if '_9' in col]\n",
    "print(columns_month_9)\n",
    "\n",
    "tel_churn_data_high_value = tel_churn_data_high_value.drop(columns_month_9, axis=1)"
   ]
  },
  {
   "cell_type": "code",
   "execution_count": 15,
   "id": "433e0190",
   "metadata": {},
   "outputs": [
    {
     "data": {
      "text/html": [
       "<div>\n",
       "<style scoped>\n",
       "    .dataframe tbody tr th:only-of-type {\n",
       "        vertical-align: middle;\n",
       "    }\n",
       "\n",
       "    .dataframe tbody tr th {\n",
       "        vertical-align: top;\n",
       "    }\n",
       "\n",
       "    .dataframe thead th {\n",
       "        text-align: right;\n",
       "    }\n",
       "</style>\n",
       "<table border=\"1\" class=\"dataframe\">\n",
       "  <thead>\n",
       "    <tr style=\"text-align: right;\">\n",
       "      <th></th>\n",
       "      <th>mobile_number</th>\n",
       "      <th>circle_id</th>\n",
       "      <th>loc_og_t2o_mou</th>\n",
       "      <th>std_og_t2o_mou</th>\n",
       "      <th>loc_ic_t2o_mou</th>\n",
       "      <th>last_date_of_month_6</th>\n",
       "      <th>last_date_of_month_7</th>\n",
       "      <th>last_date_of_month_8</th>\n",
       "      <th>arpu_6</th>\n",
       "      <th>arpu_7</th>\n",
       "      <th>...</th>\n",
       "      <th>fb_user_8</th>\n",
       "      <th>aon</th>\n",
       "      <th>aug_vbc_3g</th>\n",
       "      <th>jul_vbc_3g</th>\n",
       "      <th>jun_vbc_3g</th>\n",
       "      <th>sep_vbc_3g</th>\n",
       "      <th>total_data_rech_amt_6</th>\n",
       "      <th>total_data_rech_amt_7</th>\n",
       "      <th>total_data_rech_amt_8</th>\n",
       "      <th>churn</th>\n",
       "    </tr>\n",
       "  </thead>\n",
       "  <tbody>\n",
       "    <tr>\n",
       "      <th>0</th>\n",
       "      <td>7000842753</td>\n",
       "      <td>109</td>\n",
       "      <td>0.0</td>\n",
       "      <td>0.0</td>\n",
       "      <td>0.0</td>\n",
       "      <td>6/30/2014</td>\n",
       "      <td>7/31/2014</td>\n",
       "      <td>8/31/2014</td>\n",
       "      <td>197.385</td>\n",
       "      <td>214.816</td>\n",
       "      <td>...</td>\n",
       "      <td>1.0</td>\n",
       "      <td>968</td>\n",
       "      <td>30.40</td>\n",
       "      <td>0.00</td>\n",
       "      <td>101.20</td>\n",
       "      <td>3.58</td>\n",
       "      <td>252.0</td>\n",
       "      <td>252.0</td>\n",
       "      <td>252.0</td>\n",
       "      <td>1</td>\n",
       "    </tr>\n",
       "    <tr>\n",
       "      <th>7</th>\n",
       "      <td>7000701601</td>\n",
       "      <td>109</td>\n",
       "      <td>0.0</td>\n",
       "      <td>0.0</td>\n",
       "      <td>0.0</td>\n",
       "      <td>6/30/2014</td>\n",
       "      <td>7/31/2014</td>\n",
       "      <td>8/31/2014</td>\n",
       "      <td>1069.180</td>\n",
       "      <td>1349.850</td>\n",
       "      <td>...</td>\n",
       "      <td>NaN</td>\n",
       "      <td>802</td>\n",
       "      <td>57.74</td>\n",
       "      <td>19.38</td>\n",
       "      <td>18.74</td>\n",
       "      <td>0.00</td>\n",
       "      <td>NaN</td>\n",
       "      <td>NaN</td>\n",
       "      <td>NaN</td>\n",
       "      <td>1</td>\n",
       "    </tr>\n",
       "    <tr>\n",
       "      <th>8</th>\n",
       "      <td>7001524846</td>\n",
       "      <td>109</td>\n",
       "      <td>0.0</td>\n",
       "      <td>0.0</td>\n",
       "      <td>0.0</td>\n",
       "      <td>6/30/2014</td>\n",
       "      <td>7/31/2014</td>\n",
       "      <td>8/31/2014</td>\n",
       "      <td>378.721</td>\n",
       "      <td>492.223</td>\n",
       "      <td>...</td>\n",
       "      <td>1.0</td>\n",
       "      <td>315</td>\n",
       "      <td>21.03</td>\n",
       "      <td>910.65</td>\n",
       "      <td>122.16</td>\n",
       "      <td>0.00</td>\n",
       "      <td>NaN</td>\n",
       "      <td>354.0</td>\n",
       "      <td>207.0</td>\n",
       "      <td>0</td>\n",
       "    </tr>\n",
       "    <tr>\n",
       "      <th>21</th>\n",
       "      <td>7002124215</td>\n",
       "      <td>109</td>\n",
       "      <td>0.0</td>\n",
       "      <td>0.0</td>\n",
       "      <td>0.0</td>\n",
       "      <td>6/30/2014</td>\n",
       "      <td>7/31/2014</td>\n",
       "      <td>8/31/2014</td>\n",
       "      <td>514.453</td>\n",
       "      <td>597.753</td>\n",
       "      <td>...</td>\n",
       "      <td>NaN</td>\n",
       "      <td>720</td>\n",
       "      <td>0.00</td>\n",
       "      <td>0.00</td>\n",
       "      <td>0.00</td>\n",
       "      <td>0.00</td>\n",
       "      <td>NaN</td>\n",
       "      <td>NaN</td>\n",
       "      <td>NaN</td>\n",
       "      <td>0</td>\n",
       "    </tr>\n",
       "    <tr>\n",
       "      <th>23</th>\n",
       "      <td>7000887461</td>\n",
       "      <td>109</td>\n",
       "      <td>0.0</td>\n",
       "      <td>0.0</td>\n",
       "      <td>0.0</td>\n",
       "      <td>6/30/2014</td>\n",
       "      <td>7/31/2014</td>\n",
       "      <td>8/31/2014</td>\n",
       "      <td>74.350</td>\n",
       "      <td>193.897</td>\n",
       "      <td>...</td>\n",
       "      <td>1.0</td>\n",
       "      <td>604</td>\n",
       "      <td>40.45</td>\n",
       "      <td>51.86</td>\n",
       "      <td>0.00</td>\n",
       "      <td>0.00</td>\n",
       "      <td>NaN</td>\n",
       "      <td>712.0</td>\n",
       "      <td>540.0</td>\n",
       "      <td>0</td>\n",
       "    </tr>\n",
       "  </tbody>\n",
       "</table>\n",
       "<p>5 rows × 170 columns</p>\n",
       "</div>"
      ],
      "text/plain": [
       "    mobile_number  circle_id  loc_og_t2o_mou  std_og_t2o_mou  loc_ic_t2o_mou  \\\n",
       "0      7000842753        109             0.0             0.0             0.0   \n",
       "7      7000701601        109             0.0             0.0             0.0   \n",
       "8      7001524846        109             0.0             0.0             0.0   \n",
       "21     7002124215        109             0.0             0.0             0.0   \n",
       "23     7000887461        109             0.0             0.0             0.0   \n",
       "\n",
       "   last_date_of_month_6 last_date_of_month_7 last_date_of_month_8    arpu_6  \\\n",
       "0             6/30/2014            7/31/2014            8/31/2014   197.385   \n",
       "7             6/30/2014            7/31/2014            8/31/2014  1069.180   \n",
       "8             6/30/2014            7/31/2014            8/31/2014   378.721   \n",
       "21            6/30/2014            7/31/2014            8/31/2014   514.453   \n",
       "23            6/30/2014            7/31/2014            8/31/2014    74.350   \n",
       "\n",
       "      arpu_7  ...  fb_user_8  aon  aug_vbc_3g  jul_vbc_3g  jun_vbc_3g  \\\n",
       "0    214.816  ...        1.0  968       30.40        0.00      101.20   \n",
       "7   1349.850  ...        NaN  802       57.74       19.38       18.74   \n",
       "8    492.223  ...        1.0  315       21.03      910.65      122.16   \n",
       "21   597.753  ...        NaN  720        0.00        0.00        0.00   \n",
       "23   193.897  ...        1.0  604       40.45       51.86        0.00   \n",
       "\n",
       "    sep_vbc_3g  total_data_rech_amt_6  total_data_rech_amt_7  \\\n",
       "0         3.58                  252.0                  252.0   \n",
       "7         0.00                    NaN                    NaN   \n",
       "8         0.00                    NaN                  354.0   \n",
       "21        0.00                    NaN                    NaN   \n",
       "23        0.00                    NaN                  712.0   \n",
       "\n",
       "    total_data_rech_amt_8  churn  \n",
       "0                   252.0      1  \n",
       "7                     NaN      1  \n",
       "8                   207.0      0  \n",
       "21                    NaN      0  \n",
       "23                  540.0      0  \n",
       "\n",
       "[5 rows x 170 columns]"
      ]
     },
     "execution_count": 15,
     "metadata": {},
     "output_type": "execute_result"
    }
   ],
   "source": [
    "tel_churn_data_high_value.head()"
   ]
  },
  {
   "cell_type": "code",
   "execution_count": 16,
   "id": "9470df7f",
   "metadata": {},
   "outputs": [
    {
     "data": {
      "text/plain": [
       "(30001, 170)"
      ]
     },
     "execution_count": 16,
     "metadata": {},
     "output_type": "execute_result"
    }
   ],
   "source": [
    "tel_churn_data_high_value.shape"
   ]
  },
  {
   "cell_type": "code",
   "execution_count": 17,
   "id": "937dfa3b",
   "metadata": {},
   "outputs": [
    {
     "data": {
      "text/plain": [
       "0    91.863605\n",
       "1     8.136395\n",
       "Name: churn, dtype: float64"
      ]
     },
     "execution_count": 17,
     "metadata": {},
     "output_type": "execute_result"
    }
   ],
   "source": [
    "# checking churn percentage\n",
    "\n",
    "tel_churn_data_high_value['churn'].value_counts()/len(tel_churn_data_high_value)*100\n",
    "#round(100*(tel_churn_data_high_value['churn'].mean()),2)"
   ]
  },
  {
   "cell_type": "markdown",
   "id": "886c3f29",
   "metadata": {},
   "source": [
    "## Step 3: Data Cleaning"
   ]
  },
  {
   "cell_type": "markdown",
   "id": "0856dc0b",
   "metadata": {},
   "source": [
    "### Missing values handling"
   ]
  },
  {
   "cell_type": "code",
   "execution_count": 18,
   "id": "b923463c",
   "metadata": {},
   "outputs": [
    {
     "data": {
      "text/plain": [
       "date_of_last_rech_data_8    46.83\n",
       "count_rech_3g_8             46.83\n",
       "count_rech_2g_8             46.83\n",
       "arpu_3g_8                   46.83\n",
       "total_data_rech_amt_8       46.83\n",
       "                            ...  \n",
       "vol_2g_mb_6                  0.00\n",
       "vol_2g_mb_7                  0.00\n",
       "vol_2g_mb_8                  0.00\n",
       "vol_3g_mb_6                  0.00\n",
       "churn                        0.00\n",
       "Length: 170, dtype: float64"
      ]
     },
     "execution_count": 18,
     "metadata": {},
     "output_type": "execute_result"
    }
   ],
   "source": [
    "# Checking for missing values\n",
    "missing_values = round(tel_churn_data_high_value.isna().sum() / len(tel_churn_data_high_value) * 100, 2).sort_values(ascending=False)\n",
    "missing_values"
   ]
  },
  {
   "cell_type": "code",
   "execution_count": 19,
   "id": "10f63b06",
   "metadata": {},
   "outputs": [
    {
     "name": "stdout",
     "output_type": "stream",
     "text": [
      "['date_of_last_rech_data_8', 'count_rech_3g_8', 'count_rech_2g_8', 'arpu_3g_8', 'total_data_rech_amt_8', 'arpu_2g_8', 'fb_user_8', 'max_rech_data_8', 'night_pck_user_8', 'date_of_last_rech_data_6', 'count_rech_3g_6', 'fb_user_6', 'total_data_rech_amt_6', 'max_rech_data_6', 'night_pck_user_6', 'arpu_2g_6', 'arpu_3g_6', 'count_rech_2g_6', 'arpu_3g_7', 'fb_user_7', 'date_of_last_rech_data_7', 'max_rech_data_7', 'count_rech_2g_7', 'count_rech_3g_7', 'night_pck_user_7', 'total_data_rech_amt_7', 'arpu_2g_7']\n"
     ]
    },
    {
     "data": {
      "text/plain": [
       "(30001, 143)"
      ]
     },
     "execution_count": 19,
     "metadata": {},
     "output_type": "execute_result"
    }
   ],
   "source": [
    "# removing columns with more than 40% missing values\n",
    "\n",
    "# Select columns with more than 40% missing values\n",
    "drop_cols = missing_values[missing_values > 40].index.tolist()\n",
    "print(drop_cols)\n",
    "\n",
    "# Drop columns > 40% missing\n",
    "tel_churn_data_high_value.drop(drop_cols, axis=1, inplace=True)\n",
    "tel_churn_data_high_value.shape"
   ]
  },
  {
   "cell_type": "code",
   "execution_count": 20,
   "id": "422d1624",
   "metadata": {},
   "outputs": [
    {
     "data": {
      "text/plain": [
       "loc_ic_mou_8          3.91\n",
       "og_others_8           3.91\n",
       "loc_og_t2f_mou_8      3.91\n",
       "loc_ic_t2t_mou_8      3.91\n",
       "spl_og_mou_8          3.91\n",
       "                      ... \n",
       "max_rech_amt_6        0.00\n",
       "max_rech_amt_7        0.00\n",
       "max_rech_amt_8        0.00\n",
       "last_day_rch_amt_6    0.00\n",
       "churn                 0.00\n",
       "Length: 143, dtype: float64"
      ]
     },
     "execution_count": 20,
     "metadata": {},
     "output_type": "execute_result"
    }
   ],
   "source": [
    "# Re-checking missing values\n",
    "round(tel_churn_data_high_value.isna().sum() / len(tel_churn_data_high_value) * 100, 2).sort_values(ascending=False)"
   ]
  },
  {
   "cell_type": "code",
   "execution_count": 21,
   "id": "0e365ea8",
   "metadata": {},
   "outputs": [],
   "source": [
    "# Drop rows with missing values\n",
    "\n",
    "for col in tel_churn_data_high_value.columns:\n",
    "    tel_churn_data_high_value = tel_churn_data_high_value[~tel_churn_data_high_value[col].isna()]"
   ]
  },
  {
   "cell_type": "code",
   "execution_count": 22,
   "id": "cd4c8cc7",
   "metadata": {},
   "outputs": [
    {
     "data": {
      "text/plain": [
       "(28163, 143)"
      ]
     },
     "execution_count": 22,
     "metadata": {},
     "output_type": "execute_result"
    }
   ],
   "source": [
    "tel_churn_data_high_value.shape"
   ]
  },
  {
   "cell_type": "code",
   "execution_count": 23,
   "id": "587fb797",
   "metadata": {},
   "outputs": [
    {
     "data": {
      "text/plain": [
       "mobile_number       0.0\n",
       "isd_ic_mou_6        0.0\n",
       "total_ic_mou_6      0.0\n",
       "total_ic_mou_7      0.0\n",
       "total_ic_mou_8      0.0\n",
       "                   ... \n",
       "std_og_t2c_mou_7    0.0\n",
       "std_og_t2c_mou_8    0.0\n",
       "std_og_mou_6        0.0\n",
       "std_og_mou_7        0.0\n",
       "churn               0.0\n",
       "Length: 143, dtype: float64"
      ]
     },
     "execution_count": 23,
     "metadata": {},
     "output_type": "execute_result"
    }
   ],
   "source": [
    "# Re-check missing values\n",
    "round(tel_churn_data_high_value.isna().sum() / len(tel_churn_data_high_value) * 100, 2).sort_values(ascending=False)"
   ]
  },
  {
   "cell_type": "markdown",
   "id": "50189040",
   "metadata": {},
   "source": [
    "### Unique values handling"
   ]
  },
  {
   "cell_type": "code",
   "execution_count": 24,
   "id": "8d977e72",
   "metadata": {},
   "outputs": [
    {
     "data": {
      "text/plain": [
       "(28163, 130)"
      ]
     },
     "execution_count": 24,
     "metadata": {},
     "output_type": "execute_result"
    }
   ],
   "source": [
    "# lets check the unique value columns and drop them from dataset\n",
    "\n",
    "for col in tel_churn_data_high_value.columns:\n",
    "    if tel_churn_data_high_value[col].nunique() == 1:\n",
    "        \n",
    "        tel_churn_data_high_value.drop(col,axis=1,inplace = True)\n",
    "\n",
    "tel_churn_data_high_value.shape"
   ]
  },
  {
   "cell_type": "markdown",
   "id": "34548cdc",
   "metadata": {},
   "source": [
    "### Date columns handling"
   ]
  },
  {
   "cell_type": "code",
   "execution_count": 25,
   "id": "e553bfc5",
   "metadata": {},
   "outputs": [
    {
     "name": "stdout",
     "output_type": "stream",
     "text": [
      "date_of_last_rech_6    6/27/2014\n",
      "date_of_last_rech_7    7/25/2014\n",
      "date_of_last_rech_8    8/26/2014\n",
      "Name: 7, dtype: object\n"
     ]
    }
   ],
   "source": [
    "# lets check for columns that can be changed to integers, floats or date types\n",
    "cols_types = tel_churn_data_high_value.select_dtypes(include=['object'])\n",
    "print(cols_types.iloc[0])\n"
   ]
  },
  {
   "cell_type": "code",
   "execution_count": 26,
   "id": "26dcf6e3",
   "metadata": {},
   "outputs": [
    {
     "data": {
      "text/plain": [
       "(28163, 127)"
      ]
     },
     "execution_count": 26,
     "metadata": {},
     "output_type": "execute_result"
    }
   ],
   "source": [
    "cols_datetime = [\"date_of_last_rech_6\",\"date_of_last_rech_7\",\"date_of_last_rech_8\"]\n",
    "\n",
    "tel_churn_data_high_value.drop(cols_datetime, axis=1, inplace = True)\n",
    "tel_churn_data_high_value.shape"
   ]
  },
  {
   "cell_type": "markdown",
   "id": "ee1a614f",
   "metadata": {},
   "source": [
    "## Step 4: Deriving new features"
   ]
  },
  {
   "cell_type": "code",
   "execution_count": 27,
   "id": "e5d05687",
   "metadata": {},
   "outputs": [
    {
     "name": "stdout",
     "output_type": "stream",
     "text": [
      "(28163, 127)\n"
     ]
    },
    {
     "data": {
      "text/html": [
       "<div>\n",
       "<style scoped>\n",
       "    .dataframe tbody tr th:only-of-type {\n",
       "        vertical-align: middle;\n",
       "    }\n",
       "\n",
       "    .dataframe tbody tr th {\n",
       "        vertical-align: top;\n",
       "    }\n",
       "\n",
       "    .dataframe thead th {\n",
       "        text-align: right;\n",
       "    }\n",
       "</style>\n",
       "<table border=\"1\" class=\"dataframe\">\n",
       "  <thead>\n",
       "    <tr style=\"text-align: right;\">\n",
       "      <th></th>\n",
       "      <th>mobile_number</th>\n",
       "      <th>arpu_6</th>\n",
       "      <th>arpu_7</th>\n",
       "      <th>arpu_8</th>\n",
       "      <th>onnet_mou_6</th>\n",
       "      <th>onnet_mou_7</th>\n",
       "      <th>onnet_mou_8</th>\n",
       "      <th>offnet_mou_6</th>\n",
       "      <th>offnet_mou_7</th>\n",
       "      <th>offnet_mou_8</th>\n",
       "      <th>...</th>\n",
       "      <th>monthly_3g_8</th>\n",
       "      <th>sachet_3g_6</th>\n",
       "      <th>sachet_3g_7</th>\n",
       "      <th>sachet_3g_8</th>\n",
       "      <th>aon</th>\n",
       "      <th>aug_vbc_3g</th>\n",
       "      <th>jul_vbc_3g</th>\n",
       "      <th>jun_vbc_3g</th>\n",
       "      <th>sep_vbc_3g</th>\n",
       "      <th>churn</th>\n",
       "    </tr>\n",
       "  </thead>\n",
       "  <tbody>\n",
       "    <tr>\n",
       "      <th>7</th>\n",
       "      <td>7000701601</td>\n",
       "      <td>1069.180</td>\n",
       "      <td>1349.850</td>\n",
       "      <td>3171.480</td>\n",
       "      <td>57.84</td>\n",
       "      <td>54.68</td>\n",
       "      <td>52.29</td>\n",
       "      <td>453.43</td>\n",
       "      <td>567.16</td>\n",
       "      <td>325.91</td>\n",
       "      <td>...</td>\n",
       "      <td>0</td>\n",
       "      <td>0</td>\n",
       "      <td>0</td>\n",
       "      <td>0</td>\n",
       "      <td>802</td>\n",
       "      <td>57.74</td>\n",
       "      <td>19.38</td>\n",
       "      <td>18.74</td>\n",
       "      <td>0.0</td>\n",
       "      <td>1</td>\n",
       "    </tr>\n",
       "    <tr>\n",
       "      <th>8</th>\n",
       "      <td>7001524846</td>\n",
       "      <td>378.721</td>\n",
       "      <td>492.223</td>\n",
       "      <td>137.362</td>\n",
       "      <td>413.69</td>\n",
       "      <td>351.03</td>\n",
       "      <td>35.08</td>\n",
       "      <td>94.66</td>\n",
       "      <td>80.63</td>\n",
       "      <td>136.48</td>\n",
       "      <td>...</td>\n",
       "      <td>0</td>\n",
       "      <td>0</td>\n",
       "      <td>0</td>\n",
       "      <td>0</td>\n",
       "      <td>315</td>\n",
       "      <td>21.03</td>\n",
       "      <td>910.65</td>\n",
       "      <td>122.16</td>\n",
       "      <td>0.0</td>\n",
       "      <td>0</td>\n",
       "    </tr>\n",
       "    <tr>\n",
       "      <th>21</th>\n",
       "      <td>7002124215</td>\n",
       "      <td>514.453</td>\n",
       "      <td>597.753</td>\n",
       "      <td>637.760</td>\n",
       "      <td>102.41</td>\n",
       "      <td>132.11</td>\n",
       "      <td>85.14</td>\n",
       "      <td>757.93</td>\n",
       "      <td>896.68</td>\n",
       "      <td>983.39</td>\n",
       "      <td>...</td>\n",
       "      <td>0</td>\n",
       "      <td>0</td>\n",
       "      <td>0</td>\n",
       "      <td>0</td>\n",
       "      <td>720</td>\n",
       "      <td>0.00</td>\n",
       "      <td>0.00</td>\n",
       "      <td>0.00</td>\n",
       "      <td>0.0</td>\n",
       "      <td>0</td>\n",
       "    </tr>\n",
       "    <tr>\n",
       "      <th>23</th>\n",
       "      <td>7000887461</td>\n",
       "      <td>74.350</td>\n",
       "      <td>193.897</td>\n",
       "      <td>366.966</td>\n",
       "      <td>48.96</td>\n",
       "      <td>50.66</td>\n",
       "      <td>33.58</td>\n",
       "      <td>85.41</td>\n",
       "      <td>89.36</td>\n",
       "      <td>205.89</td>\n",
       "      <td>...</td>\n",
       "      <td>1</td>\n",
       "      <td>0</td>\n",
       "      <td>0</td>\n",
       "      <td>1</td>\n",
       "      <td>604</td>\n",
       "      <td>40.45</td>\n",
       "      <td>51.86</td>\n",
       "      <td>0.00</td>\n",
       "      <td>0.0</td>\n",
       "      <td>0</td>\n",
       "    </tr>\n",
       "    <tr>\n",
       "      <th>33</th>\n",
       "      <td>7000149764</td>\n",
       "      <td>977.020</td>\n",
       "      <td>2362.833</td>\n",
       "      <td>409.230</td>\n",
       "      <td>0.00</td>\n",
       "      <td>0.00</td>\n",
       "      <td>0.00</td>\n",
       "      <td>0.00</td>\n",
       "      <td>0.00</td>\n",
       "      <td>0.00</td>\n",
       "      <td>...</td>\n",
       "      <td>1</td>\n",
       "      <td>1</td>\n",
       "      <td>3</td>\n",
       "      <td>0</td>\n",
       "      <td>1328</td>\n",
       "      <td>358.10</td>\n",
       "      <td>2706.83</td>\n",
       "      <td>1714.67</td>\n",
       "      <td>0.0</td>\n",
       "      <td>0</td>\n",
       "    </tr>\n",
       "  </tbody>\n",
       "</table>\n",
       "<p>5 rows × 127 columns</p>\n",
       "</div>"
      ],
      "text/plain": [
       "    mobile_number    arpu_6    arpu_7    arpu_8  onnet_mou_6  onnet_mou_7  \\\n",
       "7      7000701601  1069.180  1349.850  3171.480        57.84        54.68   \n",
       "8      7001524846   378.721   492.223   137.362       413.69       351.03   \n",
       "21     7002124215   514.453   597.753   637.760       102.41       132.11   \n",
       "23     7000887461    74.350   193.897   366.966        48.96        50.66   \n",
       "33     7000149764   977.020  2362.833   409.230         0.00         0.00   \n",
       "\n",
       "    onnet_mou_8  offnet_mou_6  offnet_mou_7  offnet_mou_8  ...  monthly_3g_8  \\\n",
       "7         52.29        453.43        567.16        325.91  ...             0   \n",
       "8         35.08         94.66         80.63        136.48  ...             0   \n",
       "21        85.14        757.93        896.68        983.39  ...             0   \n",
       "23        33.58         85.41         89.36        205.89  ...             1   \n",
       "33         0.00          0.00          0.00          0.00  ...             1   \n",
       "\n",
       "    sachet_3g_6  sachet_3g_7  sachet_3g_8   aon  aug_vbc_3g  jul_vbc_3g  \\\n",
       "7             0            0            0   802       57.74       19.38   \n",
       "8             0            0            0   315       21.03      910.65   \n",
       "21            0            0            0   720        0.00        0.00   \n",
       "23            0            0            1   604       40.45       51.86   \n",
       "33            1            3            0  1328      358.10     2706.83   \n",
       "\n",
       "    jun_vbc_3g  sep_vbc_3g  churn  \n",
       "7        18.74         0.0      1  \n",
       "8       122.16         0.0      0  \n",
       "21        0.00         0.0      0  \n",
       "23        0.00         0.0      0  \n",
       "33     1714.67         0.0      0  \n",
       "\n",
       "[5 rows x 127 columns]"
      ]
     },
     "execution_count": 27,
     "metadata": {},
     "output_type": "execute_result"
    }
   ],
   "source": [
    "tel_churn_data = tel_churn_data_high_value.copy()\n",
    "\n",
    "print(tel_churn_data.shape)\n",
    "\n",
    "tel_churn_data.head()"
   ]
  },
  {
   "cell_type": "markdown",
   "id": "055d0d95",
   "metadata": {},
   "source": [
    "### Lets derive some new features that will show us difference between good phase and action phase "
   ]
  },
  {
   "cell_type": "code",
   "execution_count": 28,
   "id": "8adbd68a",
   "metadata": {},
   "outputs": [],
   "source": [
    "tel_churn_data['arpu_diff'] = tel_churn_data.arpu_8 - ((tel_churn_data.arpu_6 + tel_churn_data.arpu_7)/2)\n",
    "tel_churn_data['total_og_mou_diff'] = tel_churn_data.total_og_mou_8 - ((tel_churn_data.total_og_mou_6 + tel_churn_data.total_og_mou_7)/2)\n",
    "tel_churn_data['total_ic_mou_diff'] = tel_churn_data.total_ic_mou_8 - ((tel_churn_data.total_ic_mou_6 + tel_churn_data.total_ic_mou_7)/2)\n",
    "tel_churn_data['total_rech_num_diff'] = tel_churn_data.total_rech_num_8 - ((tel_churn_data.total_rech_num_6 + tel_churn_data.total_rech_num_7)/2)\n",
    "tel_churn_data['total_rech_amt_diff'] = tel_churn_data.total_rech_amt_8 - ((tel_churn_data.total_rech_amt_6 + tel_churn_data.total_rech_amt_7)/2)\n",
    "tel_churn_data['vol_2g_mb_diff'] = tel_churn_data.vol_2g_mb_8 - ((tel_churn_data.vol_2g_mb_6 + tel_churn_data.vol_2g_mb_7)/2)\n",
    "tel_churn_data['vol_3g_mb_diff'] = tel_churn_data.vol_3g_mb_8 - ((tel_churn_data.vol_3g_mb_6 + tel_churn_data.vol_3g_mb_7)/2)\n",
    "tel_churn_data['vbc_3g_diff'] = tel_churn_data.aug_vbc_3g - ((tel_churn_data.jun_vbc_3g + tel_churn_data.jul_vbc_3g)/2)\n"
   ]
  },
  {
   "cell_type": "code",
   "execution_count": 29,
   "id": "4ebae98e",
   "metadata": {},
   "outputs": [
    {
     "data": {
      "text/plain": [
       "(28163, 111)"
      ]
     },
     "execution_count": 29,
     "metadata": {},
     "output_type": "execute_result"
    }
   ],
   "source": [
    "# Lets drop all the columns which are used for deriving new features. \n",
    "\n",
    "drop_col_list = [\"arpu_6\", \"arpu_7\", \"arpu_8\" , \"total_og_mou_8\", \"total_og_mou_7\", \"total_og_mou_6\", \n",
    "                 \"total_ic_mou_8\", \"total_ic_mou_7\", \"total_ic_mou_6\", \"total_rech_num_8\", \"total_rech_num_7\", \"total_rech_num_6\",\n",
    "                 \"total_rech_amt_8\", \"total_rech_amt_7\", \"total_rech_amt_6\",\n",
    "                 \"vol_2g_mb_8\", \"vol_2g_mb_7\", \"vol_2g_mb_6\", \"vol_3g_mb_8\", \"vol_3g_mb_7\", \"vol_3g_mb_6\", \n",
    "                 \"jun_vbc_3g\", \"jul_vbc_3g\",\"aug_vbc_3g\"]\n",
    "\n",
    "\n",
    "tel_churn_data.drop(drop_col_list, axis=1, inplace=True)\n",
    "tel_churn_data.shape"
   ]
  },
  {
   "cell_type": "code",
   "execution_count": 30,
   "id": "24a3cf1c",
   "metadata": {},
   "outputs": [],
   "source": [
    "# Checking decrease in action phase compared to good phase\n",
    "\n",
    "tel_churn_data['decrease_arpu'] = np.where(tel_churn_data['arpu_diff'] < 0 , 1, 0)\n",
    "tel_churn_data['decrease_total_og_mou'] = np.where(tel_churn_data['total_og_mou_diff'] < 0 , 1, 0)\n",
    "tel_churn_data['decrease_total_ic_mou'] = np.where(tel_churn_data['total_ic_mou_diff'] < 0 , 1, 0)\n",
    "tel_churn_data['decrease_total_rech_num'] = np.where(tel_churn_data['total_rech_num_diff'] < 0 , 1, 0)\n",
    "tel_churn_data['decrease_total_rech_amt'] = np.where(tel_churn_data['total_rech_amt_diff'] < 0 , 1, 0)\n",
    "tel_churn_data['decrease_vol_2g_mb'] = np.where(tel_churn_data['vol_2g_mb_diff'] < 0 , 1, 0)\n",
    "tel_churn_data['decrease_vol_3g_mb'] = np.where(tel_churn_data['vol_3g_mb_diff'] < 0 , 1, 0)\n",
    "tel_churn_data['decrease_vbc_3g'] = np.where(tel_churn_data['vbc_3g_diff'] < 0 , 1, 0)"
   ]
  },
  {
   "cell_type": "markdown",
   "id": "6f7a9b04",
   "metadata": {},
   "source": [
    "## Step 5: Exploratory data analysis (EDA) "
   ]
  },
  {
   "cell_type": "markdown",
   "id": "8e897307",
   "metadata": {},
   "source": [
    "### Univariate and Bivariate Analysis"
   ]
  },
  {
   "cell_type": "markdown",
   "id": "1597618e",
   "metadata": {},
   "source": [
    "#### Churn rate vs Decrease in Average revenue per user"
   ]
  },
  {
   "cell_type": "code",
   "execution_count": 31,
   "id": "a131cd70",
   "metadata": {},
   "outputs": [
    {
     "data": {
      "image/png": "[encoded data removed]",
      "text/plain": [
       "<Figure size 640x480 with 1 Axes>"
      ]
     },
     "metadata": {},
     "output_type": "display_data"
    }
   ],
   "source": [
    "tel_churn_data.pivot_table(values='churn', index = \"decrease_arpu\", aggfunc='mean').plot.bar()\n",
    "plt.xlabel(\"Decresed Average revenue per user(1) or not(0) \")\n",
    "plt.ylabel(\"Churn rate\")\n",
    "plt.show()"
   ]
  },
  {
   "cell_type": "markdown",
   "id": "fa841e7f",
   "metadata": {},
   "source": [
    "* Insight: We can see that the churn rate is more for the customers, whose average revenue decreased in the action phase than the good phase."
   ]
  },
  {
   "cell_type": "markdown",
   "id": "9e3c1466",
   "metadata": {},
   "source": [
    "#### Churn rate vs Decresed total outgoing minutes"
   ]
  },
  {
   "cell_type": "code",
   "execution_count": 32,
   "id": "723a79cf",
   "metadata": {},
   "outputs": [
    {
     "data": {
      "image/png": "[encoded data removed]",
      "text/plain": [
       "<Figure size 640x480 with 1 Axes>"
      ]
     },
     "metadata": {},
     "output_type": "display_data"
    }
   ],
   "source": [
    "tel_churn_data.pivot_table(values='churn', index = \"decrease_total_og_mou\", aggfunc='mean').plot.bar()\n",
    "plt.xlabel(\"Decresed total outgoing minutes(1) or not(0) \")\n",
    "plt.ylabel(\"Churn rate\")\n",
    "plt.show()"
   ]
  },
  {
   "cell_type": "markdown",
   "id": "79305b3b",
   "metadata": {},
   "source": [
    "* Insight :  we can see that churn rate is much more for the customers whose outgoing minutes are reduced in action phase."
   ]
  },
  {
   "cell_type": "markdown",
   "id": "19c4bc34",
   "metadata": {},
   "source": [
    "#### Churn rate vs Decresed total incoming minutes"
   ]
  },
  {
   "cell_type": "code",
   "execution_count": 33,
   "id": "75fd55a5",
   "metadata": {},
   "outputs": [
    {
     "data": {
      "image/png": "[encoded data removed]",
      "text/plain": [
       "<Figure size 640x480 with 1 Axes>"
      ]
     },
     "metadata": {},
     "output_type": "display_data"
    }
   ],
   "source": [
    "tel_churn_data.pivot_table(values='churn', index = \"decrease_total_ic_mou\", aggfunc='mean').plot.bar()\n",
    "plt.xlabel(\"Decresed total incoming minutes(1) or not(0) \")\n",
    "plt.ylabel(\"Churn rate\")\n",
    "plt.show()"
   ]
  },
  {
   "cell_type": "markdown",
   "id": "b192646d",
   "metadata": {},
   "source": [
    "* Insight: Same for the decreased incoming call minutes in action phase, churn rate is high."
   ]
  },
  {
   "cell_type": "markdown",
   "id": "322697e2",
   "metadata": {},
   "source": [
    "#### Churn rate vs Decresed total number of recharge"
   ]
  },
  {
   "cell_type": "code",
   "execution_count": 34,
   "id": "e38263b7",
   "metadata": {},
   "outputs": [
    {
     "data": {
      "image/png": "[encoded data removed]",
      "text/plain": [
       "<Figure size 640x480 with 1 Axes>"
      ]
     },
     "metadata": {},
     "output_type": "display_data"
    }
   ],
   "source": [
    "tel_churn_data.pivot_table(values='churn', index = \"decrease_total_rech_num\", aggfunc='mean').plot.bar()\n",
    "plt.xlabel(\"Decresed total number of recharge (1) or not(0) \")\n",
    "plt.ylabel(\"Churn rate\")\n",
    "plt.show()"
   ]
  },
  {
   "cell_type": "markdown",
   "id": "9075313b",
   "metadata": {},
   "source": [
    "* Insight: customers who have not rechared for more number of times has higher chances of churning."
   ]
  },
  {
   "cell_type": "markdown",
   "id": "c254fb0e",
   "metadata": {},
   "source": [
    "#### Churn rate vs Decresed total recharge amount "
   ]
  },
  {
   "cell_type": "code",
   "execution_count": 35,
   "id": "8431decc",
   "metadata": {},
   "outputs": [
    {
     "data": {
      "image/png": "[encoded data removed]",
      "text/plain": [
       "<Figure size 640x480 with 1 Axes>"
      ]
     },
     "metadata": {},
     "output_type": "display_data"
    }
   ],
   "source": [
    "tel_churn_data.pivot_table(values='churn', index = \"decrease_total_rech_amt\", aggfunc='mean').plot.bar()\n",
    "plt.xlabel(\"Decresed total recharge amount (1) or not(0) \")\n",
    "plt.ylabel(\"Churn rate\")\n",
    "plt.show()"
   ]
  },
  {
   "cell_type": "markdown",
   "id": "018c2025",
   "metadata": {},
   "source": [
    "* Insight: As number of recharges are decreasing, recharge amount is also decreasing in action phase for churned customers."
   ]
  },
  {
   "cell_type": "markdown",
   "id": "7d7d743a",
   "metadata": {},
   "source": [
    "#### Churn rate vs Decresed 2g data usage"
   ]
  },
  {
   "cell_type": "code",
   "execution_count": 36,
   "id": "c694b872",
   "metadata": {},
   "outputs": [
    {
     "data": {
      "image/png": "[encoded data removed]",
      "text/plain": [
       "<Figure size 640x480 with 1 Axes>"
      ]
     },
     "metadata": {},
     "output_type": "display_data"
    }
   ],
   "source": [
    "tel_churn_data.pivot_table(values='churn', index = \"decrease_vol_2g_mb\", aggfunc='mean').plot.bar()\n",
    "plt.xlabel(\"Decresed 2g data usage(1) or not(0) \")\n",
    "plt.ylabel(\"Churn rate\")\n",
    "plt.show()"
   ]
  },
  {
   "cell_type": "markdown",
   "id": "61a774f1",
   "metadata": {},
   "source": [
    "#### Churn rate vs Decresed 3g data usage"
   ]
  },
  {
   "cell_type": "code",
   "execution_count": 37,
   "id": "cbc0395b",
   "metadata": {},
   "outputs": [
    {
     "data": {
      "image/png": "[encoded data removed]",
      "text/plain": [
       "<Figure size 640x480 with 1 Axes>"
      ]
     },
     "metadata": {},
     "output_type": "display_data"
    }
   ],
   "source": [
    "tel_churn_data.pivot_table(values='churn', index = \"decrease_vol_3g_mb\", aggfunc='mean').plot.bar()\n",
    "plt.xlabel(\"Decresed 3g data usage(1) or not(0) \")\n",
    "plt.ylabel(\"Churn rate\")\n",
    "plt.show()"
   ]
  },
  {
   "cell_type": "markdown",
   "id": "efd56ed2",
   "metadata": {},
   "source": [
    "* Insights: 2g and 3g data usage is not making any significant pattern for churners. \n",
    "    even if 2g and 3g data usage is decreased for customers, they are not churning."
   ]
  },
  {
   "cell_type": "markdown",
   "id": "3e471c54",
   "metadata": {},
   "source": [
    "#### Analysis of churn rate by the decreasing recharge amount and number of recharge in the action phase"
   ]
  },
  {
   "cell_type": "code",
   "execution_count": 38,
   "id": "4be890d0",
   "metadata": {},
   "outputs": [
    {
     "data": {
      "image/png": "[encoded data removed]",
      "text/plain": [
       "<Figure size 640x480 with 1 Axes>"
      ]
     },
     "metadata": {},
     "output_type": "display_data"
    }
   ],
   "source": [
    "tel_churn_data.pivot_table(values='churn', index='decrease_total_rech_amt', columns='decrease_total_rech_num', aggfunc='mean').plot.bar()\n",
    "plt.ylabel('churn rate')\n",
    "plt.show()"
   ]
  },
  {
   "cell_type": "markdown",
   "id": "857af82a",
   "metadata": {},
   "source": [
    "* Insight: We can see from the above plot, that the churn rate is more for the customers, whose recharge amount as well as number of recharge have decreased in the action phase than the good phase."
   ]
  },
  {
   "cell_type": "markdown",
   "id": "de06b92f",
   "metadata": {},
   "source": [
    "#### Analysis of churn rate by the decreasing recharge amount and volume based cost in the action phase"
   ]
  },
  {
   "cell_type": "code",
   "execution_count": 39,
   "id": "d3202be8",
   "metadata": {},
   "outputs": [
    {
     "data": {
      "image/png": "[encoded data removed]",
      "text/plain": [
       "<Figure size 640x480 with 1 Axes>"
      ]
     },
     "metadata": {},
     "output_type": "display_data"
    }
   ],
   "source": [
    "tel_churn_data.pivot_table(values='churn', index='decrease_total_rech_amt', columns='decrease_vbc_3g', aggfunc='mean').plot.bar()\n",
    "plt.ylabel('churn rate')\n",
    "plt.show()"
   ]
  },
  {
   "cell_type": "markdown",
   "id": "995cfca8",
   "metadata": {},
   "source": [
    "* Insight: Here, also we can see that the churn rate is more for the customers, whose recharge amount is decreased along with the volume based cost is increased in the action month."
   ]
  },
  {
   "cell_type": "markdown",
   "id": "49163d93",
   "metadata": {},
   "source": [
    "#### Age on networn vs Churn rate"
   ]
  },
  {
   "cell_type": "code",
   "execution_count": 40,
   "id": "0834fb2e",
   "metadata": {},
   "outputs": [
    {
     "data": {
      "text/plain": [
       "Text(0, 0.5, 'Age on network')"
      ]
     },
     "execution_count": 40,
     "metadata": {},
     "output_type": "execute_result"
    },
    {
     "data": {
      "image/png": "[encoded data removed]",
      "text/plain": [
       "<Figure size 640x480 with 1 Axes>"
      ]
     },
     "metadata": {},
     "output_type": "display_data"
    }
   ],
   "source": [
    "sns.boxplot(tel_churn_data[\"churn\"], tel_churn_data[\"aon\"])\n",
    "plt.xlabel(\"churn\")\n",
    "plt.ylabel(\"Age on network\")"
   ]
  },
  {
   "cell_type": "markdown",
   "id": "441f5274",
   "metadata": {},
   "source": [
    "* Insight: from the above plot we can say that age on network for the non churn customers is varying in large range compared to churners.\n",
    "    Average age on network of churners is low. "
   ]
  },
  {
   "cell_type": "code",
   "execution_count": 41,
   "id": "1851b120",
   "metadata": {},
   "outputs": [
    {
     "data": {
      "text/plain": [
       "(28163, 111)"
      ]
     },
     "execution_count": 41,
     "metadata": {},
     "output_type": "execute_result"
    }
   ],
   "source": [
    "# Dropping derived columns\n",
    "\n",
    "temp_derived_cols = [\"decrease_arpu\", \"decrease_total_og_mou\", \"decrease_total_ic_mou\", \"decrease_total_rech_num\",\n",
    "               \"decrease_total_rech_amt\", \"decrease_vol_2g_mb\", \"decrease_vol_3g_mb\", \"decrease_vbc_3g\"]\n",
    "\n",
    "tel_churn_data.drop(temp_derived_cols, axis=1, inplace = True)\n",
    "tel_churn_data.shape"
   ]
  },
  {
   "cell_type": "markdown",
   "id": "076759fb",
   "metadata": {},
   "source": [
    "## Step 5: Traint-Test Split and Data Imbalance Handling with SMOTE  "
   ]
  },
  {
   "cell_type": "markdown",
   "id": "3efed2dd",
   "metadata": {},
   "source": [
    "### Train - Test Split"
   ]
  },
  {
   "cell_type": "code",
   "execution_count": 42,
   "id": "c208170d",
   "metadata": {},
   "outputs": [],
   "source": [
    "# Import library\n",
    "from sklearn.model_selection import train_test_split"
   ]
  },
  {
   "cell_type": "code",
   "execution_count": 43,
   "id": "50c38fc1",
   "metadata": {},
   "outputs": [],
   "source": [
    "# Putting feature variables into X\n",
    "X = tel_churn_data.drop(['mobile_number','churn'], axis=1)\n",
    "\n",
    "# Putting target variable to y\n",
    "y = tel_churn_data['churn']\n",
    "\n",
    "# Splitting data into train and test set 75:25\n",
    "X_train, X_test, y_train, y_test = train_test_split(X, y, train_size=0.75, test_size=0.25, random_state=100)"
   ]
  },
  {
   "cell_type": "code",
   "execution_count": 44,
   "id": "7638ddfd",
   "metadata": {},
   "outputs": [
    {
     "data": {
      "text/plain": [
       "((21122, 109), (7041, 109), (21122,), (7041,))"
      ]
     },
     "execution_count": 44,
     "metadata": {},
     "output_type": "execute_result"
    }
   ],
   "source": [
    "X_train.shape, X_test.shape, y_train.shape, y_test.shape"
   ]
  },
  {
   "cell_type": "markdown",
   "id": "9c04d9da",
   "metadata": {},
   "source": [
    "### Handling Class Imbalance"
   ]
  },
  {
   "cell_type": "code",
   "execution_count": 45,
   "id": "41717537",
   "metadata": {},
   "outputs": [
    {
     "data": {
      "text/plain": [
       "0    26625\n",
       "1     1538\n",
       "Name: churn, dtype: int64"
      ]
     },
     "execution_count": 45,
     "metadata": {},
     "output_type": "execute_result"
    }
   ],
   "source": [
    "# checking for value counts of churn and non churn customers\n",
    "tel_churn_data.churn.value_counts()"
   ]
  },
  {
   "cell_type": "code",
   "execution_count": 46,
   "id": "1c28decd",
   "metadata": {},
   "outputs": [],
   "source": [
    "# Imporing SMOTE\n",
    "from imblearn.over_sampling import SMOTE"
   ]
  },
  {
   "cell_type": "code",
   "execution_count": 47,
   "id": "e0dece84",
   "metadata": {},
   "outputs": [],
   "source": [
    "# Instantiate SMOTE\n",
    "sm = SMOTE(random_state=27)\n",
    "# Fittign SMOTE to the train set\n",
    "X_train, y_train = sm.fit_resample(X_train, y_train)"
   ]
  },
  {
   "cell_type": "code",
   "execution_count": 48,
   "id": "11d9f7c7",
   "metadata": {},
   "outputs": [
    {
     "data": {
      "text/plain": [
       "0    19961\n",
       "1    19961\n",
       "Name: churn, dtype: int64"
      ]
     },
     "execution_count": 48,
     "metadata": {},
     "output_type": "execute_result"
    }
   ],
   "source": [
    "#check churn and non churn customer ratio in dataset\n",
    "y_train.value_counts()"
   ]
  },
  {
   "cell_type": "code",
   "execution_count": 49,
   "id": "89b35dd9",
   "metadata": {},
   "outputs": [
    {
     "data": {
      "image/png": "[encoded data removed]",
      "text/plain": [
       "<Figure size 640x480 with 1 Axes>"
      ]
     },
     "metadata": {},
     "output_type": "display_data"
    }
   ],
   "source": [
    "sns.distplot(y_train)\n",
    "plt.show()"
   ]
  },
  {
   "cell_type": "markdown",
   "id": "99581a36",
   "metadata": {},
   "source": [
    "### Feature Scaling"
   ]
  },
  {
   "cell_type": "code",
   "execution_count": 50,
   "id": "84e2fcdf",
   "metadata": {},
   "outputs": [],
   "source": [
    "# Standardization method\n",
    "from sklearn.preprocessing import StandardScaler\n",
    "# Instantiate the Scaler\n",
    "scaler = StandardScaler()"
   ]
  },
  {
   "cell_type": "code",
   "execution_count": 51,
   "id": "6b984244",
   "metadata": {},
   "outputs": [
    {
     "data": {
      "text/html": [
       "<div>\n",
       "<style scoped>\n",
       "    .dataframe tbody tr th:only-of-type {\n",
       "        vertical-align: middle;\n",
       "    }\n",
       "\n",
       "    .dataframe tbody tr th {\n",
       "        vertical-align: top;\n",
       "    }\n",
       "\n",
       "    .dataframe thead th {\n",
       "        text-align: right;\n",
       "    }\n",
       "</style>\n",
       "<table border=\"1\" class=\"dataframe\">\n",
       "  <thead>\n",
       "    <tr style=\"text-align: right;\">\n",
       "      <th></th>\n",
       "      <th>onnet_mou_6</th>\n",
       "      <th>onnet_mou_7</th>\n",
       "      <th>onnet_mou_8</th>\n",
       "      <th>offnet_mou_6</th>\n",
       "      <th>offnet_mou_7</th>\n",
       "      <th>offnet_mou_8</th>\n",
       "      <th>roam_ic_mou_6</th>\n",
       "      <th>roam_ic_mou_7</th>\n",
       "      <th>roam_ic_mou_8</th>\n",
       "      <th>roam_og_mou_6</th>\n",
       "      <th>...</th>\n",
       "      <th>aon</th>\n",
       "      <th>sep_vbc_3g</th>\n",
       "      <th>arpu_diff</th>\n",
       "      <th>total_og_mou_diff</th>\n",
       "      <th>total_ic_mou_diff</th>\n",
       "      <th>total_rech_num_diff</th>\n",
       "      <th>total_rech_amt_diff</th>\n",
       "      <th>vol_2g_mb_diff</th>\n",
       "      <th>vol_3g_mb_diff</th>\n",
       "      <th>vbc_3g_diff</th>\n",
       "    </tr>\n",
       "  </thead>\n",
       "  <tbody>\n",
       "    <tr>\n",
       "      <th>0</th>\n",
       "      <td>-0.009746</td>\n",
       "      <td>-0.269667</td>\n",
       "      <td>0.108574</td>\n",
       "      <td>0.547497</td>\n",
       "      <td>-0.258723</td>\n",
       "      <td>0.375700</td>\n",
       "      <td>-0.234418</td>\n",
       "      <td>-0.221689</td>\n",
       "      <td>-0.23340</td>\n",
       "      <td>-0.251859</td>\n",
       "      <td>...</td>\n",
       "      <td>-0.910135</td>\n",
       "      <td>-0.114808</td>\n",
       "      <td>0.097941</td>\n",
       "      <td>0.328885</td>\n",
       "      <td>0.166332</td>\n",
       "      <td>-0.037207</td>\n",
       "      <td>-0.296521</td>\n",
       "      <td>-0.062472</td>\n",
       "      <td>-0.640299</td>\n",
       "      <td>1.346321</td>\n",
       "    </tr>\n",
       "    <tr>\n",
       "      <th>1</th>\n",
       "      <td>-0.620615</td>\n",
       "      <td>-0.594087</td>\n",
       "      <td>-0.473786</td>\n",
       "      <td>-0.793264</td>\n",
       "      <td>-0.751042</td>\n",
       "      <td>-0.613961</td>\n",
       "      <td>-0.234418</td>\n",
       "      <td>-0.221689</td>\n",
       "      <td>-0.23340</td>\n",
       "      <td>-0.251859</td>\n",
       "      <td>...</td>\n",
       "      <td>-0.452309</td>\n",
       "      <td>-0.114808</td>\n",
       "      <td>0.201244</td>\n",
       "      <td>0.468651</td>\n",
       "      <td>0.317133</td>\n",
       "      <td>0.755323</td>\n",
       "      <td>0.243140</td>\n",
       "      <td>2.762853</td>\n",
       "      <td>-3.177971</td>\n",
       "      <td>2.169095</td>\n",
       "    </tr>\n",
       "    <tr>\n",
       "      <th>2</th>\n",
       "      <td>0.774096</td>\n",
       "      <td>1.166723</td>\n",
       "      <td>1.171035</td>\n",
       "      <td>-0.752194</td>\n",
       "      <td>-0.514224</td>\n",
       "      <td>-0.430916</td>\n",
       "      <td>-0.234418</td>\n",
       "      <td>-0.221689</td>\n",
       "      <td>-0.23340</td>\n",
       "      <td>-0.251859</td>\n",
       "      <td>...</td>\n",
       "      <td>-0.930841</td>\n",
       "      <td>-0.114808</td>\n",
       "      <td>0.221259</td>\n",
       "      <td>0.246458</td>\n",
       "      <td>-0.010849</td>\n",
       "      <td>-0.961825</td>\n",
       "      <td>0.125822</td>\n",
       "      <td>0.173549</td>\n",
       "      <td>0.089366</td>\n",
       "      <td>0.044325</td>\n",
       "    </tr>\n",
       "    <tr>\n",
       "      <th>3</th>\n",
       "      <td>-0.491284</td>\n",
       "      <td>-0.385788</td>\n",
       "      <td>-0.464453</td>\n",
       "      <td>-0.691908</td>\n",
       "      <td>-0.695496</td>\n",
       "      <td>-0.514256</td>\n",
       "      <td>-0.234418</td>\n",
       "      <td>-0.221689</td>\n",
       "      <td>-0.23340</td>\n",
       "      <td>-0.251859</td>\n",
       "      <td>...</td>\n",
       "      <td>-0.391343</td>\n",
       "      <td>-0.114808</td>\n",
       "      <td>0.284178</td>\n",
       "      <td>0.331402</td>\n",
       "      <td>-2.319056</td>\n",
       "      <td>-0.103251</td>\n",
       "      <td>0.197386</td>\n",
       "      <td>-0.730566</td>\n",
       "      <td>0.449393</td>\n",
       "      <td>0.475098</td>\n",
       "    </tr>\n",
       "    <tr>\n",
       "      <th>4</th>\n",
       "      <td>-0.045324</td>\n",
       "      <td>0.005862</td>\n",
       "      <td>0.321393</td>\n",
       "      <td>-0.019405</td>\n",
       "      <td>0.244954</td>\n",
       "      <td>0.309728</td>\n",
       "      <td>-0.234418</td>\n",
       "      <td>-0.221689</td>\n",
       "      <td>-0.22169</td>\n",
       "      <td>-0.251859</td>\n",
       "      <td>...</td>\n",
       "      <td>-0.357983</td>\n",
       "      <td>-0.114808</td>\n",
       "      <td>0.376087</td>\n",
       "      <td>0.292947</td>\n",
       "      <td>0.272930</td>\n",
       "      <td>1.878074</td>\n",
       "      <td>0.528222</td>\n",
       "      <td>0.173549</td>\n",
       "      <td>0.089366</td>\n",
       "      <td>0.044325</td>\n",
       "    </tr>\n",
       "  </tbody>\n",
       "</table>\n",
       "<p>5 rows × 109 columns</p>\n",
       "</div>"
      ],
      "text/plain": [
       "   onnet_mou_6  onnet_mou_7  onnet_mou_8  offnet_mou_6  offnet_mou_7  \\\n",
       "0    -0.009746    -0.269667     0.108574      0.547497     -0.258723   \n",
       "1    -0.620615    -0.594087    -0.473786     -0.793264     -0.751042   \n",
       "2     0.774096     1.166723     1.171035     -0.752194     -0.514224   \n",
       "3    -0.491284    -0.385788    -0.464453     -0.691908     -0.695496   \n",
       "4    -0.045324     0.005862     0.321393     -0.019405      0.244954   \n",
       "\n",
       "   offnet_mou_8  roam_ic_mou_6  roam_ic_mou_7  roam_ic_mou_8  roam_og_mou_6  \\\n",
       "0      0.375700      -0.234418      -0.221689       -0.23340      -0.251859   \n",
       "1     -0.613961      -0.234418      -0.221689       -0.23340      -0.251859   \n",
       "2     -0.430916      -0.234418      -0.221689       -0.23340      -0.251859   \n",
       "3     -0.514256      -0.234418      -0.221689       -0.23340      -0.251859   \n",
       "4      0.309728      -0.234418      -0.221689       -0.22169      -0.251859   \n",
       "\n",
       "   ...       aon  sep_vbc_3g  arpu_diff  total_og_mou_diff  total_ic_mou_diff  \\\n",
       "0  ... -0.910135   -0.114808   0.097941           0.328885           0.166332   \n",
       "1  ... -0.452309   -0.114808   0.201244           0.468651           0.317133   \n",
       "2  ... -0.930841   -0.114808   0.221259           0.246458          -0.010849   \n",
       "3  ... -0.391343   -0.114808   0.284178           0.331402          -2.319056   \n",
       "4  ... -0.357983   -0.114808   0.376087           0.292947           0.272930   \n",
       "\n",
       "   total_rech_num_diff  total_rech_amt_diff  vol_2g_mb_diff  vol_3g_mb_diff  \\\n",
       "0            -0.037207            -0.296521       -0.062472       -0.640299   \n",
       "1             0.755323             0.243140        2.762853       -3.177971   \n",
       "2            -0.961825             0.125822        0.173549        0.089366   \n",
       "3            -0.103251             0.197386       -0.730566        0.449393   \n",
       "4             1.878074             0.528222        0.173549        0.089366   \n",
       "\n",
       "   vbc_3g_diff  \n",
       "0     1.346321  \n",
       "1     2.169095  \n",
       "2     0.044325  \n",
       "3     0.475098  \n",
       "4     0.044325  \n",
       "\n",
       "[5 rows x 109 columns]"
      ]
     },
     "execution_count": 51,
     "metadata": {},
     "output_type": "execute_result"
    }
   ],
   "source": [
    "# Fit the data into scaler and transform\n",
    "\n",
    "# List of the numeric columns\n",
    "cols_scale = X_train.columns.to_list()\n",
    "X_train[cols_scale] = scaler.fit_transform(X_train[cols_scale])\n",
    "X_train.head()"
   ]
  },
  {
   "cell_type": "markdown",
   "id": "9b605077",
   "metadata": {},
   "source": [
    "## Step 7: Modeling with PCA "
   ]
  },
  {
   "cell_type": "code",
   "execution_count": 52,
   "id": "98900212",
   "metadata": {},
   "outputs": [],
   "source": [
    "from sklearn.decomposition import PCA"
   ]
  },
  {
   "cell_type": "code",
   "execution_count": 53,
   "id": "fcd34415",
   "metadata": {},
   "outputs": [
    {
     "data": {
      "text/plain": [
       "PCA(random_state=42)"
      ]
     },
     "execution_count": 53,
     "metadata": {},
     "output_type": "execute_result"
    }
   ],
   "source": [
    "pca = PCA(random_state=42)\n",
    "pca.fit(X_train)"
   ]
  },
  {
   "cell_type": "code",
   "execution_count": 54,
   "id": "dafb0816",
   "metadata": {},
   "outputs": [
    {
     "data": {
      "text/plain": [
       "array([[-3.73534066e-02, -2.06438234e-02,  3.31006469e-02, ...,\n",
       "         2.25038493e-02,  1.70786071e-02,  1.21039692e-02],\n",
       "       [ 2.21834615e-01,  2.39715112e-01,  1.93678741e-01, ...,\n",
       "         3.79719608e-02,  1.36772366e-02,  9.08802818e-03],\n",
       "       [-9.06848845e-02, -5.31790691e-02,  2.59695070e-02, ...,\n",
       "         2.53317754e-02,  1.86194408e-02,  1.33908646e-02],\n",
       "       ...,\n",
       "       [-5.60060348e-06, -3.65596932e-06,  2.93638117e-06, ...,\n",
       "         2.48798778e-08, -2.03128243e-07,  1.63835185e-07],\n",
       "       [-8.04504689e-06, -5.00034005e-06,  2.89267470e-06, ...,\n",
       "        -4.43318928e-08, -7.68350843e-09, -6.54544808e-08],\n",
       "       [-6.34129708e-06, -1.52572084e-07,  2.29739456e-06, ...,\n",
       "        -5.92251553e-08,  1.69957707e-08,  1.58062078e-08]])"
      ]
     },
     "execution_count": 54,
     "metadata": {},
     "output_type": "execute_result"
    }
   ],
   "source": [
    "pca.components_"
   ]
  },
  {
   "cell_type": "code",
   "execution_count": 55,
   "id": "07f842f1",
   "metadata": {},
   "outputs": [
    {
     "data": {
      "text/plain": [
       "array([9.94739352e-02, 6.81891402e-02, 5.11205665e-02, 4.48908689e-02,\n",
       "       4.29215639e-02, 3.95736566e-02, 3.09805031e-02, 2.76483259e-02,\n",
       "       2.71196152e-02, 2.56225417e-02, 2.46630809e-02, 2.34825672e-02,\n",
       "       2.26277829e-02, 2.13578496e-02, 2.07053134e-02, 1.81097973e-02,\n",
       "       1.75742601e-02, 1.68232555e-02, 1.60278772e-02, 1.55616769e-02,\n",
       "       1.50975690e-02, 1.42117457e-02, 1.39347227e-02, 1.31141389e-02,\n",
       "       1.24419136e-02, 1.14144147e-02, 1.05517478e-02, 1.03414665e-02,\n",
       "       9.66714437e-03, 9.19111805e-03, 8.83187749e-03, 8.66995382e-03,\n",
       "       8.61956215e-03, 8.27714477e-03, 7.93405825e-03, 7.79571150e-03,\n",
       "       7.51210413e-03, 7.46018502e-03, 7.11089319e-03, 6.93067465e-03,\n",
       "       6.70344159e-03, 6.49780348e-03, 6.30286757e-03, 5.52025902e-03,\n",
       "       5.25657189e-03, 5.15267111e-03, 5.01337197e-03, 4.47458857e-03,\n",
       "       4.46597449e-03, 4.25430340e-03, 4.10839344e-03, 3.97393076e-03,\n",
       "       3.88981182e-03, 3.76467766e-03, 3.66725880e-03, 3.51177152e-03,\n",
       "       3.45277859e-03, 3.34078406e-03, 3.27995579e-03, 3.21174137e-03,\n",
       "       3.05339008e-03, 2.97913503e-03, 2.96620119e-03, 2.80567770e-03,\n",
       "       2.77873811e-03, 2.63751337e-03, 2.57454236e-03, 2.50010314e-03,\n",
       "       2.40268320e-03, 2.28531901e-03, 2.25334436e-03, 2.18402382e-03,\n",
       "       2.07122610e-03, 2.01772817e-03, 1.98254043e-03, 1.89082049e-03,\n",
       "       1.86525800e-03, 1.83478482e-03, 1.79607319e-03, 1.74501565e-03,\n",
       "       1.67544807e-03, 1.46924518e-03, 1.41472217e-03, 1.35038495e-03,\n",
       "       1.18196487e-03, 9.62807221e-04, 7.68337263e-04, 5.34333914e-04,\n",
       "       4.12531285e-04, 1.26426105e-04, 3.78052509e-05, 1.48513968e-05,\n",
       "       1.22536005e-06, 3.75018511e-07, 1.42310405e-07, 9.63932845e-12,\n",
       "       7.00990324e-12, 4.40767066e-12, 3.70526911e-12, 3.34632283e-12,\n",
       "       1.84021556e-12, 1.51708148e-12, 1.36462785e-12, 1.33341499e-12,\n",
       "       1.06436502e-12, 4.96631778e-13, 2.55209996e-13, 1.44636227e-13,\n",
       "       1.27612571e-13])"
      ]
     },
     "execution_count": 55,
     "metadata": {},
     "output_type": "execute_result"
    }
   ],
   "source": [
    "pca.explained_variance_ratio_"
   ]
  },
  {
   "cell_type": "code",
   "execution_count": 56,
   "id": "48e02711",
   "metadata": {},
   "outputs": [],
   "source": [
    "var_cumu = np.cumsum(pca.explained_variance_ratio_)"
   ]
  },
  {
   "cell_type": "code",
   "execution_count": 57,
   "id": "2d95d5ae",
   "metadata": {},
   "outputs": [
    {
     "data": {
      "image/png": "[encoded data removed]",
      "text/plain": [
       "<Figure size 600x400 with 1 Axes>"
      ]
     },
     "metadata": {},
     "output_type": "display_data"
    }
   ],
   "source": [
    "# Scree plot - Cumulative variance explained chart \n",
    "\n",
    "fig = plt.figure(figsize=[6,4])\n",
    "plt.vlines(x=60, ymax=1, ymin=0, colors=\"r\", linestyles=\"--\")\n",
    "plt.hlines(y=0.95, xmax=80, xmin=0, colors=\"g\", linestyles=\"--\")\n",
    "plt.plot(var_cumu)\n",
    "plt.ylabel(\"Cumulative variance explained\")\n",
    "plt.title('Scree Plot of Telecom Churn Train Set');\n",
    "\n",
    "plt.show()"
   ]
  },
  {
   "cell_type": "markdown",
   "id": "4b90c8a3",
   "metadata": {},
   "source": [
    "* Observations: We can see that 60 components explain allmost more than 95% variance of the data. So, we will perform PCA with 60 components."
   ]
  },
  {
   "cell_type": "code",
   "execution_count": 58,
   "id": "618150b8",
   "metadata": {},
   "outputs": [
    {
     "data": {
      "text/html": [
       "<div>\n",
       "<style scoped>\n",
       "    .dataframe tbody tr th:only-of-type {\n",
       "        vertical-align: middle;\n",
       "    }\n",
       "\n",
       "    .dataframe tbody tr th {\n",
       "        vertical-align: top;\n",
       "    }\n",
       "\n",
       "    .dataframe thead th {\n",
       "        text-align: right;\n",
       "    }\n",
       "</style>\n",
       "<table border=\"1\" class=\"dataframe\">\n",
       "  <thead>\n",
       "    <tr style=\"text-align: right;\">\n",
       "      <th></th>\n",
       "      <th>PC_1</th>\n",
       "      <th>PC_2</th>\n",
       "      <th>PC_3</th>\n",
       "      <th>PC_4</th>\n",
       "      <th>PC_5</th>\n",
       "      <th>PC_6</th>\n",
       "      <th>PC_7</th>\n",
       "      <th>PC_8</th>\n",
       "      <th>PC_9</th>\n",
       "      <th>PC_10</th>\n",
       "      <th>...</th>\n",
       "      <th>PC_52</th>\n",
       "      <th>PC_53</th>\n",
       "      <th>PC_54</th>\n",
       "      <th>PC_55</th>\n",
       "      <th>PC_56</th>\n",
       "      <th>PC_57</th>\n",
       "      <th>PC_58</th>\n",
       "      <th>PC_59</th>\n",
       "      <th>PC_60</th>\n",
       "      <th>churn</th>\n",
       "    </tr>\n",
       "  </thead>\n",
       "  <tbody>\n",
       "    <tr>\n",
       "      <th>0</th>\n",
       "      <td>5.562945</td>\n",
       "      <td>0.025009</td>\n",
       "      <td>-1.817543</td>\n",
       "      <td>0.352115</td>\n",
       "      <td>-0.019565</td>\n",
       "      <td>-0.329618</td>\n",
       "      <td>-0.400697</td>\n",
       "      <td>-0.564006</td>\n",
       "      <td>0.322960</td>\n",
       "      <td>-0.287160</td>\n",
       "      <td>...</td>\n",
       "      <td>1.157649</td>\n",
       "      <td>-1.386220</td>\n",
       "      <td>-0.104204</td>\n",
       "      <td>0.510008</td>\n",
       "      <td>-0.931017</td>\n",
       "      <td>0.320710</td>\n",
       "      <td>-0.018634</td>\n",
       "      <td>-0.555241</td>\n",
       "      <td>-0.240922</td>\n",
       "      <td>0</td>\n",
       "    </tr>\n",
       "    <tr>\n",
       "      <th>1</th>\n",
       "      <td>-1.020296</td>\n",
       "      <td>-3.798071</td>\n",
       "      <td>0.886219</td>\n",
       "      <td>-0.877737</td>\n",
       "      <td>0.555564</td>\n",
       "      <td>0.486862</td>\n",
       "      <td>0.735748</td>\n",
       "      <td>-0.143640</td>\n",
       "      <td>0.259652</td>\n",
       "      <td>-1.706658</td>\n",
       "      <td>...</td>\n",
       "      <td>1.417105</td>\n",
       "      <td>-2.078513</td>\n",
       "      <td>-0.581079</td>\n",
       "      <td>-0.405597</td>\n",
       "      <td>0.053169</td>\n",
       "      <td>0.504756</td>\n",
       "      <td>-0.976185</td>\n",
       "      <td>0.221791</td>\n",
       "      <td>-1.209203</td>\n",
       "      <td>0</td>\n",
       "    </tr>\n",
       "    <tr>\n",
       "      <th>2</th>\n",
       "      <td>-2.455389</td>\n",
       "      <td>1.308699</td>\n",
       "      <td>-0.336619</td>\n",
       "      <td>-2.329287</td>\n",
       "      <td>0.901505</td>\n",
       "      <td>-1.045315</td>\n",
       "      <td>0.687706</td>\n",
       "      <td>-0.028991</td>\n",
       "      <td>-0.321063</td>\n",
       "      <td>-0.872025</td>\n",
       "      <td>...</td>\n",
       "      <td>-0.019214</td>\n",
       "      <td>-0.266087</td>\n",
       "      <td>-0.303844</td>\n",
       "      <td>0.228924</td>\n",
       "      <td>-0.013352</td>\n",
       "      <td>-0.128650</td>\n",
       "      <td>-0.094374</td>\n",
       "      <td>-0.049200</td>\n",
       "      <td>-0.276429</td>\n",
       "      <td>0</td>\n",
       "    </tr>\n",
       "    <tr>\n",
       "      <th>3</th>\n",
       "      <td>7.530192</td>\n",
       "      <td>-0.064945</td>\n",
       "      <td>-0.734742</td>\n",
       "      <td>3.000664</td>\n",
       "      <td>6.835211</td>\n",
       "      <td>-2.842481</td>\n",
       "      <td>-0.481627</td>\n",
       "      <td>-0.674703</td>\n",
       "      <td>-6.888659</td>\n",
       "      <td>0.698405</td>\n",
       "      <td>...</td>\n",
       "      <td>0.471818</td>\n",
       "      <td>0.800133</td>\n",
       "      <td>-0.458951</td>\n",
       "      <td>1.271357</td>\n",
       "      <td>0.014627</td>\n",
       "      <td>0.766689</td>\n",
       "      <td>0.067106</td>\n",
       "      <td>0.852361</td>\n",
       "      <td>-1.711186</td>\n",
       "      <td>0</td>\n",
       "    </tr>\n",
       "    <tr>\n",
       "      <th>4</th>\n",
       "      <td>0.943246</td>\n",
       "      <td>1.022201</td>\n",
       "      <td>1.755384</td>\n",
       "      <td>0.075399</td>\n",
       "      <td>2.186740</td>\n",
       "      <td>0.650333</td>\n",
       "      <td>-1.100527</td>\n",
       "      <td>-0.588111</td>\n",
       "      <td>2.189102</td>\n",
       "      <td>1.095197</td>\n",
       "      <td>...</td>\n",
       "      <td>0.016644</td>\n",
       "      <td>0.328417</td>\n",
       "      <td>-0.348440</td>\n",
       "      <td>0.044954</td>\n",
       "      <td>0.064974</td>\n",
       "      <td>-0.071841</td>\n",
       "      <td>0.010063</td>\n",
       "      <td>0.577872</td>\n",
       "      <td>0.751355</td>\n",
       "      <td>0</td>\n",
       "    </tr>\n",
       "  </tbody>\n",
       "</table>\n",
       "<p>5 rows × 61 columns</p>\n",
       "</div>"
      ],
      "text/plain": [
       "       PC_1      PC_2      PC_3      PC_4      PC_5      PC_6      PC_7  \\\n",
       "0  5.562945  0.025009 -1.817543  0.352115 -0.019565 -0.329618 -0.400697   \n",
       "1 -1.020296 -3.798071  0.886219 -0.877737  0.555564  0.486862  0.735748   \n",
       "2 -2.455389  1.308699 -0.336619 -2.329287  0.901505 -1.045315  0.687706   \n",
       "3  7.530192 -0.064945 -0.734742  3.000664  6.835211 -2.842481 -0.481627   \n",
       "4  0.943246  1.022201  1.755384  0.075399  2.186740  0.650333 -1.100527   \n",
       "\n",
       "       PC_8      PC_9     PC_10  ...     PC_52     PC_53     PC_54     PC_55  \\\n",
       "0 -0.564006  0.322960 -0.287160  ...  1.157649 -1.386220 -0.104204  0.510008   \n",
       "1 -0.143640  0.259652 -1.706658  ...  1.417105 -2.078513 -0.581079 -0.405597   \n",
       "2 -0.028991 -0.321063 -0.872025  ... -0.019214 -0.266087 -0.303844  0.228924   \n",
       "3 -0.674703 -6.888659  0.698405  ...  0.471818  0.800133 -0.458951  1.271357   \n",
       "4 -0.588111  2.189102  1.095197  ...  0.016644  0.328417 -0.348440  0.044954   \n",
       "\n",
       "      PC_56     PC_57     PC_58     PC_59     PC_60  churn  \n",
       "0 -0.931017  0.320710 -0.018634 -0.555241 -0.240922      0  \n",
       "1  0.053169  0.504756 -0.976185  0.221791 -1.209203      0  \n",
       "2 -0.013352 -0.128650 -0.094374 -0.049200 -0.276429      0  \n",
       "3  0.014627  0.766689  0.067106  0.852361 -1.711186      0  \n",
       "4  0.064974 -0.071841  0.010063  0.577872  0.751355      0  \n",
       "\n",
       "[5 rows x 61 columns]"
      ]
     },
     "execution_count": 58,
     "metadata": {},
     "output_type": "execute_result"
    }
   ],
   "source": [
    "# Perform PCA using the first 60 components\n",
    "pca_final = PCA(n_components=60, random_state=42)\n",
    "transformed_data = pca_final.fit_transform(X_train)\n",
    "\n",
    "X_train_pca = pd.DataFrame(transformed_data, columns=[\"PC_\"+str(x) for x in range(1,61)], index = X_train.index)\n",
    "data_train_pca = pd.concat([X_train_pca, y_train], axis=1)\n",
    "\n",
    "data_train_pca.head()"
   ]
  },
  {
   "cell_type": "markdown",
   "id": "63074f86",
   "metadata": {},
   "source": [
    "## Step 8: Evaluating Different Models with PCA "
   ]
  },
  {
   "cell_type": "markdown",
   "id": "6e47fcd4",
   "metadata": {},
   "source": [
    "### PCA + Logistic regression"
   ]
  },
  {
   "cell_type": "code",
   "execution_count": 59,
   "id": "5bf342b7",
   "metadata": {},
   "outputs": [],
   "source": [
    "# Importing scikit logistic regression module\n",
    "from sklearn.linear_model import LogisticRegression\n",
    "# Impoting metrics\n",
    "from sklearn import metrics\n",
    "from sklearn.metrics import confusion_matrix"
   ]
  },
  {
   "cell_type": "code",
   "execution_count": 60,
   "id": "2a2a3a9b",
   "metadata": {},
   "outputs": [],
   "source": [
    "# Function for  Performance Metrics\n",
    "import math\n",
    "def model_metrics(matrix) :\n",
    "    TN = matrix[0][0]\n",
    "    TP = matrix[1][1]\n",
    "    FP = matrix[0][1]\n",
    "    FN = matrix[1][0]\n",
    "    \n",
    "    accuracy = round((TP + TN)/float(TP+TN+FP+FN),3)\n",
    "    print('Accuracy :' ,accuracy )\n",
    "    \n",
    "    sensitivity = round(TP/float(FN + TP),3)\n",
    "    print('Sensitivity  :', sensitivity)\n",
    "    \n",
    "    specificity = round(TN/float(TN + FP),3)\n",
    "    print('Specificity :', specificity)\n",
    "    \n",
    "    #precision = round(TP/float(TP + FP),3)\n",
    "    #print('Precision / Positive Predictive Value :', precision)\n",
    "    #print('F1-score :', round(2*precision*sensitivity/(precision + sensitivity),3))"
   ]
  },
  {
   "cell_type": "code",
   "execution_count": 61,
   "id": "62481152",
   "metadata": {},
   "outputs": [
    {
     "data": {
      "text/plain": [
       "LogisticRegression(class_weight='balanced', random_state=100)"
      ]
     },
     "execution_count": 61,
     "metadata": {},
     "output_type": "execute_result"
    }
   ],
   "source": [
    "# X,y Split\n",
    "y_train_pca = data_train_pca.pop('churn')\n",
    "X_train_pca = data_train_pca\n",
    "\n",
    "# Logistic Regression\n",
    "lr_pca = LogisticRegression(random_state=100, class_weight='balanced')\n",
    "lr_pca.fit(X_train_pca,y_train_pca ) "
   ]
  },
  {
   "cell_type": "code",
   "execution_count": 62,
   "id": "2020aede",
   "metadata": {},
   "outputs": [
    {
     "data": {
      "text/plain": [
       "array([0, 0, 1, 0, 0])"
      ]
     },
     "execution_count": 62,
     "metadata": {},
     "output_type": "execute_result"
    }
   ],
   "source": [
    "# y_train predictions\n",
    "y_train_pred_lr_pca = lr_pca.predict(X_train_pca)\n",
    "y_train_pred_lr_pca[:5]"
   ]
  },
  {
   "cell_type": "code",
   "execution_count": 63,
   "id": "4f31e5a4",
   "metadata": {},
   "outputs": [
    {
     "data": {
      "text/plain": [
       "array([0, 0, 0, 0, 0])"
      ]
     },
     "execution_count": 63,
     "metadata": {},
     "output_type": "execute_result"
    }
   ],
   "source": [
    "# Test Prediction\n",
    "X_test_pca = pca_final.transform(X_test)\n",
    "\n",
    "y_test_pred_lr_pca = lr_pca.predict(X_test_pca)\n",
    "y_test_pred_lr_pca[:5]"
   ]
  },
  {
   "cell_type": "code",
   "execution_count": 64,
   "id": "7c04ce06",
   "metadata": {},
   "outputs": [
    {
     "name": "stdout",
     "output_type": "stream",
     "text": [
      "Train Performance :\n",
      "\n",
      "Accuracy : 0.841\n",
      "Sensitivity  : 0.873\n",
      "Specificity : 0.81\n",
      "\n",
      "Test Performance :\n",
      "\n",
      "Accuracy : 0.883\n",
      "Sensitivity  : 0.536\n",
      "Specificity : 0.903\n"
     ]
    }
   ],
   "source": [
    "train_matrix = confusion_matrix(y_train, y_train_pred_lr_pca)\n",
    "test_matrix = confusion_matrix(y_test, y_test_pred_lr_pca)\n",
    "\n",
    "print('Train Performance :\\n')\n",
    "model_metrics(train_matrix)\n",
    "\n",
    "print('\\nTest Performance :\\n')\n",
    "model_metrics(test_matrix)"
   ]
  },
  {
   "cell_type": "markdown",
   "id": "dbf3f2be",
   "metadata": {},
   "source": [
    "### Hyperparameter Tuning"
   ]
  },
  {
   "cell_type": "code",
   "execution_count": 65,
   "id": "0e411f0d",
   "metadata": {},
   "outputs": [
    {
     "name": "stdout",
     "output_type": "stream",
     "text": [
      "Fitting 4 folds for each of 24 candidates, totalling 96 fits\n"
     ]
    },
    {
     "data": {
      "text/plain": [
       "GridSearchCV(cv=StratifiedKFold(n_splits=4, random_state=100, shuffle=True),\n",
       "             estimator=LogisticRegression(class_weight='balanced',\n",
       "                                          random_state=100),\n",
       "             n_jobs=-1,\n",
       "             param_grid={'C': [0, 1, 2, 3, 4, 5, 10, 50],\n",
       "                         'penalty': ['l1', 'l2', 'none']},\n",
       "             scoring='roc_auc', verbose=True)"
      ]
     },
     "execution_count": 65,
     "metadata": {},
     "output_type": "execute_result"
    }
   ],
   "source": [
    "# Creating a Logistic regression model using pca transformed train set\n",
    "from sklearn.pipeline import Pipeline\n",
    "lr_pca = LogisticRegression(random_state=100, class_weight='balanced')\n",
    "\n",
    "from sklearn.model_selection import RandomizedSearchCV, GridSearchCV , StratifiedKFold\n",
    "\n",
    "params = {\n",
    "    'penalty' : ['l1','l2','none'], \n",
    "    'C' : [0,1,2,3,4,5,10,50]\n",
    "}\n",
    "folds = StratifiedKFold(n_splits=4, shuffle=True, random_state=100)\n",
    "\n",
    "lr_search = GridSearchCV(cv=folds, estimator = lr_pca, param_grid=params,scoring='roc_auc', verbose=True, n_jobs=-1)\n",
    "lr_search.fit(X_train_pca, y_train_pca)"
   ]
  },
  {
   "cell_type": "code",
   "execution_count": 66,
   "id": "7368bdf0",
   "metadata": {},
   "outputs": [
    {
     "name": "stdout",
     "output_type": "stream",
     "text": [
      "Best ROC-AUC score : 0.9129171328415968\n",
      "Best Parameters : {'C': 10, 'penalty': 'l2'}\n"
     ]
    }
   ],
   "source": [
    "# Optimum Hyperparameters\n",
    "print('Best ROC-AUC score :', lr_search.best_score_)\n",
    "print('Best Parameters :', lr_search.best_params_)"
   ]
  },
  {
   "cell_type": "code",
   "execution_count": 67,
   "id": "52bdf56d",
   "metadata": {},
   "outputs": [
    {
     "data": {
      "text/plain": [
       "array([0, 0, 1, 0, 0])"
      ]
     },
     "execution_count": 67,
     "metadata": {},
     "output_type": "execute_result"
    }
   ],
   "source": [
    "# Modelling using the best LR-PCA estimator \n",
    "lr_pca_best = lr_search.best_estimator_\n",
    "lr_pca_best_fit = lr_pca_best.fit(X_train_pca, y_train_pca)\n",
    "\n",
    "# Prediction on Train set\n",
    "y_train_pred_lr_pca_best = lr_pca_best_fit.predict(X_train_pca)\n",
    "y_train_pred_lr_pca_best[:5]"
   ]
  },
  {
   "cell_type": "code",
   "execution_count": 68,
   "id": "b3e85eb4",
   "metadata": {},
   "outputs": [
    {
     "data": {
      "text/plain": [
       "array([0, 0, 0, 0, 0])"
      ]
     },
     "execution_count": 68,
     "metadata": {},
     "output_type": "execute_result"
    }
   ],
   "source": [
    "# Prediction on test set\n",
    "y_test_pred_lr_pca_best = lr_pca_best_fit.predict(X_test_pca)\n",
    "y_test_pred_lr_pca_best[:5]"
   ]
  },
  {
   "cell_type": "code",
   "execution_count": 69,
   "id": "1bcaa695",
   "metadata": {},
   "outputs": [
    {
     "name": "stdout",
     "output_type": "stream",
     "text": [
      "Train Performance :\n",
      "\n",
      "Accuracy : 0.841\n",
      "Sensitivity  : 0.873\n",
      "Specificity : 0.809\n",
      "\n",
      "Test Performance :\n",
      "\n",
      "Accuracy : 0.883\n",
      "Sensitivity  : 0.536\n",
      "Specificity : 0.903\n"
     ]
    }
   ],
   "source": [
    "## Model Performance after Hyper Parameter Tuning\n",
    "\n",
    "train_matrix = confusion_matrix(y_train_pca, y_train_pred_lr_pca_best)\n",
    "test_matrix = confusion_matrix(y_test, y_test_pred_lr_pca_best)\n",
    "\n",
    "print('Train Performance :\\n')\n",
    "model_metrics(train_matrix)\n",
    "\n",
    "print('\\nTest Performance :\\n')\n",
    "model_metrics(test_matrix)"
   ]
  },
  {
   "cell_type": "markdown",
   "id": "3cfc6d08",
   "metadata": {},
   "source": [
    "### PCA + Decision Tree"
   ]
  },
  {
   "cell_type": "code",
   "execution_count": 70,
   "id": "e66dbc15",
   "metadata": {},
   "outputs": [
    {
     "data": {
      "text/plain": [
       "((39922, 60), (39922,), (7041, 60), (7041,))"
      ]
     },
     "execution_count": 70,
     "metadata": {},
     "output_type": "execute_result"
    }
   ],
   "source": [
    "X_train_pca.shape, y_train_pca.shape, X_test_pca.shape, y_test.shape"
   ]
  },
  {
   "cell_type": "code",
   "execution_count": 71,
   "id": "0780e04e",
   "metadata": {},
   "outputs": [],
   "source": [
    "from sklearn.tree import DecisionTreeClassifier"
   ]
  },
  {
   "cell_type": "code",
   "execution_count": 72,
   "id": "04584329",
   "metadata": {},
   "outputs": [],
   "source": [
    "dt_base = DecisionTreeClassifier(random_state=42, max_depth=4)"
   ]
  },
  {
   "cell_type": "code",
   "execution_count": 73,
   "id": "d3315824",
   "metadata": {},
   "outputs": [
    {
     "data": {
      "text/plain": [
       "DecisionTreeClassifier(max_depth=4, random_state=42)"
      ]
     },
     "execution_count": 73,
     "metadata": {},
     "output_type": "execute_result"
    }
   ],
   "source": [
    "dt_base.fit(X_train_pca, y_train_pca)"
   ]
  },
  {
   "cell_type": "code",
   "execution_count": 74,
   "id": "1e7b040b",
   "metadata": {},
   "outputs": [],
   "source": [
    "y_train_pred = dt_base.predict(X_train_pca)\n",
    "y_test_pred = dt_base.predict(X_test_pca)"
   ]
  },
  {
   "cell_type": "code",
   "execution_count": 75,
   "id": "9a185df6",
   "metadata": {},
   "outputs": [],
   "source": [
    "from sklearn.metrics import classification_report"
   ]
  },
  {
   "cell_type": "code",
   "execution_count": 76,
   "id": "5e9fc1ff",
   "metadata": {},
   "outputs": [
    {
     "name": "stdout",
     "output_type": "stream",
     "text": [
      "              precision    recall  f1-score   support\n",
      "\n",
      "           0       0.96      0.96      0.96      6664\n",
      "           1       0.31      0.29      0.30       377\n",
      "\n",
      "    accuracy                           0.93      7041\n",
      "   macro avg       0.63      0.63      0.63      7041\n",
      "weighted avg       0.93      0.93      0.93      7041\n",
      "\n"
     ]
    }
   ],
   "source": [
    "print(classification_report(y_test, y_test_pred))"
   ]
  },
  {
   "cell_type": "markdown",
   "id": "00872ba9",
   "metadata": {},
   "source": [
    "#### Plot the ROC curve"
   ]
  },
  {
   "cell_type": "code",
   "execution_count": 77,
   "id": "8537f07d",
   "metadata": {},
   "outputs": [],
   "source": [
    "from sklearn.metrics import plot_roc_curve"
   ]
  },
  {
   "cell_type": "code",
   "execution_count": 78,
   "id": "06f8fa42",
   "metadata": {},
   "outputs": [
    {
     "data": {
      "image/png": "[encoded data removed]",
      "text/plain": [
       "<Figure size 640x480 with 1 Axes>"
      ]
     },
     "metadata": {},
     "output_type": "display_data"
    }
   ],
   "source": [
    "plot_roc_curve(dt_base, X_train_pca, y_train_pca, drop_intermediate=False)\n",
    "plt.show()"
   ]
  },
  {
   "cell_type": "code",
   "execution_count": 79,
   "id": "fe6d0300",
   "metadata": {},
   "outputs": [],
   "source": [
    "from sklearn.model_selection import GridSearchCV"
   ]
  },
  {
   "cell_type": "code",
   "execution_count": 80,
   "id": "0199feea",
   "metadata": {},
   "outputs": [],
   "source": [
    "dt = DecisionTreeClassifier(random_state=42)"
   ]
  },
  {
   "cell_type": "code",
   "execution_count": 81,
   "id": "7d35b985",
   "metadata": {},
   "outputs": [],
   "source": [
    "params = {\n",
    "    \"max_depth\": [2,3,5,10,20],\n",
    "    \"min_samples_leaf\": [5,10,20,50,100,500]\n",
    "}"
   ]
  },
  {
   "cell_type": "code",
   "execution_count": 82,
   "id": "dae5879a",
   "metadata": {},
   "outputs": [],
   "source": [
    "dt_grid_search = GridSearchCV(estimator=dt,\n",
    "                           param_grid=params,\n",
    "                           cv=4,\n",
    "                           n_jobs=-1, verbose=1, scoring=\"accuracy\")"
   ]
  },
  {
   "cell_type": "code",
   "execution_count": 83,
   "id": "eb039abe",
   "metadata": {},
   "outputs": [
    {
     "name": "stdout",
     "output_type": "stream",
     "text": [
      "Fitting 4 folds for each of 30 candidates, totalling 120 fits\n",
      "Wall time: 34.9 s\n"
     ]
    },
    {
     "data": {
      "text/plain": [
       "GridSearchCV(cv=4, estimator=DecisionTreeClassifier(random_state=42), n_jobs=-1,\n",
       "             param_grid={'max_depth': [2, 3, 5, 10, 20],\n",
       "                         'min_samples_leaf': [5, 10, 20, 50, 100, 500]},\n",
       "             scoring='accuracy', verbose=1)"
      ]
     },
     "execution_count": 83,
     "metadata": {},
     "output_type": "execute_result"
    }
   ],
   "source": [
    "%%time\n",
    "dt_grid_search.fit(X_train_pca, y_train_pca)"
   ]
  },
  {
   "cell_type": "code",
   "execution_count": 84,
   "id": "1881bfd3",
   "metadata": {},
   "outputs": [
    {
     "data": {
      "text/plain": [
       "0.8785132257300896"
      ]
     },
     "execution_count": 84,
     "metadata": {},
     "output_type": "execute_result"
    }
   ],
   "source": [
    "dt_grid_search.best_score_"
   ]
  },
  {
   "cell_type": "code",
   "execution_count": 85,
   "id": "9a592c7e",
   "metadata": {},
   "outputs": [
    {
     "data": {
      "text/plain": [
       "DecisionTreeClassifier(max_depth=20, min_samples_leaf=5, random_state=42)"
      ]
     },
     "execution_count": 85,
     "metadata": {},
     "output_type": "execute_result"
    }
   ],
   "source": [
    "pca_dt_best = dt_grid_search.best_estimator_\n",
    "pca_dt_best"
   ]
  },
  {
   "cell_type": "code",
   "execution_count": 86,
   "id": "f6fa0a79",
   "metadata": {},
   "outputs": [
    {
     "data": {
      "text/plain": [
       "array([0, 0, 0, 0, 0])"
      ]
     },
     "execution_count": 86,
     "metadata": {},
     "output_type": "execute_result"
    }
   ],
   "source": [
    "# Modelling using the best PCA-Decision tree Estimator \n",
    "pca_dt_best_fit = pca_dt_best.fit(X_train_pca, y_train_pca)\n",
    "\n",
    "# Prediction on Train set\n",
    "y_train_pred_pca_dt_best = pca_dt_best_fit.predict(X_train_pca)\n",
    "y_train_pred_pca_dt_best[:5]"
   ]
  },
  {
   "cell_type": "code",
   "execution_count": 87,
   "id": "b593c3a2",
   "metadata": {},
   "outputs": [
    {
     "data": {
      "image/png": "[encoded data removed]",
      "text/plain": [
       "<Figure size 640x480 with 1 Axes>"
      ]
     },
     "metadata": {},
     "output_type": "display_data"
    }
   ],
   "source": [
    "plot_roc_curve(pca_dt_best, X_train_pca, y_train_pca)\n",
    "plt.show()"
   ]
  },
  {
   "cell_type": "code",
   "execution_count": 88,
   "id": "855fc454",
   "metadata": {},
   "outputs": [
    {
     "data": {
      "text/plain": [
       "array([1, 0, 0, 1, 1])"
      ]
     },
     "execution_count": 88,
     "metadata": {},
     "output_type": "execute_result"
    }
   ],
   "source": [
    "# Prediction on test set\n",
    "y_test_pred_pca_dt_best = pca_dt_best_fit.predict(X_test_pca)\n",
    "y_test_pred_pca_dt_best[:5]"
   ]
  },
  {
   "cell_type": "code",
   "execution_count": 89,
   "id": "75961bcf",
   "metadata": {},
   "outputs": [
    {
     "name": "stdout",
     "output_type": "stream",
     "text": [
      "Train Performance :\n",
      "\n",
      "Accuracy : 0.964\n",
      "Sensitivity  : 0.966\n",
      "Specificity : 0.961\n",
      "\n",
      "Test Performance :\n",
      "\n",
      "Accuracy : 0.595\n",
      "Sensitivity  : 0.371\n",
      "Specificity : 0.608\n"
     ]
    }
   ],
   "source": [
    "## PCA - RandomForest Model Performance - Hyper Parameter Tuned\n",
    "\n",
    "train_matrix = confusion_matrix(y_train_pca, y_train_pred_pca_dt_best)\n",
    "test_matrix = confusion_matrix(y_test, y_test_pred_pca_dt_best)\n",
    "\n",
    "print('Train Performance :\\n')\n",
    "model_metrics(train_matrix)\n",
    "\n",
    "print('\\nTest Performance :\\n')\n",
    "model_metrics(test_matrix)"
   ]
  },
  {
   "cell_type": "markdown",
   "id": "bbdd21ba",
   "metadata": {},
   "source": [
    "### PCA + Random Forest"
   ]
  },
  {
   "cell_type": "code",
   "execution_count": 90,
   "id": "8fba500c",
   "metadata": {},
   "outputs": [],
   "source": [
    "from sklearn.ensemble import RandomForestClassifier"
   ]
  },
  {
   "cell_type": "code",
   "execution_count": 91,
   "id": "4473910e",
   "metadata": {},
   "outputs": [],
   "source": [
    "rf = RandomForestClassifier(n_estimators=10, max_depth=4, max_features=5, random_state=100, oob_score=True)"
   ]
  },
  {
   "cell_type": "code",
   "execution_count": 92,
   "id": "3240b1a4",
   "metadata": {},
   "outputs": [
    {
     "name": "stdout",
     "output_type": "stream",
     "text": [
      "Wall time: 664 ms\n"
     ]
    },
    {
     "data": {
      "text/plain": [
       "RandomForestClassifier(max_depth=4, max_features=5, n_estimators=10,\n",
       "                       oob_score=True, random_state=100)"
      ]
     },
     "execution_count": 92,
     "metadata": {},
     "output_type": "execute_result"
    }
   ],
   "source": [
    "%%time\n",
    "rf.fit(X_train_pca, y_train_pca)"
   ]
  },
  {
   "cell_type": "code",
   "execution_count": 93,
   "id": "433ac1cf",
   "metadata": {},
   "outputs": [
    {
     "data": {
      "text/plain": [
       "0.7538449977456039"
      ]
     },
     "execution_count": 93,
     "metadata": {},
     "output_type": "execute_result"
    }
   ],
   "source": [
    "rf.oob_score_"
   ]
  },
  {
   "cell_type": "code",
   "execution_count": 94,
   "id": "bbb9a190",
   "metadata": {},
   "outputs": [
    {
     "data": {
      "image/png": "[encoded data removed]",
      "text/plain": [
       "<Figure size 640x480 with 1 Axes>"
      ]
     },
     "metadata": {},
     "output_type": "display_data"
    }
   ],
   "source": [
    "plot_roc_curve(rf, X_train_pca, y_train_pca)\n",
    "plt.show()"
   ]
  },
  {
   "cell_type": "markdown",
   "id": "9d2ed7c5",
   "metadata": {},
   "source": [
    "### Hyper-parameter tuning for the Random Forest"
   ]
  },
  {
   "cell_type": "code",
   "execution_count": 95,
   "id": "309e4f1f",
   "metadata": {},
   "outputs": [],
   "source": [
    "rf = RandomForestClassifier(random_state=42, n_jobs=-1)"
   ]
  },
  {
   "cell_type": "code",
   "execution_count": 96,
   "id": "f1a7f106",
   "metadata": {},
   "outputs": [],
   "source": [
    "params = {\n",
    "    'max_depth': [2,3,5,10,20],\n",
    "    'min_samples_leaf': [10,20,50,100,200],\n",
    "    'n_estimators': [25, 50, 60,70]\n",
    "}"
   ]
  },
  {
   "cell_type": "code",
   "execution_count": 97,
   "id": "c15a3047",
   "metadata": {},
   "outputs": [],
   "source": [
    "rf_grid_search = GridSearchCV(estimator=rf,\n",
    "                           param_grid=params,\n",
    "                           cv = 4,\n",
    "                           n_jobs=-1, verbose=1, scoring=\"accuracy\")"
   ]
  },
  {
   "cell_type": "code",
   "execution_count": 98,
   "id": "1bd97ffd",
   "metadata": {},
   "outputs": [
    {
     "name": "stdout",
     "output_type": "stream",
     "text": [
      "Fitting 4 folds for each of 100 candidates, totalling 400 fits\n",
      "Wall time: 7min 28s\n"
     ]
    },
    {
     "data": {
      "text/plain": [
       "GridSearchCV(cv=4, estimator=RandomForestClassifier(n_jobs=-1, random_state=42),\n",
       "             n_jobs=-1,\n",
       "             param_grid={'max_depth': [2, 3, 5, 10, 20],\n",
       "                         'min_samples_leaf': [10, 20, 50, 100, 200],\n",
       "                         'n_estimators': [25, 50, 60, 70]},\n",
       "             scoring='accuracy', verbose=1)"
      ]
     },
     "execution_count": 98,
     "metadata": {},
     "output_type": "execute_result"
    }
   ],
   "source": [
    "%%time\n",
    "rf_grid_search.fit(X_train_pca, y_train_pca)"
   ]
  },
  {
   "cell_type": "code",
   "execution_count": 99,
   "id": "ad4ecd80",
   "metadata": {},
   "outputs": [
    {
     "data": {
      "text/plain": [
       "0.9291371366116663"
      ]
     },
     "execution_count": 99,
     "metadata": {},
     "output_type": "execute_result"
    }
   ],
   "source": [
    "rf_grid_search.best_score_"
   ]
  },
  {
   "cell_type": "code",
   "execution_count": 100,
   "id": "d068912c",
   "metadata": {},
   "outputs": [
    {
     "data": {
      "text/plain": [
       "RandomForestClassifier(max_depth=20, min_samples_leaf=10, n_estimators=70,\n",
       "                       n_jobs=-1, random_state=42)"
      ]
     },
     "execution_count": 100,
     "metadata": {},
     "output_type": "execute_result"
    }
   ],
   "source": [
    "pca_rf_best = rf_grid_search.best_estimator_\n",
    "pca_rf_best"
   ]
  },
  {
   "cell_type": "code",
   "execution_count": 101,
   "id": "41abf7c6",
   "metadata": {},
   "outputs": [
    {
     "data": {
      "text/plain": [
       "array([0, 0, 0, 0, 0])"
      ]
     },
     "execution_count": 101,
     "metadata": {},
     "output_type": "execute_result"
    }
   ],
   "source": [
    "# Modelling using the best PCA-RandomForest Estimator \n",
    "pca_rf_best_fit = pca_rf_best.fit(X_train_pca, y_train_pca)\n",
    "\n",
    "# Prediction on Train set\n",
    "y_train_pred_pca_rf_best = pca_rf_best_fit.predict(X_train_pca)\n",
    "y_train_pred_pca_rf_best[:5]"
   ]
  },
  {
   "cell_type": "code",
   "execution_count": 102,
   "id": "ad2f94e3",
   "metadata": {},
   "outputs": [
    {
     "data": {
      "image/png": "[encoded data removed]",
      "text/plain": [
       "<Figure size 640x480 with 1 Axes>"
      ]
     },
     "metadata": {},
     "output_type": "display_data"
    }
   ],
   "source": [
    "plot_roc_curve(pca_rf_best, X_train_pca, y_train_pca)\n",
    "plt.show()"
   ]
  },
  {
   "cell_type": "code",
   "execution_count": 103,
   "id": "5310c8e3",
   "metadata": {},
   "outputs": [
    {
     "data": {
      "text/plain": [
       "array([0, 0, 0, 0, 0])"
      ]
     },
     "execution_count": 103,
     "metadata": {},
     "output_type": "execute_result"
    }
   ],
   "source": [
    "# Prediction on test set\n",
    "y_test_pred_pca_rf_best = pca_rf_best_fit.predict(X_test_pca)\n",
    "y_test_pred_pca_rf_best[:5]"
   ]
  },
  {
   "cell_type": "code",
   "execution_count": 104,
   "id": "27d4eca4",
   "metadata": {},
   "outputs": [
    {
     "name": "stdout",
     "output_type": "stream",
     "text": [
      "Train Performance :\n",
      "\n",
      "Accuracy : 0.97\n",
      "Sensitivity  : 0.982\n",
      "Specificity : 0.958\n",
      "\n",
      "Test Performance :\n",
      "\n",
      "Accuracy : 0.945\n",
      "Sensitivity  : 0.069\n",
      "Specificity : 0.995\n"
     ]
    }
   ],
   "source": [
    "## PCA - RandomForest Model Performance - Hyper Parameter Tuned\n",
    "\n",
    "train_matrix = confusion_matrix(y_train_pca, y_train_pred_pca_rf_best)\n",
    "test_matrix = confusion_matrix(y_test, y_test_pred_pca_rf_best)\n",
    "\n",
    "print('Train Performance :\\n')\n",
    "model_metrics(train_matrix)\n",
    "\n",
    "print('\\nTest Performance :\\n')\n",
    "model_metrics(test_matrix)"
   ]
  },
  {
   "cell_type": "code",
   "execution_count": 105,
   "id": "cbcfec7c",
   "metadata": {},
   "outputs": [
    {
     "data": {
      "text/plain": [
       "array([0.15589947, 0.01722474, 0.02596978, 0.06775368, 0.02175643,\n",
       "       0.06092054, 0.01450628, 0.00924092, 0.01142614, 0.03563719,\n",
       "       0.01014448, 0.01185176, 0.0170879 , 0.01531132, 0.03486845,\n",
       "       0.021482  , 0.02092875, 0.02340406, 0.02105208, 0.00873821,\n",
       "       0.01365459, 0.01489778, 0.01956786, 0.0097026 , 0.01808541,\n",
       "       0.00875645, 0.0141366 , 0.00689058, 0.01278233, 0.00763096,\n",
       "       0.01092377, 0.00760996, 0.03155734, 0.00789755, 0.00717974,\n",
       "       0.01577243, 0.01000354, 0.00796146, 0.00752077, 0.00689208,\n",
       "       0.00552822, 0.00593493, 0.00627054, 0.00678064, 0.00660681,\n",
       "       0.00753415, 0.00734476, 0.00622499, 0.00771986, 0.01516882,\n",
       "       0.00699159, 0.00860769, 0.00747075, 0.01087372, 0.00899847,\n",
       "       0.00600215, 0.0061512 , 0.00895024, 0.00692271, 0.00928975])"
      ]
     },
     "execution_count": 105,
     "metadata": {},
     "output_type": "execute_result"
    }
   ],
   "source": [
    "pca_rf_best.feature_importances_"
   ]
  },
  {
   "cell_type": "code",
   "execution_count": 106,
   "id": "806a0eb2",
   "metadata": {},
   "outputs": [],
   "source": [
    "imp_df = pd.DataFrame({\n",
    "    \"Varname\": X_train_pca.columns,\n",
    "    \"Imp\": pca_rf_best.feature_importances_\n",
    "})"
   ]
  },
  {
   "cell_type": "code",
   "execution_count": 107,
   "id": "926401aa",
   "metadata": {},
   "outputs": [
    {
     "data": {
      "text/html": [
       "<div>\n",
       "<style scoped>\n",
       "    .dataframe tbody tr th:only-of-type {\n",
       "        vertical-align: middle;\n",
       "    }\n",
       "\n",
       "    .dataframe tbody tr th {\n",
       "        vertical-align: top;\n",
       "    }\n",
       "\n",
       "    .dataframe thead th {\n",
       "        text-align: right;\n",
       "    }\n",
       "</style>\n",
       "<table border=\"1\" class=\"dataframe\">\n",
       "  <thead>\n",
       "    <tr style=\"text-align: right;\">\n",
       "      <th></th>\n",
       "      <th>Varname</th>\n",
       "      <th>Imp</th>\n",
       "    </tr>\n",
       "  </thead>\n",
       "  <tbody>\n",
       "    <tr>\n",
       "      <th>0</th>\n",
       "      <td>PC_1</td>\n",
       "      <td>0.155899</td>\n",
       "    </tr>\n",
       "    <tr>\n",
       "      <th>3</th>\n",
       "      <td>PC_4</td>\n",
       "      <td>0.067754</td>\n",
       "    </tr>\n",
       "    <tr>\n",
       "      <th>5</th>\n",
       "      <td>PC_6</td>\n",
       "      <td>0.060921</td>\n",
       "    </tr>\n",
       "    <tr>\n",
       "      <th>9</th>\n",
       "      <td>PC_10</td>\n",
       "      <td>0.035637</td>\n",
       "    </tr>\n",
       "    <tr>\n",
       "      <th>14</th>\n",
       "      <td>PC_15</td>\n",
       "      <td>0.034868</td>\n",
       "    </tr>\n",
       "    <tr>\n",
       "      <th>32</th>\n",
       "      <td>PC_33</td>\n",
       "      <td>0.031557</td>\n",
       "    </tr>\n",
       "    <tr>\n",
       "      <th>2</th>\n",
       "      <td>PC_3</td>\n",
       "      <td>0.025970</td>\n",
       "    </tr>\n",
       "    <tr>\n",
       "      <th>17</th>\n",
       "      <td>PC_18</td>\n",
       "      <td>0.023404</td>\n",
       "    </tr>\n",
       "    <tr>\n",
       "      <th>4</th>\n",
       "      <td>PC_5</td>\n",
       "      <td>0.021756</td>\n",
       "    </tr>\n",
       "    <tr>\n",
       "      <th>15</th>\n",
       "      <td>PC_16</td>\n",
       "      <td>0.021482</td>\n",
       "    </tr>\n",
       "    <tr>\n",
       "      <th>18</th>\n",
       "      <td>PC_19</td>\n",
       "      <td>0.021052</td>\n",
       "    </tr>\n",
       "    <tr>\n",
       "      <th>16</th>\n",
       "      <td>PC_17</td>\n",
       "      <td>0.020929</td>\n",
       "    </tr>\n",
       "    <tr>\n",
       "      <th>22</th>\n",
       "      <td>PC_23</td>\n",
       "      <td>0.019568</td>\n",
       "    </tr>\n",
       "    <tr>\n",
       "      <th>24</th>\n",
       "      <td>PC_25</td>\n",
       "      <td>0.018085</td>\n",
       "    </tr>\n",
       "    <tr>\n",
       "      <th>1</th>\n",
       "      <td>PC_2</td>\n",
       "      <td>0.017225</td>\n",
       "    </tr>\n",
       "    <tr>\n",
       "      <th>12</th>\n",
       "      <td>PC_13</td>\n",
       "      <td>0.017088</td>\n",
       "    </tr>\n",
       "    <tr>\n",
       "      <th>35</th>\n",
       "      <td>PC_36</td>\n",
       "      <td>0.015772</td>\n",
       "    </tr>\n",
       "    <tr>\n",
       "      <th>13</th>\n",
       "      <td>PC_14</td>\n",
       "      <td>0.015311</td>\n",
       "    </tr>\n",
       "    <tr>\n",
       "      <th>49</th>\n",
       "      <td>PC_50</td>\n",
       "      <td>0.015169</td>\n",
       "    </tr>\n",
       "    <tr>\n",
       "      <th>21</th>\n",
       "      <td>PC_22</td>\n",
       "      <td>0.014898</td>\n",
       "    </tr>\n",
       "    <tr>\n",
       "      <th>6</th>\n",
       "      <td>PC_7</td>\n",
       "      <td>0.014506</td>\n",
       "    </tr>\n",
       "    <tr>\n",
       "      <th>26</th>\n",
       "      <td>PC_27</td>\n",
       "      <td>0.014137</td>\n",
       "    </tr>\n",
       "    <tr>\n",
       "      <th>20</th>\n",
       "      <td>PC_21</td>\n",
       "      <td>0.013655</td>\n",
       "    </tr>\n",
       "    <tr>\n",
       "      <th>28</th>\n",
       "      <td>PC_29</td>\n",
       "      <td>0.012782</td>\n",
       "    </tr>\n",
       "    <tr>\n",
       "      <th>11</th>\n",
       "      <td>PC_12</td>\n",
       "      <td>0.011852</td>\n",
       "    </tr>\n",
       "    <tr>\n",
       "      <th>8</th>\n",
       "      <td>PC_9</td>\n",
       "      <td>0.011426</td>\n",
       "    </tr>\n",
       "    <tr>\n",
       "      <th>30</th>\n",
       "      <td>PC_31</td>\n",
       "      <td>0.010924</td>\n",
       "    </tr>\n",
       "    <tr>\n",
       "      <th>53</th>\n",
       "      <td>PC_54</td>\n",
       "      <td>0.010874</td>\n",
       "    </tr>\n",
       "    <tr>\n",
       "      <th>10</th>\n",
       "      <td>PC_11</td>\n",
       "      <td>0.010144</td>\n",
       "    </tr>\n",
       "    <tr>\n",
       "      <th>36</th>\n",
       "      <td>PC_37</td>\n",
       "      <td>0.010004</td>\n",
       "    </tr>\n",
       "    <tr>\n",
       "      <th>23</th>\n",
       "      <td>PC_24</td>\n",
       "      <td>0.009703</td>\n",
       "    </tr>\n",
       "    <tr>\n",
       "      <th>59</th>\n",
       "      <td>PC_60</td>\n",
       "      <td>0.009290</td>\n",
       "    </tr>\n",
       "    <tr>\n",
       "      <th>7</th>\n",
       "      <td>PC_8</td>\n",
       "      <td>0.009241</td>\n",
       "    </tr>\n",
       "    <tr>\n",
       "      <th>54</th>\n",
       "      <td>PC_55</td>\n",
       "      <td>0.008998</td>\n",
       "    </tr>\n",
       "    <tr>\n",
       "      <th>57</th>\n",
       "      <td>PC_58</td>\n",
       "      <td>0.008950</td>\n",
       "    </tr>\n",
       "    <tr>\n",
       "      <th>25</th>\n",
       "      <td>PC_26</td>\n",
       "      <td>0.008756</td>\n",
       "    </tr>\n",
       "    <tr>\n",
       "      <th>19</th>\n",
       "      <td>PC_20</td>\n",
       "      <td>0.008738</td>\n",
       "    </tr>\n",
       "    <tr>\n",
       "      <th>51</th>\n",
       "      <td>PC_52</td>\n",
       "      <td>0.008608</td>\n",
       "    </tr>\n",
       "    <tr>\n",
       "      <th>37</th>\n",
       "      <td>PC_38</td>\n",
       "      <td>0.007961</td>\n",
       "    </tr>\n",
       "    <tr>\n",
       "      <th>33</th>\n",
       "      <td>PC_34</td>\n",
       "      <td>0.007898</td>\n",
       "    </tr>\n",
       "    <tr>\n",
       "      <th>48</th>\n",
       "      <td>PC_49</td>\n",
       "      <td>0.007720</td>\n",
       "    </tr>\n",
       "    <tr>\n",
       "      <th>29</th>\n",
       "      <td>PC_30</td>\n",
       "      <td>0.007631</td>\n",
       "    </tr>\n",
       "    <tr>\n",
       "      <th>31</th>\n",
       "      <td>PC_32</td>\n",
       "      <td>0.007610</td>\n",
       "    </tr>\n",
       "    <tr>\n",
       "      <th>45</th>\n",
       "      <td>PC_46</td>\n",
       "      <td>0.007534</td>\n",
       "    </tr>\n",
       "    <tr>\n",
       "      <th>38</th>\n",
       "      <td>PC_39</td>\n",
       "      <td>0.007521</td>\n",
       "    </tr>\n",
       "    <tr>\n",
       "      <th>52</th>\n",
       "      <td>PC_53</td>\n",
       "      <td>0.007471</td>\n",
       "    </tr>\n",
       "    <tr>\n",
       "      <th>46</th>\n",
       "      <td>PC_47</td>\n",
       "      <td>0.007345</td>\n",
       "    </tr>\n",
       "    <tr>\n",
       "      <th>34</th>\n",
       "      <td>PC_35</td>\n",
       "      <td>0.007180</td>\n",
       "    </tr>\n",
       "    <tr>\n",
       "      <th>50</th>\n",
       "      <td>PC_51</td>\n",
       "      <td>0.006992</td>\n",
       "    </tr>\n",
       "    <tr>\n",
       "      <th>58</th>\n",
       "      <td>PC_59</td>\n",
       "      <td>0.006923</td>\n",
       "    </tr>\n",
       "    <tr>\n",
       "      <th>39</th>\n",
       "      <td>PC_40</td>\n",
       "      <td>0.006892</td>\n",
       "    </tr>\n",
       "    <tr>\n",
       "      <th>27</th>\n",
       "      <td>PC_28</td>\n",
       "      <td>0.006891</td>\n",
       "    </tr>\n",
       "    <tr>\n",
       "      <th>43</th>\n",
       "      <td>PC_44</td>\n",
       "      <td>0.006781</td>\n",
       "    </tr>\n",
       "    <tr>\n",
       "      <th>44</th>\n",
       "      <td>PC_45</td>\n",
       "      <td>0.006607</td>\n",
       "    </tr>\n",
       "    <tr>\n",
       "      <th>42</th>\n",
       "      <td>PC_43</td>\n",
       "      <td>0.006271</td>\n",
       "    </tr>\n",
       "    <tr>\n",
       "      <th>47</th>\n",
       "      <td>PC_48</td>\n",
       "      <td>0.006225</td>\n",
       "    </tr>\n",
       "    <tr>\n",
       "      <th>56</th>\n",
       "      <td>PC_57</td>\n",
       "      <td>0.006151</td>\n",
       "    </tr>\n",
       "    <tr>\n",
       "      <th>55</th>\n",
       "      <td>PC_56</td>\n",
       "      <td>0.006002</td>\n",
       "    </tr>\n",
       "    <tr>\n",
       "      <th>41</th>\n",
       "      <td>PC_42</td>\n",
       "      <td>0.005935</td>\n",
       "    </tr>\n",
       "    <tr>\n",
       "      <th>40</th>\n",
       "      <td>PC_41</td>\n",
       "      <td>0.005528</td>\n",
       "    </tr>\n",
       "  </tbody>\n",
       "</table>\n",
       "</div>"
      ],
      "text/plain": [
       "   Varname       Imp\n",
       "0     PC_1  0.155899\n",
       "3     PC_4  0.067754\n",
       "5     PC_6  0.060921\n",
       "9    PC_10  0.035637\n",
       "14   PC_15  0.034868\n",
       "32   PC_33  0.031557\n",
       "2     PC_3  0.025970\n",
       "17   PC_18  0.023404\n",
       "4     PC_5  0.021756\n",
       "15   PC_16  0.021482\n",
       "18   PC_19  0.021052\n",
       "16   PC_17  0.020929\n",
       "22   PC_23  0.019568\n",
       "24   PC_25  0.018085\n",
       "1     PC_2  0.017225\n",
       "12   PC_13  0.017088\n",
       "35   PC_36  0.015772\n",
       "13   PC_14  0.015311\n",
       "49   PC_50  0.015169\n",
       "21   PC_22  0.014898\n",
       "6     PC_7  0.014506\n",
       "26   PC_27  0.014137\n",
       "20   PC_21  0.013655\n",
       "28   PC_29  0.012782\n",
       "11   PC_12  0.011852\n",
       "8     PC_9  0.011426\n",
       "30   PC_31  0.010924\n",
       "53   PC_54  0.010874\n",
       "10   PC_11  0.010144\n",
       "36   PC_37  0.010004\n",
       "23   PC_24  0.009703\n",
       "59   PC_60  0.009290\n",
       "7     PC_8  0.009241\n",
       "54   PC_55  0.008998\n",
       "57   PC_58  0.008950\n",
       "25   PC_26  0.008756\n",
       "19   PC_20  0.008738\n",
       "51   PC_52  0.008608\n",
       "37   PC_38  0.007961\n",
       "33   PC_34  0.007898\n",
       "48   PC_49  0.007720\n",
       "29   PC_30  0.007631\n",
       "31   PC_32  0.007610\n",
       "45   PC_46  0.007534\n",
       "38   PC_39  0.007521\n",
       "52   PC_53  0.007471\n",
       "46   PC_47  0.007345\n",
       "34   PC_35  0.007180\n",
       "50   PC_51  0.006992\n",
       "58   PC_59  0.006923\n",
       "39   PC_40  0.006892\n",
       "27   PC_28  0.006891\n",
       "43   PC_44  0.006781\n",
       "44   PC_45  0.006607\n",
       "42   PC_43  0.006271\n",
       "47   PC_48  0.006225\n",
       "56   PC_57  0.006151\n",
       "55   PC_56  0.006002\n",
       "41   PC_42  0.005935\n",
       "40   PC_41  0.005528"
      ]
     },
     "execution_count": 107,
     "metadata": {},
     "output_type": "execute_result"
    }
   ],
   "source": [
    "imp_df.sort_values(by=\"Imp\", ascending=False)"
   ]
  },
  {
   "cell_type": "markdown",
   "id": "881d8e9c",
   "metadata": {},
   "source": [
    "### PCA + Adaboost"
   ]
  },
  {
   "cell_type": "code",
   "execution_count": 108,
   "id": "83c57e25",
   "metadata": {},
   "outputs": [],
   "source": [
    "from sklearn.ensemble import AdaBoostClassifier,GradientBoostingClassifier"
   ]
  },
  {
   "cell_type": "code",
   "execution_count": 109,
   "id": "d7427577",
   "metadata": {},
   "outputs": [],
   "source": [
    "#Decision Stumps -> Decision Tree with 1 depth"
   ]
  },
  {
   "cell_type": "code",
   "execution_count": 110,
   "id": "70892959",
   "metadata": {},
   "outputs": [],
   "source": [
    "abc=AdaBoostClassifier(n_estimators=10,random_state=10)\n",
    "model1=abc.fit(X_train_pca,y_train_pca)"
   ]
  },
  {
   "cell_type": "code",
   "execution_count": 111,
   "id": "8dd3d8fc",
   "metadata": {},
   "outputs": [],
   "source": [
    "y_train_ada_pred=model1.predict(X_train_pca)\n",
    "y_test_ada_pred=model1.predict(X_test_pca)"
   ]
  },
  {
   "cell_type": "code",
   "execution_count": 112,
   "id": "f8d3494f",
   "metadata": {},
   "outputs": [
    {
     "name": "stdout",
     "output_type": "stream",
     "text": [
      "AdaBoost Classifier Model Train Accuracy: 0.7889384299383798\n",
      "AdaBoost Classifier Model Test Accuracy: 0.9375088765800312\n"
     ]
    }
   ],
   "source": [
    "from sklearn.metrics import accuracy_score\n",
    "\n",
    "\n",
    "# calculate and print model accuracy\n",
    "print(\"AdaBoost Classifier Model Train Accuracy:\", accuracy_score(y_train_pca, y_train_ada_pred))\n",
    "print(\"AdaBoost Classifier Model Test Accuracy:\", accuracy_score(y_test, y_test_ada_pred))"
   ]
  },
  {
   "cell_type": "markdown",
   "id": "b671ec5f",
   "metadata": {},
   "source": [
    "### Hyper-parameter tuning for Adaboost"
   ]
  },
  {
   "cell_type": "code",
   "execution_count": 113,
   "id": "283cbff5",
   "metadata": {},
   "outputs": [],
   "source": [
    "from sklearn.model_selection import GridSearchCV"
   ]
  },
  {
   "cell_type": "code",
   "execution_count": 114,
   "id": "36ef9d27",
   "metadata": {},
   "outputs": [
    {
     "data": {
      "text/plain": [
       "{'n_estimators': [20, 30, 50, 60, 70],\n",
       " 'learning_rate': [0.001, 0.01, 0.1, 1.0]}"
      ]
     },
     "execution_count": 114,
     "metadata": {},
     "output_type": "execute_result"
    }
   ],
   "source": [
    "model = AdaBoostClassifier()\n",
    "\n",
    "# define the grid of values to search\n",
    "ada_grid = dict()\n",
    "ada_grid['n_estimators'] = [20,30,50,60,70]\n",
    "ada_grid['learning_rate'] = [0.001, 0.01, 0.1, 1.0]\n",
    "ada_grid"
   ]
  },
  {
   "cell_type": "code",
   "execution_count": 115,
   "id": "93a4365c",
   "metadata": {},
   "outputs": [],
   "source": [
    "# define the grid search procedure\n",
    "ada_grid_search = GridSearchCV(estimator=model, param_grid=ada_grid, n_jobs=-1, cv=5, \\\n",
    "                          scoring='accuracy')\n",
    "\n",
    "#execute the grid search\n",
    "ada_grid_result = ada_grid_search.fit(X_train_pca, y_train_pca)"
   ]
  },
  {
   "cell_type": "code",
   "execution_count": 116,
   "id": "da086b53",
   "metadata": {},
   "outputs": [
    {
     "data": {
      "text/plain": [
       "0.8341770140155076"
      ]
     },
     "execution_count": 116,
     "metadata": {},
     "output_type": "execute_result"
    }
   ],
   "source": [
    "ada_grid_search.best_score_"
   ]
  },
  {
   "cell_type": "code",
   "execution_count": 117,
   "id": "4e47bdea",
   "metadata": {},
   "outputs": [
    {
     "data": {
      "text/plain": [
       "AdaBoostClassifier(n_estimators=70)"
      ]
     },
     "execution_count": 117,
     "metadata": {},
     "output_type": "execute_result"
    }
   ],
   "source": [
    "pca_ada_best = ada_grid_search.best_estimator_\n",
    "pca_ada_best"
   ]
  },
  {
   "cell_type": "code",
   "execution_count": 118,
   "id": "2821a407",
   "metadata": {},
   "outputs": [
    {
     "data": {
      "text/plain": [
       "array([0, 0, 1, 0, 0])"
      ]
     },
     "execution_count": 118,
     "metadata": {},
     "output_type": "execute_result"
    }
   ],
   "source": [
    "# Modelling using the best PCA-RandomForest Estimator \n",
    "pca_ada_best_fit = pca_ada_best.fit(X_train_pca, y_train_pca)\n",
    "\n",
    "# Prediction on Train set\n",
    "y_train_pred_pca_ada_best = pca_ada_best_fit.predict(X_train_pca)\n",
    "y_train_pred_pca_ada_best[:5]"
   ]
  },
  {
   "cell_type": "code",
   "execution_count": 119,
   "id": "232deeac",
   "metadata": {},
   "outputs": [
    {
     "data": {
      "image/png": "[encoded data removed]",
      "text/plain": [
       "<Figure size 640x480 with 1 Axes>"
      ]
     },
     "metadata": {},
     "output_type": "display_data"
    }
   ],
   "source": [
    "plot_roc_curve(pca_ada_best, X_train_pca, y_train_pca)\n",
    "plt.show()"
   ]
  },
  {
   "cell_type": "code",
   "execution_count": 120,
   "id": "40ff92a4",
   "metadata": {},
   "outputs": [
    {
     "data": {
      "text/plain": [
       "array([0, 0, 0, 1, 0])"
      ]
     },
     "execution_count": 120,
     "metadata": {},
     "output_type": "execute_result"
    }
   ],
   "source": [
    "# Prediction on test set\n",
    "y_test_pred_pca_ada_best = pca_ada_best_fit.predict(X_test_pca)\n",
    "y_test_pred_pca_ada_best[:5]"
   ]
  },
  {
   "cell_type": "code",
   "execution_count": 121,
   "id": "8c2073e1",
   "metadata": {},
   "outputs": [
    {
     "name": "stdout",
     "output_type": "stream",
     "text": [
      "Train Performance :\n",
      "\n",
      "Accuracy : 0.842\n",
      "Sensitivity  : 0.859\n",
      "Specificity : 0.825\n",
      "\n",
      "Test Performance :\n",
      "\n",
      "Accuracy : 0.776\n",
      "Sensitivity  : 0.369\n",
      "Specificity : 0.799\n"
     ]
    }
   ],
   "source": [
    "## PCA - RandomForest Model Performance - Hyper Parameter Tuned\n",
    "\n",
    "train_matrix = confusion_matrix(y_train_pca, y_train_pred_pca_ada_best)\n",
    "test_matrix = confusion_matrix(y_test, y_test_pred_pca_ada_best)\n",
    "\n",
    "print('Train Performance :\\n')\n",
    "model_metrics(train_matrix)\n",
    "\n",
    "print('\\nTest Performance :\\n')\n",
    "model_metrics(test_matrix)"
   ]
  },
  {
   "cell_type": "markdown",
   "id": "5417714d",
   "metadata": {},
   "source": [
    "## Step 9: Modeling without PCA (Logistic Regression)"
   ]
  },
  {
   "cell_type": "code",
   "execution_count": 122,
   "id": "e994e1b4",
   "metadata": {},
   "outputs": [
    {
     "name": "stdout",
     "output_type": "stream",
     "text": [
      "X train:  (39922, 109) y train:  (39922,)\n"
     ]
    }
   ],
   "source": [
    "print(\"X train: \", X_train.shape, \"y train: \", y_train.shape)"
   ]
  },
  {
   "cell_type": "code",
   "execution_count": 123,
   "id": "565cf0a6",
   "metadata": {},
   "outputs": [],
   "source": [
    "#importing stats model for logistic regression\n",
    "import statsmodels.api as sm"
   ]
  },
  {
   "cell_type": "code",
   "execution_count": 124,
   "id": "25011953",
   "metadata": {},
   "outputs": [],
   "source": [
    "# variable selection using RFE (Recursive feature elimination)\n",
    "\n",
    "from sklearn.linear_model import LogisticRegression\n",
    "logreg = LogisticRegression()\n",
    "\n",
    "from sklearn.feature_selection import RFE\n",
    "\n",
    "rfe = RFE(logreg, n_features_to_select=20)         # running RFE with 25 variables as output\n",
    "rfe = rfe.fit(X_train, y_train)"
   ]
  },
  {
   "cell_type": "code",
   "execution_count": 125,
   "id": "ef6a1856",
   "metadata": {},
   "outputs": [
    {
     "data": {
      "text/plain": [
       "Index(['onnet_mou_7', 'onnet_mou_8', 'loc_og_t2t_mou_8', 'loc_og_mou_8',\n",
       "       'std_og_t2t_mou_7', 'std_og_t2t_mou_8', 'og_others_8',\n",
       "       'loc_ic_t2t_mou_8', 'loc_ic_t2m_mou_7', 'loc_ic_t2m_mou_8',\n",
       "       'monthly_2g_6', 'monthly_2g_7', 'monthly_2g_8', 'sachet_2g_8',\n",
       "       'monthly_3g_6', 'monthly_3g_8', 'sep_vbc_3g', 'total_og_mou_diff',\n",
       "       'vol_2g_mb_diff', 'vol_3g_mb_diff'],\n",
       "      dtype='object')"
      ]
     },
     "execution_count": 125,
     "metadata": {},
     "output_type": "execute_result"
    }
   ],
   "source": [
    "cols = X_train.columns[rfe.support_]\n",
    "cols"
   ]
  },
  {
   "cell_type": "code",
   "execution_count": 126,
   "id": "23a9f1ae",
   "metadata": {},
   "outputs": [
    {
     "data": {
      "text/plain": [
       "[('onnet_mou_6', False, 67),\n",
       " ('onnet_mou_7', True, 1),\n",
       " ('onnet_mou_8', True, 1),\n",
       " ('offnet_mou_6', False, 23),\n",
       " ('offnet_mou_7', False, 20),\n",
       " ('offnet_mou_8', False, 19),\n",
       " ('roam_ic_mou_6', False, 85),\n",
       " ('roam_ic_mou_7', False, 64),\n",
       " ('roam_ic_mou_8', False, 84),\n",
       " ('roam_og_mou_6', False, 68),\n",
       " ('roam_og_mou_7', False, 3),\n",
       " ('roam_og_mou_8', False, 38),\n",
       " ('loc_og_t2t_mou_6', False, 65),\n",
       " ('loc_og_t2t_mou_7', False, 2),\n",
       " ('loc_og_t2t_mou_8', True, 1),\n",
       " ('loc_og_t2m_mou_6', False, 11),\n",
       " ('loc_og_t2m_mou_7', False, 28),\n",
       " ('loc_og_t2m_mou_8', False, 88),\n",
       " ('loc_og_t2f_mou_6', False, 51),\n",
       " ('loc_og_t2f_mou_7', False, 17),\n",
       " ('loc_og_t2f_mou_8', False, 39),\n",
       " ('loc_og_t2c_mou_6', False, 42),\n",
       " ('loc_og_t2c_mou_7', False, 74),\n",
       " ('loc_og_t2c_mou_8', False, 31),\n",
       " ('loc_og_mou_6', False, 46),\n",
       " ('loc_og_mou_7', False, 27),\n",
       " ('loc_og_mou_8', True, 1),\n",
       " ('std_og_t2t_mou_6', False, 66),\n",
       " ('std_og_t2t_mou_7', True, 1),\n",
       " ('std_og_t2t_mou_8', True, 1),\n",
       " ('std_og_t2m_mou_6', False, 10),\n",
       " ('std_og_t2m_mou_7', False, 29),\n",
       " ('std_og_t2m_mou_8', False, 41),\n",
       " ('std_og_t2f_mou_6', False, 83),\n",
       " ('std_og_t2f_mou_7', False, 55),\n",
       " ('std_og_t2f_mou_8', False, 26),\n",
       " ('std_og_mou_6', False, 82),\n",
       " ('std_og_mou_7', False, 77),\n",
       " ('std_og_mou_8', False, 40),\n",
       " ('isd_og_mou_6', False, 48),\n",
       " ('isd_og_mou_7', False, 21),\n",
       " ('isd_og_mou_8', False, 22),\n",
       " ('spl_og_mou_6', False, 63),\n",
       " ('spl_og_mou_7', False, 75),\n",
       " ('spl_og_mou_8', False, 30),\n",
       " ('og_others_6', False, 62),\n",
       " ('og_others_7', False, 73),\n",
       " ('og_others_8', True, 1),\n",
       " ('loc_ic_t2t_mou_6', False, 72),\n",
       " ('loc_ic_t2t_mou_7', False, 90),\n",
       " ('loc_ic_t2t_mou_8', True, 1),\n",
       " ('loc_ic_t2m_mou_6', False, 71),\n",
       " ('loc_ic_t2m_mou_7', True, 1),\n",
       " ('loc_ic_t2m_mou_8', True, 1),\n",
       " ('loc_ic_t2f_mou_6', False, 44),\n",
       " ('loc_ic_t2f_mou_7', False, 61),\n",
       " ('loc_ic_t2f_mou_8', False, 49),\n",
       " ('loc_ic_mou_6', False, 53),\n",
       " ('loc_ic_mou_7', False, 60),\n",
       " ('loc_ic_mou_8', False, 45),\n",
       " ('std_ic_t2t_mou_6', False, 79),\n",
       " ('std_ic_t2t_mou_7', False, 25),\n",
       " ('std_ic_t2t_mou_8', False, 8),\n",
       " ('std_ic_t2m_mou_6', False, 56),\n",
       " ('std_ic_t2m_mou_7', False, 24),\n",
       " ('std_ic_t2m_mou_8', False, 57),\n",
       " ('std_ic_t2f_mou_6', False, 37),\n",
       " ('std_ic_t2f_mou_7', False, 59),\n",
       " ('std_ic_t2f_mou_8', False, 80),\n",
       " ('std_ic_mou_6', False, 78),\n",
       " ('std_ic_mou_7', False, 69),\n",
       " ('std_ic_mou_8', False, 58),\n",
       " ('spl_ic_mou_6', False, 47),\n",
       " ('spl_ic_mou_7', False, 50),\n",
       " ('spl_ic_mou_8', False, 6),\n",
       " ('isd_ic_mou_6', False, 36),\n",
       " ('isd_ic_mou_7', False, 35),\n",
       " ('isd_ic_mou_8', False, 54),\n",
       " ('ic_others_6', False, 34),\n",
       " ('ic_others_7', False, 16),\n",
       " ('ic_others_8', False, 33),\n",
       " ('max_rech_amt_6', False, 70),\n",
       " ('max_rech_amt_7', False, 52),\n",
       " ('max_rech_amt_8', False, 5),\n",
       " ('last_day_rch_amt_6', False, 81),\n",
       " ('last_day_rch_amt_7', False, 89),\n",
       " ('last_day_rch_amt_8', False, 4),\n",
       " ('monthly_2g_6', True, 1),\n",
       " ('monthly_2g_7', True, 1),\n",
       " ('monthly_2g_8', True, 1),\n",
       " ('sachet_2g_6', False, 15),\n",
       " ('sachet_2g_7', False, 87),\n",
       " ('sachet_2g_8', True, 1),\n",
       " ('monthly_3g_6', True, 1),\n",
       " ('monthly_3g_7', False, 18),\n",
       " ('monthly_3g_8', True, 1),\n",
       " ('sachet_3g_6', False, 43),\n",
       " ('sachet_3g_7', False, 76),\n",
       " ('sachet_3g_8', False, 86),\n",
       " ('aon', False, 13),\n",
       " ('sep_vbc_3g', True, 1),\n",
       " ('arpu_diff', False, 9),\n",
       " ('total_og_mou_diff', True, 1),\n",
       " ('total_ic_mou_diff', False, 12),\n",
       " ('total_rech_num_diff', False, 14),\n",
       " ('total_rech_amt_diff', False, 7),\n",
       " ('vol_2g_mb_diff', True, 1),\n",
       " ('vol_3g_mb_diff', True, 1),\n",
       " ('vbc_3g_diff', False, 32)]"
      ]
     },
     "execution_count": 126,
     "metadata": {},
     "output_type": "execute_result"
    }
   ],
   "source": [
    "list(zip(X_train.columns, rfe.support_, rfe.ranking_))"
   ]
  },
  {
   "cell_type": "markdown",
   "id": "9a0d469b",
   "metadata": {},
   "source": [
    "### Model 1 - Model building with RFE selected features"
   ]
  },
  {
   "cell_type": "code",
   "execution_count": 127,
   "id": "429afeb1",
   "metadata": {},
   "outputs": [
    {
     "data": {
      "text/html": [
       "<table class=\"simpletable\">\n",
       "<caption>Generalized Linear Model Regression Results</caption>\n",
       "<tr>\n",
       "  <th>Dep. Variable:</th>         <td>churn</td>      <th>  No. Observations:  </th>  <td> 39922</td> \n",
       "</tr>\n",
       "<tr>\n",
       "  <th>Model:</th>                  <td>GLM</td>       <th>  Df Residuals:      </th>  <td> 39901</td> \n",
       "</tr>\n",
       "<tr>\n",
       "  <th>Model Family:</th>        <td>Binomial</td>     <th>  Df Model:          </th>  <td>    20</td> \n",
       "</tr>\n",
       "<tr>\n",
       "  <th>Link Function:</th>         <td>Logit</td>      <th>  Scale:             </th> <td>  1.0000</td>\n",
       "</tr>\n",
       "<tr>\n",
       "  <th>Method:</th>                <td>IRLS</td>       <th>  Log-Likelihood:    </th> <td>     nan</td>\n",
       "</tr>\n",
       "<tr>\n",
       "  <th>Date:</th>            <td>Tue, 05 Sep 2023</td> <th>  Deviance:          </th> <td>  31990.</td>\n",
       "</tr>\n",
       "<tr>\n",
       "  <th>Time:</th>                <td>21:58:47</td>     <th>  Pearson chi2:      </th> <td>2.00e+05</td>\n",
       "</tr>\n",
       "<tr>\n",
       "  <th>No. Iterations:</th>         <td>12</td>        <th>  Pseudo R-squ. (CS):</th>  <td>   nan</td> \n",
       "</tr>\n",
       "<tr>\n",
       "  <th>Covariance Type:</th>     <td>nonrobust</td>    <th>                     </th>     <td> </td>   \n",
       "</tr>\n",
       "</table>\n",
       "<table class=\"simpletable\">\n",
       "<tr>\n",
       "          <td></td>             <th>coef</th>     <th>std err</th>      <th>z</th>      <th>P>|z|</th>  <th>[0.025</th>    <th>0.975]</th>  \n",
       "</tr>\n",
       "<tr>\n",
       "  <th>const</th>             <td>   -0.7556</td> <td>    0.034</td> <td>  -22.014</td> <td> 0.000</td> <td>   -0.823</td> <td>   -0.688</td>\n",
       "</tr>\n",
       "<tr>\n",
       "  <th>onnet_mou_7</th>       <td>    1.0042</td> <td>    0.093</td> <td>   10.744</td> <td> 0.000</td> <td>    0.821</td> <td>    1.187</td>\n",
       "</tr>\n",
       "<tr>\n",
       "  <th>onnet_mou_8</th>       <td>    1.1962</td> <td>    0.153</td> <td>    7.806</td> <td> 0.000</td> <td>    0.896</td> <td>    1.497</td>\n",
       "</tr>\n",
       "<tr>\n",
       "  <th>loc_og_t2t_mou_8</th>  <td>   -0.9273</td> <td>    0.088</td> <td>  -10.554</td> <td> 0.000</td> <td>   -1.100</td> <td>   -0.755</td>\n",
       "</tr>\n",
       "<tr>\n",
       "  <th>loc_og_mou_8</th>      <td>   -0.7137</td> <td>    0.046</td> <td>  -15.553</td> <td> 0.000</td> <td>   -0.804</td> <td>   -0.624</td>\n",
       "</tr>\n",
       "<tr>\n",
       "  <th>std_og_t2t_mou_7</th>  <td>   -0.8635</td> <td>    0.089</td> <td>   -9.697</td> <td> 0.000</td> <td>   -1.038</td> <td>   -0.689</td>\n",
       "</tr>\n",
       "<tr>\n",
       "  <th>std_og_t2t_mou_8</th>  <td>   -1.3096</td> <td>    0.136</td> <td>   -9.648</td> <td> 0.000</td> <td>   -1.576</td> <td>   -1.044</td>\n",
       "</tr>\n",
       "<tr>\n",
       "  <th>og_others_8</th>       <td>   -5.3894</td> <td>    1.822</td> <td>   -2.958</td> <td> 0.003</td> <td>   -8.960</td> <td>   -1.819</td>\n",
       "</tr>\n",
       "<tr>\n",
       "  <th>loc_ic_t2t_mou_8</th>  <td>   -0.5519</td> <td>    0.048</td> <td>  -11.456</td> <td> 0.000</td> <td>   -0.646</td> <td>   -0.457</td>\n",
       "</tr>\n",
       "<tr>\n",
       "  <th>loc_ic_t2m_mou_7</th>  <td>    0.7704</td> <td>    0.036</td> <td>   21.530</td> <td> 0.000</td> <td>    0.700</td> <td>    0.840</td>\n",
       "</tr>\n",
       "<tr>\n",
       "  <th>loc_ic_t2m_mou_8</th>  <td>   -1.3247</td> <td>    0.051</td> <td>  -25.729</td> <td> 0.000</td> <td>   -1.426</td> <td>   -1.224</td>\n",
       "</tr>\n",
       "<tr>\n",
       "  <th>monthly_2g_6</th>      <td>   -0.5337</td> <td>    0.028</td> <td>  -19.111</td> <td> 0.000</td> <td>   -0.588</td> <td>   -0.479</td>\n",
       "</tr>\n",
       "<tr>\n",
       "  <th>monthly_2g_7</th>      <td>   -0.5123</td> <td>    0.028</td> <td>  -18.206</td> <td> 0.000</td> <td>   -0.568</td> <td>   -0.457</td>\n",
       "</tr>\n",
       "<tr>\n",
       "  <th>monthly_2g_8</th>      <td>   -0.6762</td> <td>    0.045</td> <td>  -15.150</td> <td> 0.000</td> <td>   -0.764</td> <td>   -0.589</td>\n",
       "</tr>\n",
       "<tr>\n",
       "  <th>sachet_2g_8</th>       <td>   -0.7072</td> <td>    0.022</td> <td>  -32.348</td> <td> 0.000</td> <td>   -0.750</td> <td>   -0.664</td>\n",
       "</tr>\n",
       "<tr>\n",
       "  <th>monthly_3g_6</th>      <td>   -0.4016</td> <td>    0.025</td> <td>  -15.819</td> <td> 0.000</td> <td>   -0.451</td> <td>   -0.352</td>\n",
       "</tr>\n",
       "<tr>\n",
       "  <th>monthly_3g_8</th>      <td>   -0.5877</td> <td>    0.036</td> <td>  -16.536</td> <td> 0.000</td> <td>   -0.657</td> <td>   -0.518</td>\n",
       "</tr>\n",
       "<tr>\n",
       "  <th>sep_vbc_3g</th>        <td>   -1.5623</td> <td>    0.130</td> <td>  -11.982</td> <td> 0.000</td> <td>   -1.818</td> <td>   -1.307</td>\n",
       "</tr>\n",
       "<tr>\n",
       "  <th>total_og_mou_diff</th> <td>   -0.5287</td> <td>    0.025</td> <td>  -21.542</td> <td> 0.000</td> <td>   -0.577</td> <td>   -0.481</td>\n",
       "</tr>\n",
       "<tr>\n",
       "  <th>vol_2g_mb_diff</th>    <td>   -0.4143</td> <td>    0.020</td> <td>  -21.091</td> <td> 0.000</td> <td>   -0.453</td> <td>   -0.376</td>\n",
       "</tr>\n",
       "<tr>\n",
       "  <th>vol_3g_mb_diff</th>    <td>   -0.4335</td> <td>    0.024</td> <td>  -17.942</td> <td> 0.000</td> <td>   -0.481</td> <td>   -0.386</td>\n",
       "</tr>\n",
       "</table>"
      ],
      "text/plain": [
       "<class 'statsmodels.iolib.summary.Summary'>\n",
       "\"\"\"\n",
       "                 Generalized Linear Model Regression Results                  \n",
       "==============================================================================\n",
       "Dep. Variable:                  churn   No. Observations:                39922\n",
       "Model:                            GLM   Df Residuals:                    39901\n",
       "Model Family:                Binomial   Df Model:                           20\n",
       "Link Function:                  Logit   Scale:                          1.0000\n",
       "Method:                          IRLS   Log-Likelihood:                    nan\n",
       "Date:                Tue, 05 Sep 2023   Deviance:                       31990.\n",
       "Time:                        21:58:47   Pearson chi2:                 2.00e+05\n",
       "No. Iterations:                    12   Pseudo R-squ. (CS):                nan\n",
       "Covariance Type:            nonrobust                                         \n",
       "=====================================================================================\n",
       "                        coef    std err          z      P>|z|      [0.025      0.975]\n",
       "-------------------------------------------------------------------------------------\n",
       "const                -0.7556      0.034    -22.014      0.000      -0.823      -0.688\n",
       "onnet_mou_7           1.0042      0.093     10.744      0.000       0.821       1.187\n",
       "onnet_mou_8           1.1962      0.153      7.806      0.000       0.896       1.497\n",
       "loc_og_t2t_mou_8     -0.9273      0.088    -10.554      0.000      -1.100      -0.755\n",
       "loc_og_mou_8         -0.7137      0.046    -15.553      0.000      -0.804      -0.624\n",
       "std_og_t2t_mou_7     -0.8635      0.089     -9.697      0.000      -1.038      -0.689\n",
       "std_og_t2t_mou_8     -1.3096      0.136     -9.648      0.000      -1.576      -1.044\n",
       "og_others_8          -5.3894      1.822     -2.958      0.003      -8.960      -1.819\n",
       "loc_ic_t2t_mou_8     -0.5519      0.048    -11.456      0.000      -0.646      -0.457\n",
       "loc_ic_t2m_mou_7      0.7704      0.036     21.530      0.000       0.700       0.840\n",
       "loc_ic_t2m_mou_8     -1.3247      0.051    -25.729      0.000      -1.426      -1.224\n",
       "monthly_2g_6         -0.5337      0.028    -19.111      0.000      -0.588      -0.479\n",
       "monthly_2g_7         -0.5123      0.028    -18.206      0.000      -0.568      -0.457\n",
       "monthly_2g_8         -0.6762      0.045    -15.150      0.000      -0.764      -0.589\n",
       "sachet_2g_8          -0.7072      0.022    -32.348      0.000      -0.750      -0.664\n",
       "monthly_3g_6         -0.4016      0.025    -15.819      0.000      -0.451      -0.352\n",
       "monthly_3g_8         -0.5877      0.036    -16.536      0.000      -0.657      -0.518\n",
       "sep_vbc_3g           -1.5623      0.130    -11.982      0.000      -1.818      -1.307\n",
       "total_og_mou_diff    -0.5287      0.025    -21.542      0.000      -0.577      -0.481\n",
       "vol_2g_mb_diff       -0.4143      0.020    -21.091      0.000      -0.453      -0.376\n",
       "vol_3g_mb_diff       -0.4335      0.024    -17.942      0.000      -0.481      -0.386\n",
       "=====================================================================================\n",
       "\"\"\""
      ]
     },
     "execution_count": 127,
     "metadata": {},
     "output_type": "execute_result"
    }
   ],
   "source": [
    "# building first logistic regression model with RFE selected features\n",
    "\n",
    "X_train_rfe = sm.add_constant(X_train[cols])\n",
    "logreg_m1 = sm.GLM(y_train,X_train_rfe, family = sm.families.Binomial())\n",
    "result = logreg_m1.fit()\n",
    "result.summary()"
   ]
  },
  {
   "cell_type": "code",
   "execution_count": 128,
   "id": "c4fd3cd1",
   "metadata": {},
   "outputs": [
    {
     "data": {
      "text/html": [
       "<div>\n",
       "<style scoped>\n",
       "    .dataframe tbody tr th:only-of-type {\n",
       "        vertical-align: middle;\n",
       "    }\n",
       "\n",
       "    .dataframe tbody tr th {\n",
       "        vertical-align: top;\n",
       "    }\n",
       "\n",
       "    .dataframe thead th {\n",
       "        text-align: right;\n",
       "    }\n",
       "</style>\n",
       "<table border=\"1\" class=\"dataframe\">\n",
       "  <thead>\n",
       "    <tr style=\"text-align: right;\">\n",
       "      <th></th>\n",
       "      <th>Features</th>\n",
       "      <th>VIF</th>\n",
       "    </tr>\n",
       "  </thead>\n",
       "  <tbody>\n",
       "    <tr>\n",
       "      <th>2</th>\n",
       "      <td>onnet_mou_8</td>\n",
       "      <td>33.12</td>\n",
       "    </tr>\n",
       "    <tr>\n",
       "      <th>6</th>\n",
       "      <td>std_og_t2t_mou_8</td>\n",
       "      <td>27.20</td>\n",
       "    </tr>\n",
       "    <tr>\n",
       "      <th>1</th>\n",
       "      <td>onnet_mou_7</td>\n",
       "      <td>19.33</td>\n",
       "    </tr>\n",
       "    <tr>\n",
       "      <th>5</th>\n",
       "      <td>std_og_t2t_mou_7</td>\n",
       "      <td>18.01</td>\n",
       "    </tr>\n",
       "    <tr>\n",
       "      <th>3</th>\n",
       "      <td>loc_og_t2t_mou_8</td>\n",
       "      <td>8.80</td>\n",
       "    </tr>\n",
       "    <tr>\n",
       "      <th>4</th>\n",
       "      <td>loc_og_mou_8</td>\n",
       "      <td>3.74</td>\n",
       "    </tr>\n",
       "    <tr>\n",
       "      <th>10</th>\n",
       "      <td>loc_ic_t2m_mou_8</td>\n",
       "      <td>3.21</td>\n",
       "    </tr>\n",
       "    <tr>\n",
       "      <th>9</th>\n",
       "      <td>loc_ic_t2m_mou_7</td>\n",
       "      <td>2.76</td>\n",
       "    </tr>\n",
       "    <tr>\n",
       "      <th>16</th>\n",
       "      <td>monthly_3g_8</td>\n",
       "      <td>2.03</td>\n",
       "    </tr>\n",
       "    <tr>\n",
       "      <th>18</th>\n",
       "      <td>total_og_mou_diff</td>\n",
       "      <td>1.92</td>\n",
       "    </tr>\n",
       "    <tr>\n",
       "      <th>15</th>\n",
       "      <td>monthly_3g_6</td>\n",
       "      <td>1.89</td>\n",
       "    </tr>\n",
       "    <tr>\n",
       "      <th>13</th>\n",
       "      <td>monthly_2g_8</td>\n",
       "      <td>1.80</td>\n",
       "    </tr>\n",
       "    <tr>\n",
       "      <th>11</th>\n",
       "      <td>monthly_2g_6</td>\n",
       "      <td>1.72</td>\n",
       "    </tr>\n",
       "    <tr>\n",
       "      <th>12</th>\n",
       "      <td>monthly_2g_7</td>\n",
       "      <td>1.72</td>\n",
       "    </tr>\n",
       "    <tr>\n",
       "      <th>20</th>\n",
       "      <td>vol_3g_mb_diff</td>\n",
       "      <td>1.45</td>\n",
       "    </tr>\n",
       "    <tr>\n",
       "      <th>8</th>\n",
       "      <td>loc_ic_t2t_mou_8</td>\n",
       "      <td>1.17</td>\n",
       "    </tr>\n",
       "    <tr>\n",
       "      <th>19</th>\n",
       "      <td>vol_2g_mb_diff</td>\n",
       "      <td>1.11</td>\n",
       "    </tr>\n",
       "    <tr>\n",
       "      <th>14</th>\n",
       "      <td>sachet_2g_8</td>\n",
       "      <td>1.07</td>\n",
       "    </tr>\n",
       "    <tr>\n",
       "      <th>17</th>\n",
       "      <td>sep_vbc_3g</td>\n",
       "      <td>1.03</td>\n",
       "    </tr>\n",
       "    <tr>\n",
       "      <th>7</th>\n",
       "      <td>og_others_8</td>\n",
       "      <td>1.00</td>\n",
       "    </tr>\n",
       "    <tr>\n",
       "      <th>0</th>\n",
       "      <td>const</td>\n",
       "      <td>1.00</td>\n",
       "    </tr>\n",
       "  </tbody>\n",
       "</table>\n",
       "</div>"
      ],
      "text/plain": [
       "             Features    VIF\n",
       "2         onnet_mou_8  33.12\n",
       "6    std_og_t2t_mou_8  27.20\n",
       "1         onnet_mou_7  19.33\n",
       "5    std_og_t2t_mou_7  18.01\n",
       "3    loc_og_t2t_mou_8   8.80\n",
       "4        loc_og_mou_8   3.74\n",
       "10   loc_ic_t2m_mou_8   3.21\n",
       "9    loc_ic_t2m_mou_7   2.76\n",
       "16       monthly_3g_8   2.03\n",
       "18  total_og_mou_diff   1.92\n",
       "15       monthly_3g_6   1.89\n",
       "13       monthly_2g_8   1.80\n",
       "11       monthly_2g_6   1.72\n",
       "12       monthly_2g_7   1.72\n",
       "20     vol_3g_mb_diff   1.45\n",
       "8    loc_ic_t2t_mou_8   1.17\n",
       "19     vol_2g_mb_diff   1.11\n",
       "14        sachet_2g_8   1.07\n",
       "17         sep_vbc_3g   1.03\n",
       "7         og_others_8   1.00\n",
       "0               const   1.00"
      ]
     },
     "execution_count": 128,
     "metadata": {},
     "output_type": "execute_result"
    }
   ],
   "source": [
    "# Importing 'variance_inflation_factor'\n",
    "from statsmodels.stats.outliers_influence import variance_inflation_factor\n",
    "\n",
    "# Make a VIF dataframe for all the variables present\n",
    "vif = pd.DataFrame()\n",
    "X = X_train_rfe\n",
    "vif['Features'] = X.columns\n",
    "vif['VIF'] = [variance_inflation_factor(X.values, i) for i in range(X.shape[1])]\n",
    "vif['VIF'] = round(vif['VIF'],2)\n",
    "vif = vif.sort_values(by = \"VIF\", ascending = False)\n",
    "vif"
   ]
  },
  {
   "cell_type": "markdown",
   "id": "8311a0c1",
   "metadata": {},
   "source": [
    "### Model 2 - remove \"og_others_8\" "
   ]
  },
  {
   "cell_type": "code",
   "execution_count": 129,
   "id": "121436fe",
   "metadata": {},
   "outputs": [],
   "source": [
    "# Dropping og_others_8 variable\n",
    "X_train_new = X_train_rfe.drop([\"og_others_8\"], axis = 1)"
   ]
  },
  {
   "cell_type": "code",
   "execution_count": 130,
   "id": "497dfc02",
   "metadata": {},
   "outputs": [
    {
     "data": {
      "text/html": [
       "<table class=\"simpletable\">\n",
       "<caption>Generalized Linear Model Regression Results</caption>\n",
       "<tr>\n",
       "  <th>Dep. Variable:</th>         <td>churn</td>      <th>  No. Observations:  </th>  <td> 39922</td> \n",
       "</tr>\n",
       "<tr>\n",
       "  <th>Model:</th>                  <td>GLM</td>       <th>  Df Residuals:      </th>  <td> 39902</td> \n",
       "</tr>\n",
       "<tr>\n",
       "  <th>Model Family:</th>        <td>Binomial</td>     <th>  Df Model:          </th>  <td>    19</td> \n",
       "</tr>\n",
       "<tr>\n",
       "  <th>Link Function:</th>         <td>Logit</td>      <th>  Scale:             </th> <td>  1.0000</td>\n",
       "</tr>\n",
       "<tr>\n",
       "  <th>Method:</th>                <td>IRLS</td>       <th>  Log-Likelihood:    </th> <td> -16023.</td>\n",
       "</tr>\n",
       "<tr>\n",
       "  <th>Date:</th>            <td>Tue, 05 Sep 2023</td> <th>  Deviance:          </th> <td>  32047.</td>\n",
       "</tr>\n",
       "<tr>\n",
       "  <th>Time:</th>                <td>21:58:49</td>     <th>  Pearson chi2:      </th> <td>2.01e+05</td>\n",
       "</tr>\n",
       "<tr>\n",
       "  <th>No. Iterations:</th>          <td>9</td>        <th>  Pseudo R-squ. (CS):</th>  <td>0.4421</td> \n",
       "</tr>\n",
       "<tr>\n",
       "  <th>Covariance Type:</th>     <td>nonrobust</td>    <th>                     </th>     <td> </td>   \n",
       "</tr>\n",
       "</table>\n",
       "<table class=\"simpletable\">\n",
       "<tr>\n",
       "          <td></td>             <th>coef</th>     <th>std err</th>      <th>z</th>      <th>P>|z|</th>  <th>[0.025</th>    <th>0.975]</th>  \n",
       "</tr>\n",
       "<tr>\n",
       "  <th>const</th>             <td>   -0.6883</td> <td>    0.025</td> <td>  -27.960</td> <td> 0.000</td> <td>   -0.737</td> <td>   -0.640</td>\n",
       "</tr>\n",
       "<tr>\n",
       "  <th>onnet_mou_7</th>       <td>    1.0039</td> <td>    0.093</td> <td>   10.752</td> <td> 0.000</td> <td>    0.821</td> <td>    1.187</td>\n",
       "</tr>\n",
       "<tr>\n",
       "  <th>onnet_mou_8</th>       <td>    1.1927</td> <td>    0.152</td> <td>    7.835</td> <td> 0.000</td> <td>    0.894</td> <td>    1.491</td>\n",
       "</tr>\n",
       "<tr>\n",
       "  <th>loc_og_t2t_mou_8</th>  <td>   -0.9244</td> <td>    0.088</td> <td>  -10.564</td> <td> 0.000</td> <td>   -1.096</td> <td>   -0.753</td>\n",
       "</tr>\n",
       "<tr>\n",
       "  <th>loc_og_mou_8</th>      <td>   -0.7176</td> <td>    0.046</td> <td>  -15.632</td> <td> 0.000</td> <td>   -0.808</td> <td>   -0.628</td>\n",
       "</tr>\n",
       "<tr>\n",
       "  <th>std_og_t2t_mou_7</th>  <td>   -0.8634</td> <td>    0.089</td> <td>   -9.705</td> <td> 0.000</td> <td>   -1.038</td> <td>   -0.689</td>\n",
       "</tr>\n",
       "<tr>\n",
       "  <th>std_og_t2t_mou_8</th>  <td>   -1.3066</td> <td>    0.135</td> <td>   -9.688</td> <td> 0.000</td> <td>   -1.571</td> <td>   -1.042</td>\n",
       "</tr>\n",
       "<tr>\n",
       "  <th>loc_ic_t2t_mou_8</th>  <td>   -0.5520</td> <td>    0.048</td> <td>  -11.478</td> <td> 0.000</td> <td>   -0.646</td> <td>   -0.458</td>\n",
       "</tr>\n",
       "<tr>\n",
       "  <th>loc_ic_t2m_mou_7</th>  <td>    0.7703</td> <td>    0.036</td> <td>   21.544</td> <td> 0.000</td> <td>    0.700</td> <td>    0.840</td>\n",
       "</tr>\n",
       "<tr>\n",
       "  <th>loc_ic_t2m_mou_8</th>  <td>   -1.3245</td> <td>    0.051</td> <td>  -25.734</td> <td> 0.000</td> <td>   -1.425</td> <td>   -1.224</td>\n",
       "</tr>\n",
       "<tr>\n",
       "  <th>monthly_2g_6</th>      <td>   -0.5329</td> <td>    0.028</td> <td>  -19.091</td> <td> 0.000</td> <td>   -0.588</td> <td>   -0.478</td>\n",
       "</tr>\n",
       "<tr>\n",
       "  <th>monthly_2g_7</th>      <td>   -0.5110</td> <td>    0.028</td> <td>  -18.178</td> <td> 0.000</td> <td>   -0.566</td> <td>   -0.456</td>\n",
       "</tr>\n",
       "<tr>\n",
       "  <th>monthly_2g_8</th>      <td>   -0.6787</td> <td>    0.045</td> <td>  -15.197</td> <td> 0.000</td> <td>   -0.766</td> <td>   -0.591</td>\n",
       "</tr>\n",
       "<tr>\n",
       "  <th>sachet_2g_8</th>       <td>   -0.7070</td> <td>    0.022</td> <td>  -32.365</td> <td> 0.000</td> <td>   -0.750</td> <td>   -0.664</td>\n",
       "</tr>\n",
       "<tr>\n",
       "  <th>monthly_3g_6</th>      <td>   -0.3992</td> <td>    0.025</td> <td>  -15.743</td> <td> 0.000</td> <td>   -0.449</td> <td>   -0.350</td>\n",
       "</tr>\n",
       "<tr>\n",
       "  <th>monthly_3g_8</th>      <td>   -0.5901</td> <td>    0.036</td> <td>  -16.589</td> <td> 0.000</td> <td>   -0.660</td> <td>   -0.520</td>\n",
       "</tr>\n",
       "<tr>\n",
       "  <th>sep_vbc_3g</th>        <td>   -1.5625</td> <td>    0.130</td> <td>  -11.987</td> <td> 0.000</td> <td>   -1.818</td> <td>   -1.307</td>\n",
       "</tr>\n",
       "<tr>\n",
       "  <th>total_og_mou_diff</th> <td>   -0.5295</td> <td>    0.025</td> <td>  -21.584</td> <td> 0.000</td> <td>   -0.578</td> <td>   -0.481</td>\n",
       "</tr>\n",
       "<tr>\n",
       "  <th>vol_2g_mb_diff</th>    <td>   -0.4127</td> <td>    0.020</td> <td>  -21.051</td> <td> 0.000</td> <td>   -0.451</td> <td>   -0.374</td>\n",
       "</tr>\n",
       "<tr>\n",
       "  <th>vol_3g_mb_diff</th>    <td>   -0.4310</td> <td>    0.024</td> <td>  -17.866</td> <td> 0.000</td> <td>   -0.478</td> <td>   -0.384</td>\n",
       "</tr>\n",
       "</table>"
      ],
      "text/plain": [
       "<class 'statsmodels.iolib.summary.Summary'>\n",
       "\"\"\"\n",
       "                 Generalized Linear Model Regression Results                  \n",
       "==============================================================================\n",
       "Dep. Variable:                  churn   No. Observations:                39922\n",
       "Model:                            GLM   Df Residuals:                    39902\n",
       "Model Family:                Binomial   Df Model:                           19\n",
       "Link Function:                  Logit   Scale:                          1.0000\n",
       "Method:                          IRLS   Log-Likelihood:                -16023.\n",
       "Date:                Tue, 05 Sep 2023   Deviance:                       32047.\n",
       "Time:                        21:58:49   Pearson chi2:                 2.01e+05\n",
       "No. Iterations:                     9   Pseudo R-squ. (CS):             0.4421\n",
       "Covariance Type:            nonrobust                                         \n",
       "=====================================================================================\n",
       "                        coef    std err          z      P>|z|      [0.025      0.975]\n",
       "-------------------------------------------------------------------------------------\n",
       "const                -0.6883      0.025    -27.960      0.000      -0.737      -0.640\n",
       "onnet_mou_7           1.0039      0.093     10.752      0.000       0.821       1.187\n",
       "onnet_mou_8           1.1927      0.152      7.835      0.000       0.894       1.491\n",
       "loc_og_t2t_mou_8     -0.9244      0.088    -10.564      0.000      -1.096      -0.753\n",
       "loc_og_mou_8         -0.7176      0.046    -15.632      0.000      -0.808      -0.628\n",
       "std_og_t2t_mou_7     -0.8634      0.089     -9.705      0.000      -1.038      -0.689\n",
       "std_og_t2t_mou_8     -1.3066      0.135     -9.688      0.000      -1.571      -1.042\n",
       "loc_ic_t2t_mou_8     -0.5520      0.048    -11.478      0.000      -0.646      -0.458\n",
       "loc_ic_t2m_mou_7      0.7703      0.036     21.544      0.000       0.700       0.840\n",
       "loc_ic_t2m_mou_8     -1.3245      0.051    -25.734      0.000      -1.425      -1.224\n",
       "monthly_2g_6         -0.5329      0.028    -19.091      0.000      -0.588      -0.478\n",
       "monthly_2g_7         -0.5110      0.028    -18.178      0.000      -0.566      -0.456\n",
       "monthly_2g_8         -0.6787      0.045    -15.197      0.000      -0.766      -0.591\n",
       "sachet_2g_8          -0.7070      0.022    -32.365      0.000      -0.750      -0.664\n",
       "monthly_3g_6         -0.3992      0.025    -15.743      0.000      -0.449      -0.350\n",
       "monthly_3g_8         -0.5901      0.036    -16.589      0.000      -0.660      -0.520\n",
       "sep_vbc_3g           -1.5625      0.130    -11.987      0.000      -1.818      -1.307\n",
       "total_og_mou_diff    -0.5295      0.025    -21.584      0.000      -0.578      -0.481\n",
       "vol_2g_mb_diff       -0.4127      0.020    -21.051      0.000      -0.451      -0.374\n",
       "vol_3g_mb_diff       -0.4310      0.024    -17.866      0.000      -0.478      -0.384\n",
       "=====================================================================================\n",
       "\"\"\""
      ]
     },
     "execution_count": 130,
     "metadata": {},
     "output_type": "execute_result"
    }
   ],
   "source": [
    "#X_train_rfe = sm.add_constant(X_train_new)\n",
    "logreg_m2 = sm.GLM(y_train,X_train_new, family = sm.families.Binomial())\n",
    "result = logreg_m2.fit()\n",
    "result.summary()"
   ]
  },
  {
   "cell_type": "code",
   "execution_count": 131,
   "id": "1c99f9cb",
   "metadata": {},
   "outputs": [
    {
     "data": {
      "text/html": [
       "<div>\n",
       "<style scoped>\n",
       "    .dataframe tbody tr th:only-of-type {\n",
       "        vertical-align: middle;\n",
       "    }\n",
       "\n",
       "    .dataframe tbody tr th {\n",
       "        vertical-align: top;\n",
       "    }\n",
       "\n",
       "    .dataframe thead th {\n",
       "        text-align: right;\n",
       "    }\n",
       "</style>\n",
       "<table border=\"1\" class=\"dataframe\">\n",
       "  <thead>\n",
       "    <tr style=\"text-align: right;\">\n",
       "      <th></th>\n",
       "      <th>Features</th>\n",
       "      <th>VIF</th>\n",
       "    </tr>\n",
       "  </thead>\n",
       "  <tbody>\n",
       "    <tr>\n",
       "      <th>2</th>\n",
       "      <td>onnet_mou_8</td>\n",
       "      <td>33.12</td>\n",
       "    </tr>\n",
       "    <tr>\n",
       "      <th>6</th>\n",
       "      <td>std_og_t2t_mou_8</td>\n",
       "      <td>27.20</td>\n",
       "    </tr>\n",
       "    <tr>\n",
       "      <th>1</th>\n",
       "      <td>onnet_mou_7</td>\n",
       "      <td>19.32</td>\n",
       "    </tr>\n",
       "    <tr>\n",
       "      <th>5</th>\n",
       "      <td>std_og_t2t_mou_7</td>\n",
       "      <td>18.00</td>\n",
       "    </tr>\n",
       "    <tr>\n",
       "      <th>3</th>\n",
       "      <td>loc_og_t2t_mou_8</td>\n",
       "      <td>8.80</td>\n",
       "    </tr>\n",
       "    <tr>\n",
       "      <th>4</th>\n",
       "      <td>loc_og_mou_8</td>\n",
       "      <td>3.74</td>\n",
       "    </tr>\n",
       "    <tr>\n",
       "      <th>9</th>\n",
       "      <td>loc_ic_t2m_mou_8</td>\n",
       "      <td>3.21</td>\n",
       "    </tr>\n",
       "    <tr>\n",
       "      <th>8</th>\n",
       "      <td>loc_ic_t2m_mou_7</td>\n",
       "      <td>2.76</td>\n",
       "    </tr>\n",
       "    <tr>\n",
       "      <th>15</th>\n",
       "      <td>monthly_3g_8</td>\n",
       "      <td>2.03</td>\n",
       "    </tr>\n",
       "    <tr>\n",
       "      <th>17</th>\n",
       "      <td>total_og_mou_diff</td>\n",
       "      <td>1.92</td>\n",
       "    </tr>\n",
       "    <tr>\n",
       "      <th>14</th>\n",
       "      <td>monthly_3g_6</td>\n",
       "      <td>1.89</td>\n",
       "    </tr>\n",
       "    <tr>\n",
       "      <th>12</th>\n",
       "      <td>monthly_2g_8</td>\n",
       "      <td>1.80</td>\n",
       "    </tr>\n",
       "    <tr>\n",
       "      <th>10</th>\n",
       "      <td>monthly_2g_6</td>\n",
       "      <td>1.72</td>\n",
       "    </tr>\n",
       "    <tr>\n",
       "      <th>11</th>\n",
       "      <td>monthly_2g_7</td>\n",
       "      <td>1.72</td>\n",
       "    </tr>\n",
       "    <tr>\n",
       "      <th>19</th>\n",
       "      <td>vol_3g_mb_diff</td>\n",
       "      <td>1.45</td>\n",
       "    </tr>\n",
       "    <tr>\n",
       "      <th>7</th>\n",
       "      <td>loc_ic_t2t_mou_8</td>\n",
       "      <td>1.17</td>\n",
       "    </tr>\n",
       "    <tr>\n",
       "      <th>18</th>\n",
       "      <td>vol_2g_mb_diff</td>\n",
       "      <td>1.11</td>\n",
       "    </tr>\n",
       "    <tr>\n",
       "      <th>13</th>\n",
       "      <td>sachet_2g_8</td>\n",
       "      <td>1.07</td>\n",
       "    </tr>\n",
       "    <tr>\n",
       "      <th>16</th>\n",
       "      <td>sep_vbc_3g</td>\n",
       "      <td>1.03</td>\n",
       "    </tr>\n",
       "    <tr>\n",
       "      <th>0</th>\n",
       "      <td>const</td>\n",
       "      <td>1.00</td>\n",
       "    </tr>\n",
       "  </tbody>\n",
       "</table>\n",
       "</div>"
      ],
      "text/plain": [
       "             Features    VIF\n",
       "2         onnet_mou_8  33.12\n",
       "6    std_og_t2t_mou_8  27.20\n",
       "1         onnet_mou_7  19.32\n",
       "5    std_og_t2t_mou_7  18.00\n",
       "3    loc_og_t2t_mou_8   8.80\n",
       "4        loc_og_mou_8   3.74\n",
       "9    loc_ic_t2m_mou_8   3.21\n",
       "8    loc_ic_t2m_mou_7   2.76\n",
       "15       monthly_3g_8   2.03\n",
       "17  total_og_mou_diff   1.92\n",
       "14       monthly_3g_6   1.89\n",
       "12       monthly_2g_8   1.80\n",
       "10       monthly_2g_6   1.72\n",
       "11       monthly_2g_7   1.72\n",
       "19     vol_3g_mb_diff   1.45\n",
       "7    loc_ic_t2t_mou_8   1.17\n",
       "18     vol_2g_mb_diff   1.11\n",
       "13        sachet_2g_8   1.07\n",
       "16         sep_vbc_3g   1.03\n",
       "0               const   1.00"
      ]
     },
     "execution_count": 131,
     "metadata": {},
     "output_type": "execute_result"
    }
   ],
   "source": [
    "# Make a VIF dataframe for all the variables present\n",
    "vif = pd.DataFrame()\n",
    "X = X_train_new\n",
    "vif['Features'] = X.columns\n",
    "vif['VIF'] = [variance_inflation_factor(X.values, i) for i in range(X.shape[1])]\n",
    "vif['VIF'] = round(vif['VIF'],2)\n",
    "vif = vif.sort_values(by = \"VIF\", ascending = False)\n",
    "vif"
   ]
  },
  {
   "cell_type": "markdown",
   "id": "78a55867",
   "metadata": {},
   "source": [
    "### Model 3 - remove \"onnet_mou_8\" variable "
   ]
  },
  {
   "cell_type": "code",
   "execution_count": 132,
   "id": "1bf31ffc",
   "metadata": {},
   "outputs": [],
   "source": [
    "# Dropping onnet_mou_7 variable \n",
    "X_train_new = X_train_new.drop([\"onnet_mou_8\"], axis = 1)"
   ]
  },
  {
   "cell_type": "code",
   "execution_count": 133,
   "id": "940b5c40",
   "metadata": {},
   "outputs": [
    {
     "data": {
      "text/html": [
       "<table class=\"simpletable\">\n",
       "<caption>Generalized Linear Model Regression Results</caption>\n",
       "<tr>\n",
       "  <th>Dep. Variable:</th>         <td>churn</td>      <th>  No. Observations:  </th>  <td> 39922</td> \n",
       "</tr>\n",
       "<tr>\n",
       "  <th>Model:</th>                  <td>GLM</td>       <th>  Df Residuals:      </th>  <td> 39903</td> \n",
       "</tr>\n",
       "<tr>\n",
       "  <th>Model Family:</th>        <td>Binomial</td>     <th>  Df Model:          </th>  <td>    18</td> \n",
       "</tr>\n",
       "<tr>\n",
       "  <th>Link Function:</th>         <td>Logit</td>      <th>  Scale:             </th> <td>  1.0000</td>\n",
       "</tr>\n",
       "<tr>\n",
       "  <th>Method:</th>                <td>IRLS</td>       <th>  Log-Likelihood:    </th> <td> -16062.</td>\n",
       "</tr>\n",
       "<tr>\n",
       "  <th>Date:</th>            <td>Tue, 05 Sep 2023</td> <th>  Deviance:          </th> <td>  32123.</td>\n",
       "</tr>\n",
       "<tr>\n",
       "  <th>Time:</th>                <td>21:58:50</td>     <th>  Pearson chi2:      </th> <td>2.13e+05</td>\n",
       "</tr>\n",
       "<tr>\n",
       "  <th>No. Iterations:</th>          <td>9</td>        <th>  Pseudo R-squ. (CS):</th>  <td>0.4410</td> \n",
       "</tr>\n",
       "<tr>\n",
       "  <th>Covariance Type:</th>     <td>nonrobust</td>    <th>                     </th>     <td> </td>   \n",
       "</tr>\n",
       "</table>\n",
       "<table class=\"simpletable\">\n",
       "<tr>\n",
       "          <td></td>             <th>coef</th>     <th>std err</th>      <th>z</th>      <th>P>|z|</th>  <th>[0.025</th>    <th>0.975]</th>  \n",
       "</tr>\n",
       "<tr>\n",
       "  <th>const</th>             <td>   -0.7024</td> <td>    0.024</td> <td>  -28.673</td> <td> 0.000</td> <td>   -0.750</td> <td>   -0.654</td>\n",
       "</tr>\n",
       "<tr>\n",
       "  <th>onnet_mou_7</th>       <td>    1.2812</td> <td>    0.089</td> <td>   14.347</td> <td> 0.000</td> <td>    1.106</td> <td>    1.456</td>\n",
       "</tr>\n",
       "<tr>\n",
       "  <th>loc_og_t2t_mou_8</th>  <td>   -0.5385</td> <td>    0.070</td> <td>   -7.697</td> <td> 0.000</td> <td>   -0.676</td> <td>   -0.401</td>\n",
       "</tr>\n",
       "<tr>\n",
       "  <th>loc_og_mou_8</th>      <td>   -0.7214</td> <td>    0.046</td> <td>  -15.630</td> <td> 0.000</td> <td>   -0.812</td> <td>   -0.631</td>\n",
       "</tr>\n",
       "<tr>\n",
       "  <th>std_og_t2t_mou_7</th>  <td>   -1.0935</td> <td>    0.086</td> <td>  -12.676</td> <td> 0.000</td> <td>   -1.263</td> <td>   -0.924</td>\n",
       "</tr>\n",
       "<tr>\n",
       "  <th>std_og_t2t_mou_8</th>  <td>   -0.2774</td> <td>    0.029</td> <td>   -9.507</td> <td> 0.000</td> <td>   -0.335</td> <td>   -0.220</td>\n",
       "</tr>\n",
       "<tr>\n",
       "  <th>loc_ic_t2t_mou_8</th>  <td>   -0.5466</td> <td>    0.048</td> <td>  -11.385</td> <td> 0.000</td> <td>   -0.641</td> <td>   -0.452</td>\n",
       "</tr>\n",
       "<tr>\n",
       "  <th>loc_ic_t2m_mou_7</th>  <td>    0.7697</td> <td>    0.036</td> <td>   21.444</td> <td> 0.000</td> <td>    0.699</td> <td>    0.840</td>\n",
       "</tr>\n",
       "<tr>\n",
       "  <th>loc_ic_t2m_mou_8</th>  <td>   -1.3454</td> <td>    0.052</td> <td>  -26.024</td> <td> 0.000</td> <td>   -1.447</td> <td>   -1.244</td>\n",
       "</tr>\n",
       "<tr>\n",
       "  <th>monthly_2g_6</th>      <td>   -0.5321</td> <td>    0.028</td> <td>  -19.129</td> <td> 0.000</td> <td>   -0.587</td> <td>   -0.478</td>\n",
       "</tr>\n",
       "<tr>\n",
       "  <th>monthly_2g_7</th>      <td>   -0.5093</td> <td>    0.028</td> <td>  -18.212</td> <td> 0.000</td> <td>   -0.564</td> <td>   -0.454</td>\n",
       "</tr>\n",
       "<tr>\n",
       "  <th>monthly_2g_8</th>      <td>   -0.6803</td> <td>    0.045</td> <td>  -15.276</td> <td> 0.000</td> <td>   -0.768</td> <td>   -0.593</td>\n",
       "</tr>\n",
       "<tr>\n",
       "  <th>sachet_2g_8</th>       <td>   -0.7120</td> <td>    0.022</td> <td>  -32.545</td> <td> 0.000</td> <td>   -0.755</td> <td>   -0.669</td>\n",
       "</tr>\n",
       "<tr>\n",
       "  <th>monthly_3g_6</th>      <td>   -0.4001</td> <td>    0.025</td> <td>  -15.801</td> <td> 0.000</td> <td>   -0.450</td> <td>   -0.351</td>\n",
       "</tr>\n",
       "<tr>\n",
       "  <th>monthly_3g_8</th>      <td>   -0.5890</td> <td>    0.035</td> <td>  -16.613</td> <td> 0.000</td> <td>   -0.659</td> <td>   -0.520</td>\n",
       "</tr>\n",
       "<tr>\n",
       "  <th>sep_vbc_3g</th>        <td>   -1.5636</td> <td>    0.130</td> <td>  -12.056</td> <td> 0.000</td> <td>   -1.818</td> <td>   -1.309</td>\n",
       "</tr>\n",
       "<tr>\n",
       "  <th>total_og_mou_diff</th> <td>   -0.5128</td> <td>    0.024</td> <td>  -21.098</td> <td> 0.000</td> <td>   -0.560</td> <td>   -0.465</td>\n",
       "</tr>\n",
       "<tr>\n",
       "  <th>vol_2g_mb_diff</th>    <td>   -0.4052</td> <td>    0.019</td> <td>  -20.809</td> <td> 0.000</td> <td>   -0.443</td> <td>   -0.367</td>\n",
       "</tr>\n",
       "<tr>\n",
       "  <th>vol_3g_mb_diff</th>    <td>   -0.4276</td> <td>    0.024</td> <td>  -17.709</td> <td> 0.000</td> <td>   -0.475</td> <td>   -0.380</td>\n",
       "</tr>\n",
       "</table>"
      ],
      "text/plain": [
       "<class 'statsmodels.iolib.summary.Summary'>\n",
       "\"\"\"\n",
       "                 Generalized Linear Model Regression Results                  \n",
       "==============================================================================\n",
       "Dep. Variable:                  churn   No. Observations:                39922\n",
       "Model:                            GLM   Df Residuals:                    39903\n",
       "Model Family:                Binomial   Df Model:                           18\n",
       "Link Function:                  Logit   Scale:                          1.0000\n",
       "Method:                          IRLS   Log-Likelihood:                -16062.\n",
       "Date:                Tue, 05 Sep 2023   Deviance:                       32123.\n",
       "Time:                        21:58:50   Pearson chi2:                 2.13e+05\n",
       "No. Iterations:                     9   Pseudo R-squ. (CS):             0.4410\n",
       "Covariance Type:            nonrobust                                         \n",
       "=====================================================================================\n",
       "                        coef    std err          z      P>|z|      [0.025      0.975]\n",
       "-------------------------------------------------------------------------------------\n",
       "const                -0.7024      0.024    -28.673      0.000      -0.750      -0.654\n",
       "onnet_mou_7           1.2812      0.089     14.347      0.000       1.106       1.456\n",
       "loc_og_t2t_mou_8     -0.5385      0.070     -7.697      0.000      -0.676      -0.401\n",
       "loc_og_mou_8         -0.7214      0.046    -15.630      0.000      -0.812      -0.631\n",
       "std_og_t2t_mou_7     -1.0935      0.086    -12.676      0.000      -1.263      -0.924\n",
       "std_og_t2t_mou_8     -0.2774      0.029     -9.507      0.000      -0.335      -0.220\n",
       "loc_ic_t2t_mou_8     -0.5466      0.048    -11.385      0.000      -0.641      -0.452\n",
       "loc_ic_t2m_mou_7      0.7697      0.036     21.444      0.000       0.699       0.840\n",
       "loc_ic_t2m_mou_8     -1.3454      0.052    -26.024      0.000      -1.447      -1.244\n",
       "monthly_2g_6         -0.5321      0.028    -19.129      0.000      -0.587      -0.478\n",
       "monthly_2g_7         -0.5093      0.028    -18.212      0.000      -0.564      -0.454\n",
       "monthly_2g_8         -0.6803      0.045    -15.276      0.000      -0.768      -0.593\n",
       "sachet_2g_8          -0.7120      0.022    -32.545      0.000      -0.755      -0.669\n",
       "monthly_3g_6         -0.4001      0.025    -15.801      0.000      -0.450      -0.351\n",
       "monthly_3g_8         -0.5890      0.035    -16.613      0.000      -0.659      -0.520\n",
       "sep_vbc_3g           -1.5636      0.130    -12.056      0.000      -1.818      -1.309\n",
       "total_og_mou_diff    -0.5128      0.024    -21.098      0.000      -0.560      -0.465\n",
       "vol_2g_mb_diff       -0.4052      0.019    -20.809      0.000      -0.443      -0.367\n",
       "vol_3g_mb_diff       -0.4276      0.024    -17.709      0.000      -0.475      -0.380\n",
       "=====================================================================================\n",
       "\"\"\""
      ]
     },
     "execution_count": 133,
     "metadata": {},
     "output_type": "execute_result"
    }
   ],
   "source": [
    "#X_train_rfe = sm.add_constant(X_train_new)\n",
    "logreg_m3 = sm.GLM(y_train,X_train_new, family = sm.families.Binomial())\n",
    "result = logreg_m3.fit()\n",
    "result.summary()"
   ]
  },
  {
   "cell_type": "code",
   "execution_count": 134,
   "id": "ce8d9c75",
   "metadata": {},
   "outputs": [
    {
     "data": {
      "text/html": [
       "<div>\n",
       "<style scoped>\n",
       "    .dataframe tbody tr th:only-of-type {\n",
       "        vertical-align: middle;\n",
       "    }\n",
       "\n",
       "    .dataframe tbody tr th {\n",
       "        vertical-align: top;\n",
       "    }\n",
       "\n",
       "    .dataframe thead th {\n",
       "        text-align: right;\n",
       "    }\n",
       "</style>\n",
       "<table border=\"1\" class=\"dataframe\">\n",
       "  <thead>\n",
       "    <tr style=\"text-align: right;\">\n",
       "      <th></th>\n",
       "      <th>Features</th>\n",
       "      <th>VIF</th>\n",
       "    </tr>\n",
       "  </thead>\n",
       "  <tbody>\n",
       "    <tr>\n",
       "      <th>1</th>\n",
       "      <td>onnet_mou_7</td>\n",
       "      <td>17.03</td>\n",
       "    </tr>\n",
       "    <tr>\n",
       "      <th>4</th>\n",
       "      <td>std_og_t2t_mou_7</td>\n",
       "      <td>16.52</td>\n",
       "    </tr>\n",
       "    <tr>\n",
       "      <th>2</th>\n",
       "      <td>loc_og_t2t_mou_8</td>\n",
       "      <td>4.49</td>\n",
       "    </tr>\n",
       "    <tr>\n",
       "      <th>3</th>\n",
       "      <td>loc_og_mou_8</td>\n",
       "      <td>3.73</td>\n",
       "    </tr>\n",
       "    <tr>\n",
       "      <th>8</th>\n",
       "      <td>loc_ic_t2m_mou_8</td>\n",
       "      <td>3.21</td>\n",
       "    </tr>\n",
       "    <tr>\n",
       "      <th>5</th>\n",
       "      <td>std_og_t2t_mou_8</td>\n",
       "      <td>3.10</td>\n",
       "    </tr>\n",
       "    <tr>\n",
       "      <th>7</th>\n",
       "      <td>loc_ic_t2m_mou_7</td>\n",
       "      <td>2.76</td>\n",
       "    </tr>\n",
       "    <tr>\n",
       "      <th>14</th>\n",
       "      <td>monthly_3g_8</td>\n",
       "      <td>2.03</td>\n",
       "    </tr>\n",
       "    <tr>\n",
       "      <th>16</th>\n",
       "      <td>total_og_mou_diff</td>\n",
       "      <td>1.90</td>\n",
       "    </tr>\n",
       "    <tr>\n",
       "      <th>13</th>\n",
       "      <td>monthly_3g_6</td>\n",
       "      <td>1.89</td>\n",
       "    </tr>\n",
       "    <tr>\n",
       "      <th>11</th>\n",
       "      <td>monthly_2g_8</td>\n",
       "      <td>1.80</td>\n",
       "    </tr>\n",
       "    <tr>\n",
       "      <th>9</th>\n",
       "      <td>monthly_2g_6</td>\n",
       "      <td>1.72</td>\n",
       "    </tr>\n",
       "    <tr>\n",
       "      <th>10</th>\n",
       "      <td>monthly_2g_7</td>\n",
       "      <td>1.72</td>\n",
       "    </tr>\n",
       "    <tr>\n",
       "      <th>18</th>\n",
       "      <td>vol_3g_mb_diff</td>\n",
       "      <td>1.45</td>\n",
       "    </tr>\n",
       "    <tr>\n",
       "      <th>6</th>\n",
       "      <td>loc_ic_t2t_mou_8</td>\n",
       "      <td>1.17</td>\n",
       "    </tr>\n",
       "    <tr>\n",
       "      <th>17</th>\n",
       "      <td>vol_2g_mb_diff</td>\n",
       "      <td>1.11</td>\n",
       "    </tr>\n",
       "    <tr>\n",
       "      <th>12</th>\n",
       "      <td>sachet_2g_8</td>\n",
       "      <td>1.07</td>\n",
       "    </tr>\n",
       "    <tr>\n",
       "      <th>15</th>\n",
       "      <td>sep_vbc_3g</td>\n",
       "      <td>1.03</td>\n",
       "    </tr>\n",
       "    <tr>\n",
       "      <th>0</th>\n",
       "      <td>const</td>\n",
       "      <td>1.00</td>\n",
       "    </tr>\n",
       "  </tbody>\n",
       "</table>\n",
       "</div>"
      ],
      "text/plain": [
       "             Features    VIF\n",
       "1         onnet_mou_7  17.03\n",
       "4    std_og_t2t_mou_7  16.52\n",
       "2    loc_og_t2t_mou_8   4.49\n",
       "3        loc_og_mou_8   3.73\n",
       "8    loc_ic_t2m_mou_8   3.21\n",
       "5    std_og_t2t_mou_8   3.10\n",
       "7    loc_ic_t2m_mou_7   2.76\n",
       "14       monthly_3g_8   2.03\n",
       "16  total_og_mou_diff   1.90\n",
       "13       monthly_3g_6   1.89\n",
       "11       monthly_2g_8   1.80\n",
       "9        monthly_2g_6   1.72\n",
       "10       monthly_2g_7   1.72\n",
       "18     vol_3g_mb_diff   1.45\n",
       "6    loc_ic_t2t_mou_8   1.17\n",
       "17     vol_2g_mb_diff   1.11\n",
       "12        sachet_2g_8   1.07\n",
       "15         sep_vbc_3g   1.03\n",
       "0               const   1.00"
      ]
     },
     "execution_count": 134,
     "metadata": {},
     "output_type": "execute_result"
    }
   ],
   "source": [
    "# Make a VIF dataframe for all the variables present\n",
    "vif = pd.DataFrame()\n",
    "X = X_train_new\n",
    "vif['Features'] = X.columns\n",
    "vif['VIF'] = [variance_inflation_factor(X.values, i) for i in range(X.shape[1])]\n",
    "vif['VIF'] = round(vif['VIF'],2)\n",
    "vif = vif.sort_values(by = \"VIF\", ascending = False)\n",
    "vif"
   ]
  },
  {
   "cell_type": "markdown",
   "id": "9ff2be22",
   "metadata": {},
   "source": [
    "### Model 4 - remove \"onnet_mou_7\" variable "
   ]
  },
  {
   "cell_type": "code",
   "execution_count": 135,
   "id": "a529267a",
   "metadata": {},
   "outputs": [],
   "source": [
    "# Dropping variable onnet_mou_7\n",
    "X_train_new = X_train_new.drop([\"onnet_mou_7\"], axis = 1)"
   ]
  },
  {
   "cell_type": "code",
   "execution_count": 136,
   "id": "c91dc7a7",
   "metadata": {},
   "outputs": [
    {
     "data": {
      "text/html": [
       "<table class=\"simpletable\">\n",
       "<caption>Generalized Linear Model Regression Results</caption>\n",
       "<tr>\n",
       "  <th>Dep. Variable:</th>         <td>churn</td>      <th>  No. Observations:  </th>  <td> 39922</td> \n",
       "</tr>\n",
       "<tr>\n",
       "  <th>Model:</th>                  <td>GLM</td>       <th>  Df Residuals:      </th>  <td> 39904</td> \n",
       "</tr>\n",
       "<tr>\n",
       "  <th>Model Family:</th>        <td>Binomial</td>     <th>  Df Model:          </th>  <td>    17</td> \n",
       "</tr>\n",
       "<tr>\n",
       "  <th>Link Function:</th>         <td>Logit</td>      <th>  Scale:             </th> <td>  1.0000</td>\n",
       "</tr>\n",
       "<tr>\n",
       "  <th>Method:</th>                <td>IRLS</td>       <th>  Log-Likelihood:    </th> <td> -16182.</td>\n",
       "</tr>\n",
       "<tr>\n",
       "  <th>Date:</th>            <td>Tue, 05 Sep 2023</td> <th>  Deviance:          </th> <td>  32364.</td>\n",
       "</tr>\n",
       "<tr>\n",
       "  <th>Time:</th>                <td>21:58:51</td>     <th>  Pearson chi2:      </th> <td>1.90e+05</td>\n",
       "</tr>\n",
       "<tr>\n",
       "  <th>No. Iterations:</th>          <td>9</td>        <th>  Pseudo R-squ. (CS):</th>  <td>0.4376</td> \n",
       "</tr>\n",
       "<tr>\n",
       "  <th>Covariance Type:</th>     <td>nonrobust</td>    <th>                     </th>     <td> </td>   \n",
       "</tr>\n",
       "</table>\n",
       "<table class=\"simpletable\">\n",
       "<tr>\n",
       "          <td></td>             <th>coef</th>     <th>std err</th>      <th>z</th>      <th>P>|z|</th>  <th>[0.025</th>    <th>0.975]</th>  \n",
       "</tr>\n",
       "<tr>\n",
       "  <th>const</th>             <td>   -0.6822</td> <td>    0.024</td> <td>  -27.996</td> <td> 0.000</td> <td>   -0.730</td> <td>   -0.634</td>\n",
       "</tr>\n",
       "<tr>\n",
       "  <th>loc_og_t2t_mou_8</th>  <td>    0.1225</td> <td>    0.049</td> <td>    2.512</td> <td> 0.012</td> <td>    0.027</td> <td>    0.218</td>\n",
       "</tr>\n",
       "<tr>\n",
       "  <th>loc_og_mou_8</th>      <td>   -0.7592</td> <td>    0.046</td> <td>  -16.496</td> <td> 0.000</td> <td>   -0.849</td> <td>   -0.669</td>\n",
       "</tr>\n",
       "<tr>\n",
       "  <th>std_og_t2t_mou_7</th>  <td>    0.0561</td> <td>    0.031</td> <td>    1.836</td> <td> 0.066</td> <td>   -0.004</td> <td>    0.116</td>\n",
       "</tr>\n",
       "<tr>\n",
       "  <th>std_og_t2t_mou_8</th>  <td>   -0.2473</td> <td>    0.029</td> <td>   -8.453</td> <td> 0.000</td> <td>   -0.305</td> <td>   -0.190</td>\n",
       "</tr>\n",
       "<tr>\n",
       "  <th>loc_ic_t2t_mou_8</th>  <td>   -0.5840</td> <td>    0.048</td> <td>  -12.187</td> <td> 0.000</td> <td>   -0.678</td> <td>   -0.490</td>\n",
       "</tr>\n",
       "<tr>\n",
       "  <th>loc_ic_t2m_mou_7</th>  <td>    0.7789</td> <td>    0.036</td> <td>   21.655</td> <td> 0.000</td> <td>    0.708</td> <td>    0.849</td>\n",
       "</tr>\n",
       "<tr>\n",
       "  <th>loc_ic_t2m_mou_8</th>  <td>   -1.3575</td> <td>    0.052</td> <td>  -26.195</td> <td> 0.000</td> <td>   -1.459</td> <td>   -1.256</td>\n",
       "</tr>\n",
       "<tr>\n",
       "  <th>monthly_2g_6</th>      <td>   -0.5332</td> <td>    0.028</td> <td>  -19.236</td> <td> 0.000</td> <td>   -0.587</td> <td>   -0.479</td>\n",
       "</tr>\n",
       "<tr>\n",
       "  <th>monthly_2g_7</th>      <td>   -0.5061</td> <td>    0.028</td> <td>  -18.222</td> <td> 0.000</td> <td>   -0.561</td> <td>   -0.452</td>\n",
       "</tr>\n",
       "<tr>\n",
       "  <th>monthly_2g_8</th>      <td>   -0.6841</td> <td>    0.044</td> <td>  -15.430</td> <td> 0.000</td> <td>   -0.771</td> <td>   -0.597</td>\n",
       "</tr>\n",
       "<tr>\n",
       "  <th>sachet_2g_8</th>       <td>   -0.7311</td> <td>    0.022</td> <td>  -33.310</td> <td> 0.000</td> <td>   -0.774</td> <td>   -0.688</td>\n",
       "</tr>\n",
       "<tr>\n",
       "  <th>monthly_3g_6</th>      <td>   -0.3976</td> <td>    0.025</td> <td>  -15.761</td> <td> 0.000</td> <td>   -0.447</td> <td>   -0.348</td>\n",
       "</tr>\n",
       "<tr>\n",
       "  <th>monthly_3g_8</th>      <td>   -0.6013</td> <td>    0.035</td> <td>  -17.014</td> <td> 0.000</td> <td>   -0.671</td> <td>   -0.532</td>\n",
       "</tr>\n",
       "<tr>\n",
       "  <th>sep_vbc_3g</th>        <td>   -1.5576</td> <td>    0.129</td> <td>  -12.032</td> <td> 0.000</td> <td>   -1.811</td> <td>   -1.304</td>\n",
       "</tr>\n",
       "<tr>\n",
       "  <th>total_og_mou_diff</th> <td>   -0.5850</td> <td>    0.024</td> <td>  -23.956</td> <td> 0.000</td> <td>   -0.633</td> <td>   -0.537</td>\n",
       "</tr>\n",
       "<tr>\n",
       "  <th>vol_2g_mb_diff</th>    <td>   -0.3958</td> <td>    0.019</td> <td>  -20.348</td> <td> 0.000</td> <td>   -0.434</td> <td>   -0.358</td>\n",
       "</tr>\n",
       "<tr>\n",
       "  <th>vol_3g_mb_diff</th>    <td>   -0.4166</td> <td>    0.024</td> <td>  -17.384</td> <td> 0.000</td> <td>   -0.464</td> <td>   -0.370</td>\n",
       "</tr>\n",
       "</table>"
      ],
      "text/plain": [
       "<class 'statsmodels.iolib.summary.Summary'>\n",
       "\"\"\"\n",
       "                 Generalized Linear Model Regression Results                  \n",
       "==============================================================================\n",
       "Dep. Variable:                  churn   No. Observations:                39922\n",
       "Model:                            GLM   Df Residuals:                    39904\n",
       "Model Family:                Binomial   Df Model:                           17\n",
       "Link Function:                  Logit   Scale:                          1.0000\n",
       "Method:                          IRLS   Log-Likelihood:                -16182.\n",
       "Date:                Tue, 05 Sep 2023   Deviance:                       32364.\n",
       "Time:                        21:58:51   Pearson chi2:                 1.90e+05\n",
       "No. Iterations:                     9   Pseudo R-squ. (CS):             0.4376\n",
       "Covariance Type:            nonrobust                                         \n",
       "=====================================================================================\n",
       "                        coef    std err          z      P>|z|      [0.025      0.975]\n",
       "-------------------------------------------------------------------------------------\n",
       "const                -0.6822      0.024    -27.996      0.000      -0.730      -0.634\n",
       "loc_og_t2t_mou_8      0.1225      0.049      2.512      0.012       0.027       0.218\n",
       "loc_og_mou_8         -0.7592      0.046    -16.496      0.000      -0.849      -0.669\n",
       "std_og_t2t_mou_7      0.0561      0.031      1.836      0.066      -0.004       0.116\n",
       "std_og_t2t_mou_8     -0.2473      0.029     -8.453      0.000      -0.305      -0.190\n",
       "loc_ic_t2t_mou_8     -0.5840      0.048    -12.187      0.000      -0.678      -0.490\n",
       "loc_ic_t2m_mou_7      0.7789      0.036     21.655      0.000       0.708       0.849\n",
       "loc_ic_t2m_mou_8     -1.3575      0.052    -26.195      0.000      -1.459      -1.256\n",
       "monthly_2g_6         -0.5332      0.028    -19.236      0.000      -0.587      -0.479\n",
       "monthly_2g_7         -0.5061      0.028    -18.222      0.000      -0.561      -0.452\n",
       "monthly_2g_8         -0.6841      0.044    -15.430      0.000      -0.771      -0.597\n",
       "sachet_2g_8          -0.7311      0.022    -33.310      0.000      -0.774      -0.688\n",
       "monthly_3g_6         -0.3976      0.025    -15.761      0.000      -0.447      -0.348\n",
       "monthly_3g_8         -0.6013      0.035    -17.014      0.000      -0.671      -0.532\n",
       "sep_vbc_3g           -1.5576      0.129    -12.032      0.000      -1.811      -1.304\n",
       "total_og_mou_diff    -0.5850      0.024    -23.956      0.000      -0.633      -0.537\n",
       "vol_2g_mb_diff       -0.3958      0.019    -20.348      0.000      -0.434      -0.358\n",
       "vol_3g_mb_diff       -0.4166      0.024    -17.384      0.000      -0.464      -0.370\n",
       "=====================================================================================\n",
       "\"\"\""
      ]
     },
     "execution_count": 136,
     "metadata": {},
     "output_type": "execute_result"
    }
   ],
   "source": [
    "logreg_m4 = sm.GLM(y_train,X_train_new, family = sm.families.Binomial())\n",
    "result = logreg_m4.fit()\n",
    "result.summary()"
   ]
  },
  {
   "cell_type": "code",
   "execution_count": 137,
   "id": "27747bc2",
   "metadata": {},
   "outputs": [
    {
     "data": {
      "text/html": [
       "<div>\n",
       "<style scoped>\n",
       "    .dataframe tbody tr th:only-of-type {\n",
       "        vertical-align: middle;\n",
       "    }\n",
       "\n",
       "    .dataframe tbody tr th {\n",
       "        vertical-align: top;\n",
       "    }\n",
       "\n",
       "    .dataframe thead th {\n",
       "        text-align: right;\n",
       "    }\n",
       "</style>\n",
       "<table border=\"1\" class=\"dataframe\">\n",
       "  <thead>\n",
       "    <tr style=\"text-align: right;\">\n",
       "      <th></th>\n",
       "      <th>Features</th>\n",
       "      <th>VIF</th>\n",
       "    </tr>\n",
       "  </thead>\n",
       "  <tbody>\n",
       "    <tr>\n",
       "      <th>2</th>\n",
       "      <td>loc_og_mou_8</td>\n",
       "      <td>3.73</td>\n",
       "    </tr>\n",
       "    <tr>\n",
       "      <th>7</th>\n",
       "      <td>loc_ic_t2m_mou_8</td>\n",
       "      <td>3.21</td>\n",
       "    </tr>\n",
       "    <tr>\n",
       "      <th>3</th>\n",
       "      <td>std_og_t2t_mou_7</td>\n",
       "      <td>3.19</td>\n",
       "    </tr>\n",
       "    <tr>\n",
       "      <th>4</th>\n",
       "      <td>std_og_t2t_mou_8</td>\n",
       "      <td>3.07</td>\n",
       "    </tr>\n",
       "    <tr>\n",
       "      <th>1</th>\n",
       "      <td>loc_og_t2t_mou_8</td>\n",
       "      <td>2.87</td>\n",
       "    </tr>\n",
       "    <tr>\n",
       "      <th>6</th>\n",
       "      <td>loc_ic_t2m_mou_7</td>\n",
       "      <td>2.76</td>\n",
       "    </tr>\n",
       "    <tr>\n",
       "      <th>13</th>\n",
       "      <td>monthly_3g_8</td>\n",
       "      <td>2.03</td>\n",
       "    </tr>\n",
       "    <tr>\n",
       "      <th>12</th>\n",
       "      <td>monthly_3g_6</td>\n",
       "      <td>1.89</td>\n",
       "    </tr>\n",
       "    <tr>\n",
       "      <th>15</th>\n",
       "      <td>total_og_mou_diff</td>\n",
       "      <td>1.81</td>\n",
       "    </tr>\n",
       "    <tr>\n",
       "      <th>10</th>\n",
       "      <td>monthly_2g_8</td>\n",
       "      <td>1.80</td>\n",
       "    </tr>\n",
       "    <tr>\n",
       "      <th>9</th>\n",
       "      <td>monthly_2g_7</td>\n",
       "      <td>1.72</td>\n",
       "    </tr>\n",
       "    <tr>\n",
       "      <th>8</th>\n",
       "      <td>monthly_2g_6</td>\n",
       "      <td>1.72</td>\n",
       "    </tr>\n",
       "    <tr>\n",
       "      <th>17</th>\n",
       "      <td>vol_3g_mb_diff</td>\n",
       "      <td>1.45</td>\n",
       "    </tr>\n",
       "    <tr>\n",
       "      <th>5</th>\n",
       "      <td>loc_ic_t2t_mou_8</td>\n",
       "      <td>1.17</td>\n",
       "    </tr>\n",
       "    <tr>\n",
       "      <th>16</th>\n",
       "      <td>vol_2g_mb_diff</td>\n",
       "      <td>1.11</td>\n",
       "    </tr>\n",
       "    <tr>\n",
       "      <th>11</th>\n",
       "      <td>sachet_2g_8</td>\n",
       "      <td>1.06</td>\n",
       "    </tr>\n",
       "    <tr>\n",
       "      <th>14</th>\n",
       "      <td>sep_vbc_3g</td>\n",
       "      <td>1.03</td>\n",
       "    </tr>\n",
       "    <tr>\n",
       "      <th>0</th>\n",
       "      <td>const</td>\n",
       "      <td>1.00</td>\n",
       "    </tr>\n",
       "  </tbody>\n",
       "</table>\n",
       "</div>"
      ],
      "text/plain": [
       "             Features   VIF\n",
       "2        loc_og_mou_8  3.73\n",
       "7    loc_ic_t2m_mou_8  3.21\n",
       "3    std_og_t2t_mou_7  3.19\n",
       "4    std_og_t2t_mou_8  3.07\n",
       "1    loc_og_t2t_mou_8  2.87\n",
       "6    loc_ic_t2m_mou_7  2.76\n",
       "13       monthly_3g_8  2.03\n",
       "12       monthly_3g_6  1.89\n",
       "15  total_og_mou_diff  1.81\n",
       "10       monthly_2g_8  1.80\n",
       "9        monthly_2g_7  1.72\n",
       "8        monthly_2g_6  1.72\n",
       "17     vol_3g_mb_diff  1.45\n",
       "5    loc_ic_t2t_mou_8  1.17\n",
       "16     vol_2g_mb_diff  1.11\n",
       "11        sachet_2g_8  1.06\n",
       "14         sep_vbc_3g  1.03\n",
       "0               const  1.00"
      ]
     },
     "execution_count": 137,
     "metadata": {},
     "output_type": "execute_result"
    }
   ],
   "source": [
    "# Make a VIF dataframe for all the variables present\n",
    "vif = pd.DataFrame()\n",
    "X = X_train_new\n",
    "vif['Features'] = X.columns\n",
    "vif['VIF'] = [variance_inflation_factor(X.values, i) for i in range(X.shape[1])]\n",
    "vif['VIF'] = round(vif['VIF'],2)\n",
    "vif = vif.sort_values(by = \"VIF\", ascending = False)\n",
    "vif"
   ]
  },
  {
   "cell_type": "markdown",
   "id": "4f353b20",
   "metadata": {},
   "source": [
    "### Model 5 - remove \"std_og_t2t_mou_7\" variable "
   ]
  },
  {
   "cell_type": "code",
   "execution_count": 138,
   "id": "f3a1c08c",
   "metadata": {},
   "outputs": [],
   "source": [
    "# Dropping std_og_t2t_mou_7 variable \n",
    "X_train_new = X_train_new.drop([\"std_og_t2t_mou_7\"], axis = 1)"
   ]
  },
  {
   "cell_type": "code",
   "execution_count": 139,
   "id": "96ce5691",
   "metadata": {},
   "outputs": [
    {
     "data": {
      "text/html": [
       "<table class=\"simpletable\">\n",
       "<caption>Generalized Linear Model Regression Results</caption>\n",
       "<tr>\n",
       "  <th>Dep. Variable:</th>         <td>churn</td>      <th>  No. Observations:  </th>  <td> 39922</td> \n",
       "</tr>\n",
       "<tr>\n",
       "  <th>Model:</th>                  <td>GLM</td>       <th>  Df Residuals:      </th>  <td> 39905</td> \n",
       "</tr>\n",
       "<tr>\n",
       "  <th>Model Family:</th>        <td>Binomial</td>     <th>  Df Model:          </th>  <td>    16</td> \n",
       "</tr>\n",
       "<tr>\n",
       "  <th>Link Function:</th>         <td>Logit</td>      <th>  Scale:             </th> <td>  1.0000</td>\n",
       "</tr>\n",
       "<tr>\n",
       "  <th>Method:</th>                <td>IRLS</td>       <th>  Log-Likelihood:    </th> <td> -16184.</td>\n",
       "</tr>\n",
       "<tr>\n",
       "  <th>Date:</th>            <td>Tue, 05 Sep 2023</td> <th>  Deviance:          </th> <td>  32367.</td>\n",
       "</tr>\n",
       "<tr>\n",
       "  <th>Time:</th>                <td>21:58:52</td>     <th>  Pearson chi2:      </th> <td>1.91e+05</td>\n",
       "</tr>\n",
       "<tr>\n",
       "  <th>No. Iterations:</th>          <td>9</td>        <th>  Pseudo R-squ. (CS):</th>  <td>0.4376</td> \n",
       "</tr>\n",
       "<tr>\n",
       "  <th>Covariance Type:</th>     <td>nonrobust</td>    <th>                     </th>     <td> </td>   \n",
       "</tr>\n",
       "</table>\n",
       "<table class=\"simpletable\">\n",
       "<tr>\n",
       "          <td></td>             <th>coef</th>     <th>std err</th>      <th>z</th>      <th>P>|z|</th>  <th>[0.025</th>    <th>0.975]</th>  \n",
       "</tr>\n",
       "<tr>\n",
       "  <th>const</th>             <td>   -0.6827</td> <td>    0.024</td> <td>  -28.009</td> <td> 0.000</td> <td>   -0.730</td> <td>   -0.635</td>\n",
       "</tr>\n",
       "<tr>\n",
       "  <th>loc_og_t2t_mou_8</th>  <td>    0.1203</td> <td>    0.049</td> <td>    2.464</td> <td> 0.014</td> <td>    0.025</td> <td>    0.216</td>\n",
       "</tr>\n",
       "<tr>\n",
       "  <th>loc_og_mou_8</th>      <td>   -0.7594</td> <td>    0.046</td> <td>  -16.479</td> <td> 0.000</td> <td>   -0.850</td> <td>   -0.669</td>\n",
       "</tr>\n",
       "<tr>\n",
       "  <th>std_og_t2t_mou_8</th>  <td>   -0.2000</td> <td>    0.014</td> <td>  -14.555</td> <td> 0.000</td> <td>   -0.227</td> <td>   -0.173</td>\n",
       "</tr>\n",
       "<tr>\n",
       "  <th>loc_ic_t2t_mou_8</th>  <td>   -0.5834</td> <td>    0.048</td> <td>  -12.173</td> <td> 0.000</td> <td>   -0.677</td> <td>   -0.489</td>\n",
       "</tr>\n",
       "<tr>\n",
       "  <th>loc_ic_t2m_mou_7</th>  <td>    0.7753</td> <td>    0.036</td> <td>   21.580</td> <td> 0.000</td> <td>    0.705</td> <td>    0.846</td>\n",
       "</tr>\n",
       "<tr>\n",
       "  <th>loc_ic_t2m_mou_8</th>  <td>   -1.3553</td> <td>    0.052</td> <td>  -26.147</td> <td> 0.000</td> <td>   -1.457</td> <td>   -1.254</td>\n",
       "</tr>\n",
       "<tr>\n",
       "  <th>monthly_2g_6</th>      <td>   -0.5333</td> <td>    0.028</td> <td>  -19.240</td> <td> 0.000</td> <td>   -0.588</td> <td>   -0.479</td>\n",
       "</tr>\n",
       "<tr>\n",
       "  <th>monthly_2g_7</th>      <td>   -0.5057</td> <td>    0.028</td> <td>  -18.210</td> <td> 0.000</td> <td>   -0.560</td> <td>   -0.451</td>\n",
       "</tr>\n",
       "<tr>\n",
       "  <th>monthly_2g_8</th>      <td>   -0.6845</td> <td>    0.044</td> <td>  -15.433</td> <td> 0.000</td> <td>   -0.771</td> <td>   -0.598</td>\n",
       "</tr>\n",
       "<tr>\n",
       "  <th>sachet_2g_8</th>       <td>   -0.7307</td> <td>    0.022</td> <td>  -33.298</td> <td> 0.000</td> <td>   -0.774</td> <td>   -0.688</td>\n",
       "</tr>\n",
       "<tr>\n",
       "  <th>monthly_3g_6</th>      <td>   -0.3978</td> <td>    0.025</td> <td>  -15.764</td> <td> 0.000</td> <td>   -0.447</td> <td>   -0.348</td>\n",
       "</tr>\n",
       "<tr>\n",
       "  <th>monthly_3g_8</th>      <td>   -0.6012</td> <td>    0.035</td> <td>  -17.010</td> <td> 0.000</td> <td>   -0.670</td> <td>   -0.532</td>\n",
       "</tr>\n",
       "<tr>\n",
       "  <th>sep_vbc_3g</th>        <td>   -1.5584</td> <td>    0.130</td> <td>  -12.030</td> <td> 0.000</td> <td>   -1.812</td> <td>   -1.304</td>\n",
       "</tr>\n",
       "<tr>\n",
       "  <th>total_og_mou_diff</th> <td>   -0.6101</td> <td>    0.020</td> <td>  -29.881</td> <td> 0.000</td> <td>   -0.650</td> <td>   -0.570</td>\n",
       "</tr>\n",
       "<tr>\n",
       "  <th>vol_2g_mb_diff</th>    <td>   -0.3955</td> <td>    0.019</td> <td>  -20.331</td> <td> 0.000</td> <td>   -0.434</td> <td>   -0.357</td>\n",
       "</tr>\n",
       "<tr>\n",
       "  <th>vol_3g_mb_diff</th>    <td>   -0.4169</td> <td>    0.024</td> <td>  -17.392</td> <td> 0.000</td> <td>   -0.464</td> <td>   -0.370</td>\n",
       "</tr>\n",
       "</table>"
      ],
      "text/plain": [
       "<class 'statsmodels.iolib.summary.Summary'>\n",
       "\"\"\"\n",
       "                 Generalized Linear Model Regression Results                  \n",
       "==============================================================================\n",
       "Dep. Variable:                  churn   No. Observations:                39922\n",
       "Model:                            GLM   Df Residuals:                    39905\n",
       "Model Family:                Binomial   Df Model:                           16\n",
       "Link Function:                  Logit   Scale:                          1.0000\n",
       "Method:                          IRLS   Log-Likelihood:                -16184.\n",
       "Date:                Tue, 05 Sep 2023   Deviance:                       32367.\n",
       "Time:                        21:58:52   Pearson chi2:                 1.91e+05\n",
       "No. Iterations:                     9   Pseudo R-squ. (CS):             0.4376\n",
       "Covariance Type:            nonrobust                                         \n",
       "=====================================================================================\n",
       "                        coef    std err          z      P>|z|      [0.025      0.975]\n",
       "-------------------------------------------------------------------------------------\n",
       "const                -0.6827      0.024    -28.009      0.000      -0.730      -0.635\n",
       "loc_og_t2t_mou_8      0.1203      0.049      2.464      0.014       0.025       0.216\n",
       "loc_og_mou_8         -0.7594      0.046    -16.479      0.000      -0.850      -0.669\n",
       "std_og_t2t_mou_8     -0.2000      0.014    -14.555      0.000      -0.227      -0.173\n",
       "loc_ic_t2t_mou_8     -0.5834      0.048    -12.173      0.000      -0.677      -0.489\n",
       "loc_ic_t2m_mou_7      0.7753      0.036     21.580      0.000       0.705       0.846\n",
       "loc_ic_t2m_mou_8     -1.3553      0.052    -26.147      0.000      -1.457      -1.254\n",
       "monthly_2g_6         -0.5333      0.028    -19.240      0.000      -0.588      -0.479\n",
       "monthly_2g_7         -0.5057      0.028    -18.210      0.000      -0.560      -0.451\n",
       "monthly_2g_8         -0.6845      0.044    -15.433      0.000      -0.771      -0.598\n",
       "sachet_2g_8          -0.7307      0.022    -33.298      0.000      -0.774      -0.688\n",
       "monthly_3g_6         -0.3978      0.025    -15.764      0.000      -0.447      -0.348\n",
       "monthly_3g_8         -0.6012      0.035    -17.010      0.000      -0.670      -0.532\n",
       "sep_vbc_3g           -1.5584      0.130    -12.030      0.000      -1.812      -1.304\n",
       "total_og_mou_diff    -0.6101      0.020    -29.881      0.000      -0.650      -0.570\n",
       "vol_2g_mb_diff       -0.3955      0.019    -20.331      0.000      -0.434      -0.357\n",
       "vol_3g_mb_diff       -0.4169      0.024    -17.392      0.000      -0.464      -0.370\n",
       "=====================================================================================\n",
       "\"\"\""
      ]
     },
     "execution_count": 139,
     "metadata": {},
     "output_type": "execute_result"
    }
   ],
   "source": [
    "logreg_m5 = sm.GLM(y_train,X_train_new, family = sm.families.Binomial())\n",
    "result = logreg_m5.fit()\n",
    "result.summary()"
   ]
  },
  {
   "cell_type": "code",
   "execution_count": 140,
   "id": "e4e42884",
   "metadata": {},
   "outputs": [
    {
     "data": {
      "text/html": [
       "<div>\n",
       "<style scoped>\n",
       "    .dataframe tbody tr th:only-of-type {\n",
       "        vertical-align: middle;\n",
       "    }\n",
       "\n",
       "    .dataframe tbody tr th {\n",
       "        vertical-align: top;\n",
       "    }\n",
       "\n",
       "    .dataframe thead th {\n",
       "        text-align: right;\n",
       "    }\n",
       "</style>\n",
       "<table border=\"1\" class=\"dataframe\">\n",
       "  <thead>\n",
       "    <tr style=\"text-align: right;\">\n",
       "      <th></th>\n",
       "      <th>Features</th>\n",
       "      <th>VIF</th>\n",
       "    </tr>\n",
       "  </thead>\n",
       "  <tbody>\n",
       "    <tr>\n",
       "      <th>2</th>\n",
       "      <td>loc_og_mou_8</td>\n",
       "      <td>3.73</td>\n",
       "    </tr>\n",
       "    <tr>\n",
       "      <th>6</th>\n",
       "      <td>loc_ic_t2m_mou_8</td>\n",
       "      <td>3.21</td>\n",
       "    </tr>\n",
       "    <tr>\n",
       "      <th>1</th>\n",
       "      <td>loc_og_t2t_mou_8</td>\n",
       "      <td>2.87</td>\n",
       "    </tr>\n",
       "    <tr>\n",
       "      <th>5</th>\n",
       "      <td>loc_ic_t2m_mou_7</td>\n",
       "      <td>2.75</td>\n",
       "    </tr>\n",
       "    <tr>\n",
       "      <th>12</th>\n",
       "      <td>monthly_3g_8</td>\n",
       "      <td>2.03</td>\n",
       "    </tr>\n",
       "    <tr>\n",
       "      <th>11</th>\n",
       "      <td>monthly_3g_6</td>\n",
       "      <td>1.89</td>\n",
       "    </tr>\n",
       "    <tr>\n",
       "      <th>9</th>\n",
       "      <td>monthly_2g_8</td>\n",
       "      <td>1.80</td>\n",
       "    </tr>\n",
       "    <tr>\n",
       "      <th>8</th>\n",
       "      <td>monthly_2g_7</td>\n",
       "      <td>1.72</td>\n",
       "    </tr>\n",
       "    <tr>\n",
       "      <th>7</th>\n",
       "      <td>monthly_2g_6</td>\n",
       "      <td>1.72</td>\n",
       "    </tr>\n",
       "    <tr>\n",
       "      <th>16</th>\n",
       "      <td>vol_3g_mb_diff</td>\n",
       "      <td>1.45</td>\n",
       "    </tr>\n",
       "    <tr>\n",
       "      <th>14</th>\n",
       "      <td>total_og_mou_diff</td>\n",
       "      <td>1.24</td>\n",
       "    </tr>\n",
       "    <tr>\n",
       "      <th>4</th>\n",
       "      <td>loc_ic_t2t_mou_8</td>\n",
       "      <td>1.17</td>\n",
       "    </tr>\n",
       "    <tr>\n",
       "      <th>15</th>\n",
       "      <td>vol_2g_mb_diff</td>\n",
       "      <td>1.10</td>\n",
       "    </tr>\n",
       "    <tr>\n",
       "      <th>3</th>\n",
       "      <td>std_og_t2t_mou_8</td>\n",
       "      <td>1.07</td>\n",
       "    </tr>\n",
       "    <tr>\n",
       "      <th>10</th>\n",
       "      <td>sachet_2g_8</td>\n",
       "      <td>1.06</td>\n",
       "    </tr>\n",
       "    <tr>\n",
       "      <th>13</th>\n",
       "      <td>sep_vbc_3g</td>\n",
       "      <td>1.03</td>\n",
       "    </tr>\n",
       "    <tr>\n",
       "      <th>0</th>\n",
       "      <td>const</td>\n",
       "      <td>1.00</td>\n",
       "    </tr>\n",
       "  </tbody>\n",
       "</table>\n",
       "</div>"
      ],
      "text/plain": [
       "             Features   VIF\n",
       "2        loc_og_mou_8  3.73\n",
       "6    loc_ic_t2m_mou_8  3.21\n",
       "1    loc_og_t2t_mou_8  2.87\n",
       "5    loc_ic_t2m_mou_7  2.75\n",
       "12       monthly_3g_8  2.03\n",
       "11       monthly_3g_6  1.89\n",
       "9        monthly_2g_8  1.80\n",
       "8        monthly_2g_7  1.72\n",
       "7        monthly_2g_6  1.72\n",
       "16     vol_3g_mb_diff  1.45\n",
       "14  total_og_mou_diff  1.24\n",
       "4    loc_ic_t2t_mou_8  1.17\n",
       "15     vol_2g_mb_diff  1.10\n",
       "3    std_og_t2t_mou_8  1.07\n",
       "10        sachet_2g_8  1.06\n",
       "13         sep_vbc_3g  1.03\n",
       "0               const  1.00"
      ]
     },
     "execution_count": 140,
     "metadata": {},
     "output_type": "execute_result"
    }
   ],
   "source": [
    "# Make a VIF dataframe for all the variables present\n",
    "vif = pd.DataFrame()\n",
    "X = X_train_new\n",
    "vif['Features'] = X.columns\n",
    "vif['VIF'] = [variance_inflation_factor(X.values, i) for i in range(X.shape[1])]\n",
    "vif['VIF'] = round(vif['VIF'],2)\n",
    "vif = vif.sort_values(by = \"VIF\", ascending = False)\n",
    "vif"
   ]
  },
  {
   "cell_type": "markdown",
   "id": "5a315f74",
   "metadata": {},
   "source": [
    "### Model 6 - remove \"loc_og_t2t_mou_8\" variable "
   ]
  },
  {
   "cell_type": "code",
   "execution_count": 141,
   "id": "48b5d4b6",
   "metadata": {},
   "outputs": [],
   "source": [
    "# Dropping loc_og_t2t_mou_8 variable \n",
    "X_train_new = X_train_new.drop([\"loc_og_t2t_mou_8\"], axis = 1)"
   ]
  },
  {
   "cell_type": "code",
   "execution_count": 142,
   "id": "d6504c6b",
   "metadata": {},
   "outputs": [
    {
     "data": {
      "text/html": [
       "<table class=\"simpletable\">\n",
       "<caption>Generalized Linear Model Regression Results</caption>\n",
       "<tr>\n",
       "  <th>Dep. Variable:</th>         <td>churn</td>      <th>  No. Observations:  </th>  <td> 39922</td> \n",
       "</tr>\n",
       "<tr>\n",
       "  <th>Model:</th>                  <td>GLM</td>       <th>  Df Residuals:      </th>  <td> 39906</td> \n",
       "</tr>\n",
       "<tr>\n",
       "  <th>Model Family:</th>        <td>Binomial</td>     <th>  Df Model:          </th>  <td>    15</td> \n",
       "</tr>\n",
       "<tr>\n",
       "  <th>Link Function:</th>         <td>Logit</td>      <th>  Scale:             </th> <td>  1.0000</td>\n",
       "</tr>\n",
       "<tr>\n",
       "  <th>Method:</th>                <td>IRLS</td>       <th>  Log-Likelihood:    </th> <td> -16187.</td>\n",
       "</tr>\n",
       "<tr>\n",
       "  <th>Date:</th>            <td>Tue, 05 Sep 2023</td> <th>  Deviance:          </th> <td>  32373.</td>\n",
       "</tr>\n",
       "<tr>\n",
       "  <th>Time:</th>                <td>21:58:53</td>     <th>  Pearson chi2:      </th> <td>1.82e+05</td>\n",
       "</tr>\n",
       "<tr>\n",
       "  <th>No. Iterations:</th>          <td>9</td>        <th>  Pseudo R-squ. (CS):</th>  <td>0.4375</td> \n",
       "</tr>\n",
       "<tr>\n",
       "  <th>Covariance Type:</th>     <td>nonrobust</td>    <th>                     </th>     <td> </td>   \n",
       "</tr>\n",
       "</table>\n",
       "<table class=\"simpletable\">\n",
       "<tr>\n",
       "          <td></td>             <th>coef</th>     <th>std err</th>      <th>z</th>      <th>P>|z|</th>  <th>[0.025</th>    <th>0.975]</th>  \n",
       "</tr>\n",
       "<tr>\n",
       "  <th>const</th>             <td>   -0.6829</td> <td>    0.024</td> <td>  -28.024</td> <td> 0.000</td> <td>   -0.731</td> <td>   -0.635</td>\n",
       "</tr>\n",
       "<tr>\n",
       "  <th>loc_og_mou_8</th>      <td>   -0.6836</td> <td>    0.033</td> <td>  -20.632</td> <td> 0.000</td> <td>   -0.749</td> <td>   -0.619</td>\n",
       "</tr>\n",
       "<tr>\n",
       "  <th>std_og_t2t_mou_8</th>  <td>   -0.1993</td> <td>    0.014</td> <td>  -14.507</td> <td> 0.000</td> <td>   -0.226</td> <td>   -0.172</td>\n",
       "</tr>\n",
       "<tr>\n",
       "  <th>loc_ic_t2t_mou_8</th>  <td>   -0.5503</td> <td>    0.046</td> <td>  -12.035</td> <td> 0.000</td> <td>   -0.640</td> <td>   -0.461</td>\n",
       "</tr>\n",
       "<tr>\n",
       "  <th>loc_ic_t2m_mou_7</th>  <td>    0.7703</td> <td>    0.036</td> <td>   21.539</td> <td> 0.000</td> <td>    0.700</td> <td>    0.840</td>\n",
       "</tr>\n",
       "<tr>\n",
       "  <th>loc_ic_t2m_mou_8</th>  <td>   -1.3786</td> <td>    0.051</td> <td>  -27.034</td> <td> 0.000</td> <td>   -1.479</td> <td>   -1.279</td>\n",
       "</tr>\n",
       "<tr>\n",
       "  <th>monthly_2g_6</th>      <td>   -0.5329</td> <td>    0.028</td> <td>  -19.229</td> <td> 0.000</td> <td>   -0.587</td> <td>   -0.479</td>\n",
       "</tr>\n",
       "<tr>\n",
       "  <th>monthly_2g_7</th>      <td>   -0.5059</td> <td>    0.028</td> <td>  -18.222</td> <td> 0.000</td> <td>   -0.560</td> <td>   -0.452</td>\n",
       "</tr>\n",
       "<tr>\n",
       "  <th>monthly_2g_8</th>      <td>   -0.6840</td> <td>    0.044</td> <td>  -15.427</td> <td> 0.000</td> <td>   -0.771</td> <td>   -0.597</td>\n",
       "</tr>\n",
       "<tr>\n",
       "  <th>sachet_2g_8</th>       <td>   -0.7295</td> <td>    0.022</td> <td>  -33.265</td> <td> 0.000</td> <td>   -0.772</td> <td>   -0.687</td>\n",
       "</tr>\n",
       "<tr>\n",
       "  <th>monthly_3g_6</th>      <td>   -0.3976</td> <td>    0.025</td> <td>  -15.761</td> <td> 0.000</td> <td>   -0.447</td> <td>   -0.348</td>\n",
       "</tr>\n",
       "<tr>\n",
       "  <th>monthly_3g_8</th>      <td>   -0.6009</td> <td>    0.035</td> <td>  -17.007</td> <td> 0.000</td> <td>   -0.670</td> <td>   -0.532</td>\n",
       "</tr>\n",
       "<tr>\n",
       "  <th>sep_vbc_3g</th>        <td>   -1.5586</td> <td>    0.129</td> <td>  -12.040</td> <td> 0.000</td> <td>   -1.812</td> <td>   -1.305</td>\n",
       "</tr>\n",
       "<tr>\n",
       "  <th>total_og_mou_diff</th> <td>   -0.6136</td> <td>    0.020</td> <td>  -30.093</td> <td> 0.000</td> <td>   -0.654</td> <td>   -0.574</td>\n",
       "</tr>\n",
       "<tr>\n",
       "  <th>vol_2g_mb_diff</th>    <td>   -0.3957</td> <td>    0.019</td> <td>  -20.339</td> <td> 0.000</td> <td>   -0.434</td> <td>   -0.358</td>\n",
       "</tr>\n",
       "<tr>\n",
       "  <th>vol_3g_mb_diff</th>    <td>   -0.4163</td> <td>    0.024</td> <td>  -17.380</td> <td> 0.000</td> <td>   -0.463</td> <td>   -0.369</td>\n",
       "</tr>\n",
       "</table>"
      ],
      "text/plain": [
       "<class 'statsmodels.iolib.summary.Summary'>\n",
       "\"\"\"\n",
       "                 Generalized Linear Model Regression Results                  \n",
       "==============================================================================\n",
       "Dep. Variable:                  churn   No. Observations:                39922\n",
       "Model:                            GLM   Df Residuals:                    39906\n",
       "Model Family:                Binomial   Df Model:                           15\n",
       "Link Function:                  Logit   Scale:                          1.0000\n",
       "Method:                          IRLS   Log-Likelihood:                -16187.\n",
       "Date:                Tue, 05 Sep 2023   Deviance:                       32373.\n",
       "Time:                        21:58:53   Pearson chi2:                 1.82e+05\n",
       "No. Iterations:                     9   Pseudo R-squ. (CS):             0.4375\n",
       "Covariance Type:            nonrobust                                         \n",
       "=====================================================================================\n",
       "                        coef    std err          z      P>|z|      [0.025      0.975]\n",
       "-------------------------------------------------------------------------------------\n",
       "const                -0.6829      0.024    -28.024      0.000      -0.731      -0.635\n",
       "loc_og_mou_8         -0.6836      0.033    -20.632      0.000      -0.749      -0.619\n",
       "std_og_t2t_mou_8     -0.1993      0.014    -14.507      0.000      -0.226      -0.172\n",
       "loc_ic_t2t_mou_8     -0.5503      0.046    -12.035      0.000      -0.640      -0.461\n",
       "loc_ic_t2m_mou_7      0.7703      0.036     21.539      0.000       0.700       0.840\n",
       "loc_ic_t2m_mou_8     -1.3786      0.051    -27.034      0.000      -1.479      -1.279\n",
       "monthly_2g_6         -0.5329      0.028    -19.229      0.000      -0.587      -0.479\n",
       "monthly_2g_7         -0.5059      0.028    -18.222      0.000      -0.560      -0.452\n",
       "monthly_2g_8         -0.6840      0.044    -15.427      0.000      -0.771      -0.597\n",
       "sachet_2g_8          -0.7295      0.022    -33.265      0.000      -0.772      -0.687\n",
       "monthly_3g_6         -0.3976      0.025    -15.761      0.000      -0.447      -0.348\n",
       "monthly_3g_8         -0.6009      0.035    -17.007      0.000      -0.670      -0.532\n",
       "sep_vbc_3g           -1.5586      0.129    -12.040      0.000      -1.812      -1.305\n",
       "total_og_mou_diff    -0.6136      0.020    -30.093      0.000      -0.654      -0.574\n",
       "vol_2g_mb_diff       -0.3957      0.019    -20.339      0.000      -0.434      -0.358\n",
       "vol_3g_mb_diff       -0.4163      0.024    -17.380      0.000      -0.463      -0.369\n",
       "=====================================================================================\n",
       "\"\"\""
      ]
     },
     "execution_count": 142,
     "metadata": {},
     "output_type": "execute_result"
    }
   ],
   "source": [
    "logreg_m6 = sm.GLM(y_train,X_train_new, family = sm.families.Binomial())\n",
    "result = logreg_m6.fit()\n",
    "result.summary()"
   ]
  },
  {
   "cell_type": "code",
   "execution_count": 143,
   "id": "050f0342",
   "metadata": {},
   "outputs": [
    {
     "data": {
      "text/html": [
       "<div>\n",
       "<style scoped>\n",
       "    .dataframe tbody tr th:only-of-type {\n",
       "        vertical-align: middle;\n",
       "    }\n",
       "\n",
       "    .dataframe tbody tr th {\n",
       "        vertical-align: top;\n",
       "    }\n",
       "\n",
       "    .dataframe thead th {\n",
       "        text-align: right;\n",
       "    }\n",
       "</style>\n",
       "<table border=\"1\" class=\"dataframe\">\n",
       "  <thead>\n",
       "    <tr style=\"text-align: right;\">\n",
       "      <th></th>\n",
       "      <th>Features</th>\n",
       "      <th>VIF</th>\n",
       "    </tr>\n",
       "  </thead>\n",
       "  <tbody>\n",
       "    <tr>\n",
       "      <th>5</th>\n",
       "      <td>loc_ic_t2m_mou_8</td>\n",
       "      <td>3.06</td>\n",
       "    </tr>\n",
       "    <tr>\n",
       "      <th>4</th>\n",
       "      <td>loc_ic_t2m_mou_7</td>\n",
       "      <td>2.74</td>\n",
       "    </tr>\n",
       "    <tr>\n",
       "      <th>11</th>\n",
       "      <td>monthly_3g_8</td>\n",
       "      <td>2.03</td>\n",
       "    </tr>\n",
       "    <tr>\n",
       "      <th>10</th>\n",
       "      <td>monthly_3g_6</td>\n",
       "      <td>1.89</td>\n",
       "    </tr>\n",
       "    <tr>\n",
       "      <th>8</th>\n",
       "      <td>monthly_2g_8</td>\n",
       "      <td>1.80</td>\n",
       "    </tr>\n",
       "    <tr>\n",
       "      <th>6</th>\n",
       "      <td>monthly_2g_6</td>\n",
       "      <td>1.72</td>\n",
       "    </tr>\n",
       "    <tr>\n",
       "      <th>7</th>\n",
       "      <td>monthly_2g_7</td>\n",
       "      <td>1.72</td>\n",
       "    </tr>\n",
       "    <tr>\n",
       "      <th>1</th>\n",
       "      <td>loc_og_mou_8</td>\n",
       "      <td>1.47</td>\n",
       "    </tr>\n",
       "    <tr>\n",
       "      <th>15</th>\n",
       "      <td>vol_3g_mb_diff</td>\n",
       "      <td>1.45</td>\n",
       "    </tr>\n",
       "    <tr>\n",
       "      <th>13</th>\n",
       "      <td>total_og_mou_diff</td>\n",
       "      <td>1.24</td>\n",
       "    </tr>\n",
       "    <tr>\n",
       "      <th>3</th>\n",
       "      <td>loc_ic_t2t_mou_8</td>\n",
       "      <td>1.14</td>\n",
       "    </tr>\n",
       "    <tr>\n",
       "      <th>14</th>\n",
       "      <td>vol_2g_mb_diff</td>\n",
       "      <td>1.10</td>\n",
       "    </tr>\n",
       "    <tr>\n",
       "      <th>2</th>\n",
       "      <td>std_og_t2t_mou_8</td>\n",
       "      <td>1.07</td>\n",
       "    </tr>\n",
       "    <tr>\n",
       "      <th>9</th>\n",
       "      <td>sachet_2g_8</td>\n",
       "      <td>1.06</td>\n",
       "    </tr>\n",
       "    <tr>\n",
       "      <th>12</th>\n",
       "      <td>sep_vbc_3g</td>\n",
       "      <td>1.03</td>\n",
       "    </tr>\n",
       "    <tr>\n",
       "      <th>0</th>\n",
       "      <td>const</td>\n",
       "      <td>1.00</td>\n",
       "    </tr>\n",
       "  </tbody>\n",
       "</table>\n",
       "</div>"
      ],
      "text/plain": [
       "             Features   VIF\n",
       "5    loc_ic_t2m_mou_8  3.06\n",
       "4    loc_ic_t2m_mou_7  2.74\n",
       "11       monthly_3g_8  2.03\n",
       "10       monthly_3g_6  1.89\n",
       "8        monthly_2g_8  1.80\n",
       "6        monthly_2g_6  1.72\n",
       "7        monthly_2g_7  1.72\n",
       "1        loc_og_mou_8  1.47\n",
       "15     vol_3g_mb_diff  1.45\n",
       "13  total_og_mou_diff  1.24\n",
       "3    loc_ic_t2t_mou_8  1.14\n",
       "14     vol_2g_mb_diff  1.10\n",
       "2    std_og_t2t_mou_8  1.07\n",
       "9         sachet_2g_8  1.06\n",
       "12         sep_vbc_3g  1.03\n",
       "0               const  1.00"
      ]
     },
     "execution_count": 143,
     "metadata": {},
     "output_type": "execute_result"
    }
   ],
   "source": [
    "# Make a VIF dataframe for all the variables present\n",
    "vif = pd.DataFrame()\n",
    "X = X_train_new\n",
    "vif['Features'] = X.columns\n",
    "vif['VIF'] = [variance_inflation_factor(X.values, i) for i in range(X.shape[1])]\n",
    "vif['VIF'] = round(vif['VIF'],2)\n",
    "vif = vif.sort_values(by = \"VIF\", ascending = False)\n",
    "vif"
   ]
  },
  {
   "cell_type": "markdown",
   "id": "638a9315",
   "metadata": {},
   "source": [
    "### Evaluating Final model on train data"
   ]
  },
  {
   "cell_type": "code",
   "execution_count": 144,
   "id": "bd338865",
   "metadata": {},
   "outputs": [
    {
     "data": {
      "text/plain": [
       "0    0.024773\n",
       "1    0.000205\n",
       "2    0.638742\n",
       "3    0.019094\n",
       "4    0.135509\n",
       "5    0.035321\n",
       "6    0.004430\n",
       "7    0.000510\n",
       "8    0.724255\n",
       "9    0.107274\n",
       "dtype: float64"
      ]
     },
     "execution_count": 144,
     "metadata": {},
     "output_type": "execute_result"
    }
   ],
   "source": [
    "# Getting the predicted values on the train set\n",
    "y_train_pred = result.predict(X_train_new)\n",
    "y_train_pred[:10]"
   ]
  },
  {
   "cell_type": "code",
   "execution_count": 145,
   "id": "67a0e0a7",
   "metadata": {},
   "outputs": [
    {
     "data": {
      "text/plain": [
       "array([2.47728550e-02, 2.05129463e-04, 6.38742097e-01, 1.90941856e-02,\n",
       "       1.35508842e-01, 3.53205874e-02, 4.42963966e-03, 5.10186888e-04,\n",
       "       7.24254788e-01, 1.07274138e-01])"
      ]
     },
     "execution_count": 145,
     "metadata": {},
     "output_type": "execute_result"
    }
   ],
   "source": [
    "y_train_pred = y_train_pred.values.reshape(-1)\n",
    "y_train_pred[:10]"
   ]
  },
  {
   "cell_type": "code",
   "execution_count": 146,
   "id": "25902b14",
   "metadata": {},
   "outputs": [
    {
     "data": {
      "text/html": [
       "<div>\n",
       "<style scoped>\n",
       "    .dataframe tbody tr th:only-of-type {\n",
       "        vertical-align: middle;\n",
       "    }\n",
       "\n",
       "    .dataframe tbody tr th {\n",
       "        vertical-align: top;\n",
       "    }\n",
       "\n",
       "    .dataframe thead th {\n",
       "        text-align: right;\n",
       "    }\n",
       "</style>\n",
       "<table border=\"1\" class=\"dataframe\">\n",
       "  <thead>\n",
       "    <tr style=\"text-align: right;\">\n",
       "      <th></th>\n",
       "      <th>converted</th>\n",
       "      <th>conversion_prob</th>\n",
       "      <th>Prospect ID</th>\n",
       "    </tr>\n",
       "  </thead>\n",
       "  <tbody>\n",
       "    <tr>\n",
       "      <th>0</th>\n",
       "      <td>0</td>\n",
       "      <td>0.024773</td>\n",
       "      <td>0</td>\n",
       "    </tr>\n",
       "    <tr>\n",
       "      <th>1</th>\n",
       "      <td>0</td>\n",
       "      <td>0.000205</td>\n",
       "      <td>1</td>\n",
       "    </tr>\n",
       "    <tr>\n",
       "      <th>2</th>\n",
       "      <td>0</td>\n",
       "      <td>0.638742</td>\n",
       "      <td>2</td>\n",
       "    </tr>\n",
       "    <tr>\n",
       "      <th>3</th>\n",
       "      <td>0</td>\n",
       "      <td>0.019094</td>\n",
       "      <td>3</td>\n",
       "    </tr>\n",
       "    <tr>\n",
       "      <th>4</th>\n",
       "      <td>0</td>\n",
       "      <td>0.135509</td>\n",
       "      <td>4</td>\n",
       "    </tr>\n",
       "  </tbody>\n",
       "</table>\n",
       "</div>"
      ],
      "text/plain": [
       "   converted  conversion_prob  Prospect ID\n",
       "0          0         0.024773            0\n",
       "1          0         0.000205            1\n",
       "2          0         0.638742            2\n",
       "3          0         0.019094            3\n",
       "4          0         0.135509            4"
      ]
     },
     "execution_count": 146,
     "metadata": {},
     "output_type": "execute_result"
    }
   ],
   "source": [
    "# creating a dataframe with the actual churn flag and the predicted probabilities\n",
    "y_train_pred_final = pd.DataFrame({'converted':y_train.values, 'conversion_prob':y_train_pred})\n",
    "y_train_pred_final['Prospect ID'] = y_train.index\n",
    "y_train_pred_final.head()"
   ]
  },
  {
   "cell_type": "code",
   "execution_count": 147,
   "id": "529f1f15",
   "metadata": {},
   "outputs": [
    {
     "data": {
      "text/html": [
       "<div>\n",
       "<style scoped>\n",
       "    .dataframe tbody tr th:only-of-type {\n",
       "        vertical-align: middle;\n",
       "    }\n",
       "\n",
       "    .dataframe tbody tr th {\n",
       "        vertical-align: top;\n",
       "    }\n",
       "\n",
       "    .dataframe thead th {\n",
       "        text-align: right;\n",
       "    }\n",
       "</style>\n",
       "<table border=\"1\" class=\"dataframe\">\n",
       "  <thead>\n",
       "    <tr style=\"text-align: right;\">\n",
       "      <th></th>\n",
       "      <th>converted</th>\n",
       "      <th>conversion_prob</th>\n",
       "      <th>Prospect ID</th>\n",
       "      <th>Predicted</th>\n",
       "    </tr>\n",
       "  </thead>\n",
       "  <tbody>\n",
       "    <tr>\n",
       "      <th>0</th>\n",
       "      <td>0</td>\n",
       "      <td>0.024773</td>\n",
       "      <td>0</td>\n",
       "      <td>0</td>\n",
       "    </tr>\n",
       "    <tr>\n",
       "      <th>1</th>\n",
       "      <td>0</td>\n",
       "      <td>0.000205</td>\n",
       "      <td>1</td>\n",
       "      <td>0</td>\n",
       "    </tr>\n",
       "    <tr>\n",
       "      <th>2</th>\n",
       "      <td>0</td>\n",
       "      <td>0.638742</td>\n",
       "      <td>2</td>\n",
       "      <td>1</td>\n",
       "    </tr>\n",
       "    <tr>\n",
       "      <th>3</th>\n",
       "      <td>0</td>\n",
       "      <td>0.019094</td>\n",
       "      <td>3</td>\n",
       "      <td>0</td>\n",
       "    </tr>\n",
       "    <tr>\n",
       "      <th>4</th>\n",
       "      <td>0</td>\n",
       "      <td>0.135509</td>\n",
       "      <td>4</td>\n",
       "      <td>0</td>\n",
       "    </tr>\n",
       "  </tbody>\n",
       "</table>\n",
       "</div>"
      ],
      "text/plain": [
       "   converted  conversion_prob  Prospect ID  Predicted\n",
       "0          0         0.024773            0          0\n",
       "1          0         0.000205            1          0\n",
       "2          0         0.638742            2          1\n",
       "3          0         0.019094            3          0\n",
       "4          0         0.135509            4          0"
      ]
     },
     "execution_count": 147,
     "metadata": {},
     "output_type": "execute_result"
    }
   ],
   "source": [
    "# Creating new column 'Predicted' with 1 if conversion_prob > 0.5 else 0\n",
    "y_train_pred_final['Predicted'] = y_train_pred_final.conversion_prob.map(lambda x: 1 if x > 0.5 else 0)\n",
    "\n",
    "# Let's see the head\n",
    "y_train_pred_final.head()"
   ]
  },
  {
   "cell_type": "code",
   "execution_count": 148,
   "id": "17bad0f8",
   "metadata": {},
   "outputs": [
    {
     "data": {
      "text/html": [
       "<div>\n",
       "<style scoped>\n",
       "    .dataframe tbody tr th:only-of-type {\n",
       "        vertical-align: middle;\n",
       "    }\n",
       "\n",
       "    .dataframe tbody tr th {\n",
       "        vertical-align: top;\n",
       "    }\n",
       "\n",
       "    .dataframe thead th {\n",
       "        text-align: right;\n",
       "    }\n",
       "</style>\n",
       "<table border=\"1\" class=\"dataframe\">\n",
       "  <thead>\n",
       "    <tr style=\"text-align: right;\">\n",
       "      <th></th>\n",
       "      <th>converted</th>\n",
       "      <th>conversion_prob</th>\n",
       "      <th>Prospect ID</th>\n",
       "      <th>Predicted</th>\n",
       "      <th>0.0</th>\n",
       "      <th>0.1</th>\n",
       "      <th>0.2</th>\n",
       "      <th>0.3</th>\n",
       "      <th>0.4</th>\n",
       "      <th>0.5</th>\n",
       "      <th>0.6</th>\n",
       "      <th>0.7</th>\n",
       "      <th>0.8</th>\n",
       "      <th>0.9</th>\n",
       "    </tr>\n",
       "  </thead>\n",
       "  <tbody>\n",
       "    <tr>\n",
       "      <th>0</th>\n",
       "      <td>0</td>\n",
       "      <td>0.024773</td>\n",
       "      <td>0</td>\n",
       "      <td>0</td>\n",
       "      <td>1</td>\n",
       "      <td>0</td>\n",
       "      <td>0</td>\n",
       "      <td>0</td>\n",
       "      <td>0</td>\n",
       "      <td>0</td>\n",
       "      <td>0</td>\n",
       "      <td>0</td>\n",
       "      <td>0</td>\n",
       "      <td>0</td>\n",
       "    </tr>\n",
       "    <tr>\n",
       "      <th>1</th>\n",
       "      <td>0</td>\n",
       "      <td>0.000205</td>\n",
       "      <td>1</td>\n",
       "      <td>0</td>\n",
       "      <td>1</td>\n",
       "      <td>0</td>\n",
       "      <td>0</td>\n",
       "      <td>0</td>\n",
       "      <td>0</td>\n",
       "      <td>0</td>\n",
       "      <td>0</td>\n",
       "      <td>0</td>\n",
       "      <td>0</td>\n",
       "      <td>0</td>\n",
       "    </tr>\n",
       "    <tr>\n",
       "      <th>2</th>\n",
       "      <td>0</td>\n",
       "      <td>0.638742</td>\n",
       "      <td>2</td>\n",
       "      <td>1</td>\n",
       "      <td>1</td>\n",
       "      <td>1</td>\n",
       "      <td>1</td>\n",
       "      <td>1</td>\n",
       "      <td>1</td>\n",
       "      <td>1</td>\n",
       "      <td>1</td>\n",
       "      <td>0</td>\n",
       "      <td>0</td>\n",
       "      <td>0</td>\n",
       "    </tr>\n",
       "    <tr>\n",
       "      <th>3</th>\n",
       "      <td>0</td>\n",
       "      <td>0.019094</td>\n",
       "      <td>3</td>\n",
       "      <td>0</td>\n",
       "      <td>1</td>\n",
       "      <td>0</td>\n",
       "      <td>0</td>\n",
       "      <td>0</td>\n",
       "      <td>0</td>\n",
       "      <td>0</td>\n",
       "      <td>0</td>\n",
       "      <td>0</td>\n",
       "      <td>0</td>\n",
       "      <td>0</td>\n",
       "    </tr>\n",
       "    <tr>\n",
       "      <th>4</th>\n",
       "      <td>0</td>\n",
       "      <td>0.135509</td>\n",
       "      <td>4</td>\n",
       "      <td>0</td>\n",
       "      <td>1</td>\n",
       "      <td>1</td>\n",
       "      <td>0</td>\n",
       "      <td>0</td>\n",
       "      <td>0</td>\n",
       "      <td>0</td>\n",
       "      <td>0</td>\n",
       "      <td>0</td>\n",
       "      <td>0</td>\n",
       "      <td>0</td>\n",
       "    </tr>\n",
       "  </tbody>\n",
       "</table>\n",
       "</div>"
      ],
      "text/plain": [
       "   converted  conversion_prob  Prospect ID  Predicted  0.0  0.1  0.2  0.3  \\\n",
       "0          0         0.024773            0          0    1    0    0    0   \n",
       "1          0         0.000205            1          0    1    0    0    0   \n",
       "2          0         0.638742            2          1    1    1    1    1   \n",
       "3          0         0.019094            3          0    1    0    0    0   \n",
       "4          0         0.135509            4          0    1    1    0    0   \n",
       "\n",
       "   0.4  0.5  0.6  0.7  0.8  0.9  \n",
       "0    0    0    0    0    0    0  \n",
       "1    0    0    0    0    0    0  \n",
       "2    1    1    1    0    0    0  \n",
       "3    0    0    0    0    0    0  \n",
       "4    0    0    0    0    0    0  "
      ]
     },
     "execution_count": 148,
     "metadata": {},
     "output_type": "execute_result"
    }
   ],
   "source": [
    "# Let's create columns with different probability cutoffs \n",
    "\n",
    "numbers = [float(x)/10 for x in range(10)]\n",
    "for i in numbers:\n",
    "    y_train_pred_final[i]= y_train_pred_final.conversion_prob.map(lambda x: 1 if x > i else 0)\n",
    "y_train_pred_final.head()"
   ]
  },
  {
   "cell_type": "code",
   "execution_count": 149,
   "id": "dfb8a759",
   "metadata": {},
   "outputs": [
    {
     "name": "stdout",
     "output_type": "stream",
     "text": [
      "     prob  accuracy     sensi     speci\n",
      "0.0   0.0  0.500000  1.000000  0.000000\n",
      "0.1   0.1  0.713441  0.980412  0.446471\n",
      "0.2   0.2  0.758153  0.960573  0.555734\n",
      "0.3   0.3  0.788638  0.939332  0.637944\n",
      "0.4   0.4  0.811207  0.912980  0.709433\n",
      "0.5   0.5  0.825685  0.877361  0.774009\n",
      "0.6   0.6  0.829167  0.818396  0.839938\n",
      "0.7   0.7  0.813186  0.723110  0.903261\n",
      "0.8   0.8  0.732679  0.513652  0.951706\n",
      "0.9   0.9  0.591253  0.198036  0.984470\n"
     ]
    }
   ],
   "source": [
    "# Let's create a dataframe to see the values of accuracy, sensitivity, and specificity at \n",
    "# different values of probabiity cutoffs\n",
    "\n",
    "cutoff_df = pd.DataFrame( columns = ['prob','accuracy','sensi','speci'])\n",
    "import sklearn.metrics as metrics\n",
    "from sklearn.metrics import confusion_matrix\n",
    "\n",
    "# TP = confusion[1,1] # true positive \n",
    "# TN = confusion[0,0] # true negatives\n",
    "# FP = confusion[0,1] # false positives\n",
    "# FN = confusion[1,0] # false negatives\n",
    "\n",
    "num = [0.0,0.1,0.2,0.3,0.4,0.5,0.6,0.7,0.8,0.9]\n",
    "for i in num:\n",
    "    cm1 = metrics.confusion_matrix(y_train_pred_final.converted, y_train_pred_final[i] )\n",
    "    total1=sum(sum(cm1))\n",
    "    accuracy = (cm1[0,0]+cm1[1,1])/total1\n",
    "    \n",
    "    speci = cm1[0,0]/(cm1[0,0]+cm1[0,1])\n",
    "    sensi = cm1[1,1]/(cm1[1,0]+cm1[1,1])\n",
    "    cutoff_df.loc[i] =[ i ,accuracy,sensi,speci]\n",
    "print(cutoff_df)"
   ]
  },
  {
   "cell_type": "code",
   "execution_count": 150,
   "id": "6108112e",
   "metadata": {},
   "outputs": [
    {
     "data": {
      "image/png": "[encoded data removed]",
      "text/plain": [
       "<Figure size 640x480 with 1 Axes>"
      ]
     },
     "metadata": {},
     "output_type": "display_data"
    }
   ],
   "source": [
    "# Let's plot accuracy sensitivity and specificity for various probabilities.\n",
    "cutoff_df.plot.line(x='prob', y=['accuracy','sensi','speci'])\n",
    "plt.grid()\n",
    "plt.show()"
   ]
  },
  {
   "cell_type": "markdown",
   "id": "df06d770",
   "metadata": {},
   "source": [
    "* Observation : Analysis of the above curve\n",
    "\n",
    "- Accuracy - Becomes stable around 0.6\n",
    "- Sensitivity - Decreases with the increased probablity.\n",
    "- Specificity - Increases with the increasing probablity.\n",
    "- At point 0.6 where the three parameters cut each other, we can see that there is a balance bethween sensitivity and specificity with a good accuracy.\n",
    "- Here we are intended to acheive better sensitivity than accuracy and specificity. Though as per the above curve, we should take 0.6 as the optimum probability cutoff, we are taking *0.5* for acheiving higher sensitivity, which is our main goal."
   ]
  },
  {
   "cell_type": "code",
   "execution_count": 151,
   "id": "58ad7d5a",
   "metadata": {},
   "outputs": [
    {
     "data": {
      "text/html": [
       "<div>\n",
       "<style scoped>\n",
       "    .dataframe tbody tr th:only-of-type {\n",
       "        vertical-align: middle;\n",
       "    }\n",
       "\n",
       "    .dataframe tbody tr th {\n",
       "        vertical-align: top;\n",
       "    }\n",
       "\n",
       "    .dataframe thead th {\n",
       "        text-align: right;\n",
       "    }\n",
       "</style>\n",
       "<table border=\"1\" class=\"dataframe\">\n",
       "  <thead>\n",
       "    <tr style=\"text-align: right;\">\n",
       "      <th></th>\n",
       "      <th>converted</th>\n",
       "      <th>conversion_prob</th>\n",
       "      <th>Prospect ID</th>\n",
       "      <th>Predicted</th>\n",
       "      <th>0.0</th>\n",
       "      <th>0.1</th>\n",
       "      <th>0.2</th>\n",
       "      <th>0.3</th>\n",
       "      <th>0.4</th>\n",
       "      <th>0.5</th>\n",
       "      <th>0.6</th>\n",
       "      <th>0.7</th>\n",
       "      <th>0.8</th>\n",
       "      <th>0.9</th>\n",
       "      <th>final_predicted</th>\n",
       "    </tr>\n",
       "  </thead>\n",
       "  <tbody>\n",
       "    <tr>\n",
       "      <th>0</th>\n",
       "      <td>0</td>\n",
       "      <td>0.024773</td>\n",
       "      <td>0</td>\n",
       "      <td>0</td>\n",
       "      <td>1</td>\n",
       "      <td>0</td>\n",
       "      <td>0</td>\n",
       "      <td>0</td>\n",
       "      <td>0</td>\n",
       "      <td>0</td>\n",
       "      <td>0</td>\n",
       "      <td>0</td>\n",
       "      <td>0</td>\n",
       "      <td>0</td>\n",
       "      <td>0</td>\n",
       "    </tr>\n",
       "    <tr>\n",
       "      <th>1</th>\n",
       "      <td>0</td>\n",
       "      <td>0.000205</td>\n",
       "      <td>1</td>\n",
       "      <td>0</td>\n",
       "      <td>1</td>\n",
       "      <td>0</td>\n",
       "      <td>0</td>\n",
       "      <td>0</td>\n",
       "      <td>0</td>\n",
       "      <td>0</td>\n",
       "      <td>0</td>\n",
       "      <td>0</td>\n",
       "      <td>0</td>\n",
       "      <td>0</td>\n",
       "      <td>0</td>\n",
       "    </tr>\n",
       "    <tr>\n",
       "      <th>2</th>\n",
       "      <td>0</td>\n",
       "      <td>0.638742</td>\n",
       "      <td>2</td>\n",
       "      <td>1</td>\n",
       "      <td>1</td>\n",
       "      <td>1</td>\n",
       "      <td>1</td>\n",
       "      <td>1</td>\n",
       "      <td>1</td>\n",
       "      <td>1</td>\n",
       "      <td>1</td>\n",
       "      <td>0</td>\n",
       "      <td>0</td>\n",
       "      <td>0</td>\n",
       "      <td>1</td>\n",
       "    </tr>\n",
       "    <tr>\n",
       "      <th>3</th>\n",
       "      <td>0</td>\n",
       "      <td>0.019094</td>\n",
       "      <td>3</td>\n",
       "      <td>0</td>\n",
       "      <td>1</td>\n",
       "      <td>0</td>\n",
       "      <td>0</td>\n",
       "      <td>0</td>\n",
       "      <td>0</td>\n",
       "      <td>0</td>\n",
       "      <td>0</td>\n",
       "      <td>0</td>\n",
       "      <td>0</td>\n",
       "      <td>0</td>\n",
       "      <td>0</td>\n",
       "    </tr>\n",
       "    <tr>\n",
       "      <th>4</th>\n",
       "      <td>0</td>\n",
       "      <td>0.135509</td>\n",
       "      <td>4</td>\n",
       "      <td>0</td>\n",
       "      <td>1</td>\n",
       "      <td>1</td>\n",
       "      <td>0</td>\n",
       "      <td>0</td>\n",
       "      <td>0</td>\n",
       "      <td>0</td>\n",
       "      <td>0</td>\n",
       "      <td>0</td>\n",
       "      <td>0</td>\n",
       "      <td>0</td>\n",
       "      <td>0</td>\n",
       "    </tr>\n",
       "  </tbody>\n",
       "</table>\n",
       "</div>"
      ],
      "text/plain": [
       "   converted  conversion_prob  Prospect ID  Predicted  0.0  0.1  0.2  0.3  \\\n",
       "0          0         0.024773            0          0    1    0    0    0   \n",
       "1          0         0.000205            1          0    1    0    0    0   \n",
       "2          0         0.638742            2          1    1    1    1    1   \n",
       "3          0         0.019094            3          0    1    0    0    0   \n",
       "4          0         0.135509            4          0    1    1    0    0   \n",
       "\n",
       "   0.4  0.5  0.6  0.7  0.8  0.9  final_predicted  \n",
       "0    0    0    0    0    0    0                0  \n",
       "1    0    0    0    0    0    0                0  \n",
       "2    1    1    1    0    0    0                1  \n",
       "3    0    0    0    0    0    0                0  \n",
       "4    0    0    0    0    0    0                0  "
      ]
     },
     "execution_count": 151,
     "metadata": {},
     "output_type": "execute_result"
    }
   ],
   "source": [
    "# lets add final predictions into the dataframe\n",
    "y_train_pred_final['final_predicted'] = y_train_pred_final.conversion_prob.map( lambda x: 1 if x > 0.5 else 0)\n",
    "\n",
    "y_train_pred_final.head()"
   ]
  },
  {
   "cell_type": "code",
   "execution_count": 152,
   "id": "91adb279",
   "metadata": {},
   "outputs": [
    {
     "name": "stdout",
     "output_type": "stream",
     "text": [
      "[[15450  4511]\n",
      " [ 2448 17513]]\n"
     ]
    }
   ],
   "source": [
    "from sklearn import metrics\n",
    "\n",
    "# Confusion matrix \n",
    "confusion = metrics.confusion_matrix(y_train_pred_final.converted, y_train_pred_final.Predicted)\n",
    "print(confusion)"
   ]
  },
  {
   "cell_type": "code",
   "execution_count": 153,
   "id": "71e2c42e",
   "metadata": {},
   "outputs": [
    {
     "name": "stdout",
     "output_type": "stream",
     "text": [
      "Accuracy:  0.8256850859175392\n",
      "Sensitivity: 0.8773608536646461\n",
      "Specificity: 0.7740093181704324\n"
     ]
    }
   ],
   "source": [
    "TP = confusion[1,1] # true positive \n",
    "TN = confusion[0,0] # true negatives\n",
    "FP = confusion[0,1] # false positives\n",
    "FN = confusion[1,0] # false negatives\n",
    "\n",
    "# Let's check the overall accuracy.\n",
    "print(\"Accuracy: \" , metrics.accuracy_score(y_train_pred_final.converted, y_train_pred_final.Predicted))\n",
    "\n",
    "# Sensitivity\n",
    "print(\"Sensitivity:\",TP / float(TP+FN))\n",
    "\n",
    "# Specificity\n",
    "print(\"Specificity:\", TN / float(TN+FP))\n"
   ]
  },
  {
   "cell_type": "code",
   "execution_count": 154,
   "id": "0d6189d3",
   "metadata": {},
   "outputs": [],
   "source": [
    "# ROC function\n",
    "\n",
    "def draw_roc( actual, probs ):\n",
    "    fpr, tpr, thresholds = metrics.roc_curve( actual, probs,\n",
    "                                              drop_intermediate = False )\n",
    "    auc_score = metrics.roc_auc_score( actual, probs )\n",
    "    plt.figure(figsize=(5, 5))\n",
    "    plt.plot( fpr, tpr, label='ROC curve (area = %0.2f)' % auc_score )\n",
    "    plt.plot([0, 1], [0, 1], 'k--')\n",
    "    plt.xlim([0.0, 1.0])\n",
    "    plt.ylim([0.0, 1.05])\n",
    "    plt.xlabel('False Positive Rate or [1 - True Negative Rate]')\n",
    "    plt.ylabel('True Positive Rate')\n",
    "    plt.title('Receiver operating characteristic example')\n",
    "    plt.legend(loc=\"lower right\")\n",
    "    plt.show()\n",
    "\n",
    "    return None"
   ]
  },
  {
   "cell_type": "code",
   "execution_count": 155,
   "id": "df7106ac",
   "metadata": {},
   "outputs": [],
   "source": [
    "fpr, tpr, thresholds = metrics.roc_curve(y_train_pred_final.converted, y_train_pred_final.conversion_prob, \n",
    "                                         drop_intermediate=False)"
   ]
  },
  {
   "cell_type": "code",
   "execution_count": 156,
   "id": "fb59bc4d",
   "metadata": {},
   "outputs": [
    {
     "data": {
      "image/png": "[encoded data removed]",
      "text/plain": [
       "<Figure size 500x500 with 1 Axes>"
      ]
     },
     "metadata": {},
     "output_type": "display_data"
    }
   ],
   "source": [
    "# Calling the ROC function\n",
    "draw_roc(y_train_pred_final.converted, y_train_pred_final.conversion_prob)"
   ]
  },
  {
   "cell_type": "markdown",
   "id": "9c6cf1de",
   "metadata": {},
   "source": [
    "### Making predictions on Test dataset"
   ]
  },
  {
   "cell_type": "code",
   "execution_count": 157,
   "id": "0cfca541",
   "metadata": {},
   "outputs": [
    {
     "data": {
      "text/html": [
       "<div>\n",
       "<style scoped>\n",
       "    .dataframe tbody tr th:only-of-type {\n",
       "        vertical-align: middle;\n",
       "    }\n",
       "\n",
       "    .dataframe tbody tr th {\n",
       "        vertical-align: top;\n",
       "    }\n",
       "\n",
       "    .dataframe thead th {\n",
       "        text-align: right;\n",
       "    }\n",
       "</style>\n",
       "<table border=\"1\" class=\"dataframe\">\n",
       "  <thead>\n",
       "    <tr style=\"text-align: right;\">\n",
       "      <th></th>\n",
       "      <th>onnet_mou_6</th>\n",
       "      <th>onnet_mou_7</th>\n",
       "      <th>onnet_mou_8</th>\n",
       "      <th>offnet_mou_6</th>\n",
       "      <th>offnet_mou_7</th>\n",
       "      <th>offnet_mou_8</th>\n",
       "      <th>roam_ic_mou_6</th>\n",
       "      <th>roam_ic_mou_7</th>\n",
       "      <th>roam_ic_mou_8</th>\n",
       "      <th>roam_og_mou_6</th>\n",
       "      <th>...</th>\n",
       "      <th>aon</th>\n",
       "      <th>sep_vbc_3g</th>\n",
       "      <th>arpu_diff</th>\n",
       "      <th>total_og_mou_diff</th>\n",
       "      <th>total_ic_mou_diff</th>\n",
       "      <th>total_rech_num_diff</th>\n",
       "      <th>total_rech_amt_diff</th>\n",
       "      <th>vol_2g_mb_diff</th>\n",
       "      <th>vol_3g_mb_diff</th>\n",
       "      <th>vbc_3g_diff</th>\n",
       "    </tr>\n",
       "  </thead>\n",
       "  <tbody>\n",
       "    <tr>\n",
       "      <th>37239</th>\n",
       "      <td>-0.522188</td>\n",
       "      <td>-0.444457</td>\n",
       "      <td>-0.407970</td>\n",
       "      <td>-0.123268</td>\n",
       "      <td>0.225971</td>\n",
       "      <td>0.933392</td>\n",
       "      <td>-0.234418</td>\n",
       "      <td>-0.221689</td>\n",
       "      <td>-0.233400</td>\n",
       "      <td>-0.251859</td>\n",
       "      <td>...</td>\n",
       "      <td>2.339509</td>\n",
       "      <td>-0.114808</td>\n",
       "      <td>0.704106</td>\n",
       "      <td>0.731315</td>\n",
       "      <td>-0.125170</td>\n",
       "      <td>-0.037207</td>\n",
       "      <td>0.599786</td>\n",
       "      <td>0.542207</td>\n",
       "      <td>0.089366</td>\n",
       "      <td>0.044325</td>\n",
       "    </tr>\n",
       "    <tr>\n",
       "      <th>44745</th>\n",
       "      <td>0.531122</td>\n",
       "      <td>0.508241</td>\n",
       "      <td>0.332627</td>\n",
       "      <td>-0.035309</td>\n",
       "      <td>-0.221564</td>\n",
       "      <td>-0.243663</td>\n",
       "      <td>-0.234418</td>\n",
       "      <td>-0.221689</td>\n",
       "      <td>-0.233400</td>\n",
       "      <td>-0.251859</td>\n",
       "      <td>...</td>\n",
       "      <td>-0.821561</td>\n",
       "      <td>-0.114808</td>\n",
       "      <td>-0.332138</td>\n",
       "      <td>-0.260889</td>\n",
       "      <td>-0.286856</td>\n",
       "      <td>0.821368</td>\n",
       "      <td>-0.268365</td>\n",
       "      <td>0.160960</td>\n",
       "      <td>-0.350304</td>\n",
       "      <td>0.033814</td>\n",
       "    </tr>\n",
       "    <tr>\n",
       "      <th>83220</th>\n",
       "      <td>0.408660</td>\n",
       "      <td>0.065381</td>\n",
       "      <td>0.409749</td>\n",
       "      <td>-0.361046</td>\n",
       "      <td>-0.287977</td>\n",
       "      <td>0.335560</td>\n",
       "      <td>-0.234418</td>\n",
       "      <td>-0.221689</td>\n",
       "      <td>-0.233400</td>\n",
       "      <td>-0.251859</td>\n",
       "      <td>...</td>\n",
       "      <td>0.584126</td>\n",
       "      <td>-0.114808</td>\n",
       "      <td>0.769357</td>\n",
       "      <td>0.598882</td>\n",
       "      <td>1.257734</td>\n",
       "      <td>0.226970</td>\n",
       "      <td>1.215703</td>\n",
       "      <td>0.714873</td>\n",
       "      <td>0.009989</td>\n",
       "      <td>0.917367</td>\n",
       "    </tr>\n",
       "    <tr>\n",
       "      <th>24183</th>\n",
       "      <td>-0.350958</td>\n",
       "      <td>-0.539630</td>\n",
       "      <td>-0.458896</td>\n",
       "      <td>-0.547854</td>\n",
       "      <td>-0.637672</td>\n",
       "      <td>-0.515963</td>\n",
       "      <td>-0.234418</td>\n",
       "      <td>-0.221689</td>\n",
       "      <td>-0.230291</td>\n",
       "      <td>-0.251859</td>\n",
       "      <td>...</td>\n",
       "      <td>-0.294716</td>\n",
       "      <td>-0.114808</td>\n",
       "      <td>-0.255847</td>\n",
       "      <td>0.248257</td>\n",
       "      <td>-0.738917</td>\n",
       "      <td>-0.169295</td>\n",
       "      <td>-0.261326</td>\n",
       "      <td>0.052096</td>\n",
       "      <td>0.089366</td>\n",
       "      <td>0.044325</td>\n",
       "    </tr>\n",
       "    <tr>\n",
       "      <th>67148</th>\n",
       "      <td>-0.612232</td>\n",
       "      <td>-0.583787</td>\n",
       "      <td>-0.462769</td>\n",
       "      <td>-0.633964</td>\n",
       "      <td>-0.640424</td>\n",
       "      <td>-0.508202</td>\n",
       "      <td>-0.234418</td>\n",
       "      <td>-0.221689</td>\n",
       "      <td>-0.233400</td>\n",
       "      <td>-0.251859</td>\n",
       "      <td>...</td>\n",
       "      <td>-0.676621</td>\n",
       "      <td>-0.114808</td>\n",
       "      <td>0.091794</td>\n",
       "      <td>0.447080</td>\n",
       "      <td>-0.857283</td>\n",
       "      <td>-1.093913</td>\n",
       "      <td>0.137554</td>\n",
       "      <td>0.144011</td>\n",
       "      <td>-0.566674</td>\n",
       "      <td>-0.873604</td>\n",
       "    </tr>\n",
       "  </tbody>\n",
       "</table>\n",
       "<p>5 rows × 109 columns</p>\n",
       "</div>"
      ],
      "text/plain": [
       "       onnet_mou_6  onnet_mou_7  onnet_mou_8  offnet_mou_6  offnet_mou_7  \\\n",
       "37239    -0.522188    -0.444457    -0.407970     -0.123268      0.225971   \n",
       "44745     0.531122     0.508241     0.332627     -0.035309     -0.221564   \n",
       "83220     0.408660     0.065381     0.409749     -0.361046     -0.287977   \n",
       "24183    -0.350958    -0.539630    -0.458896     -0.547854     -0.637672   \n",
       "67148    -0.612232    -0.583787    -0.462769     -0.633964     -0.640424   \n",
       "\n",
       "       offnet_mou_8  roam_ic_mou_6  roam_ic_mou_7  roam_ic_mou_8  \\\n",
       "37239      0.933392      -0.234418      -0.221689      -0.233400   \n",
       "44745     -0.243663      -0.234418      -0.221689      -0.233400   \n",
       "83220      0.335560      -0.234418      -0.221689      -0.233400   \n",
       "24183     -0.515963      -0.234418      -0.221689      -0.230291   \n",
       "67148     -0.508202      -0.234418      -0.221689      -0.233400   \n",
       "\n",
       "       roam_og_mou_6  ...       aon  sep_vbc_3g  arpu_diff  total_og_mou_diff  \\\n",
       "37239      -0.251859  ...  2.339509   -0.114808   0.704106           0.731315   \n",
       "44745      -0.251859  ... -0.821561   -0.114808  -0.332138          -0.260889   \n",
       "83220      -0.251859  ...  0.584126   -0.114808   0.769357           0.598882   \n",
       "24183      -0.251859  ... -0.294716   -0.114808  -0.255847           0.248257   \n",
       "67148      -0.251859  ... -0.676621   -0.114808   0.091794           0.447080   \n",
       "\n",
       "       total_ic_mou_diff  total_rech_num_diff  total_rech_amt_diff  \\\n",
       "37239          -0.125170            -0.037207             0.599786   \n",
       "44745          -0.286856             0.821368            -0.268365   \n",
       "83220           1.257734             0.226970             1.215703   \n",
       "24183          -0.738917            -0.169295            -0.261326   \n",
       "67148          -0.857283            -1.093913             0.137554   \n",
       "\n",
       "       vol_2g_mb_diff  vol_3g_mb_diff  vbc_3g_diff  \n",
       "37239        0.542207        0.089366     0.044325  \n",
       "44745        0.160960       -0.350304     0.033814  \n",
       "83220        0.714873        0.009989     0.917367  \n",
       "24183        0.052096        0.089366     0.044325  \n",
       "67148        0.144011       -0.566674    -0.873604  \n",
       "\n",
       "[5 rows x 109 columns]"
      ]
     },
     "execution_count": 157,
     "metadata": {},
     "output_type": "execute_result"
    }
   ],
   "source": [
    "# List of the numeric columns\n",
    "cols_scale = X_train.columns.to_list()\n",
    "\n",
    "# Transform the test set\n",
    "X_test[cols_scale] = scaler.transform(X_test[cols_scale])\n",
    "X_test.head()"
   ]
  },
  {
   "cell_type": "code",
   "execution_count": 158,
   "id": "b6eef7e0",
   "metadata": {},
   "outputs": [
    {
     "data": {
      "text/html": [
       "<div>\n",
       "<style scoped>\n",
       "    .dataframe tbody tr th:only-of-type {\n",
       "        vertical-align: middle;\n",
       "    }\n",
       "\n",
       "    .dataframe tbody tr th {\n",
       "        vertical-align: top;\n",
       "    }\n",
       "\n",
       "    .dataframe thead th {\n",
       "        text-align: right;\n",
       "    }\n",
       "</style>\n",
       "<table border=\"1\" class=\"dataframe\">\n",
       "  <thead>\n",
       "    <tr style=\"text-align: right;\">\n",
       "      <th></th>\n",
       "      <th>onnet_mou_7</th>\n",
       "      <th>onnet_mou_8</th>\n",
       "      <th>loc_og_t2t_mou_8</th>\n",
       "      <th>loc_og_mou_8</th>\n",
       "      <th>std_og_t2t_mou_7</th>\n",
       "      <th>std_og_t2t_mou_8</th>\n",
       "      <th>og_others_8</th>\n",
       "      <th>loc_ic_t2t_mou_8</th>\n",
       "      <th>loc_ic_t2m_mou_7</th>\n",
       "      <th>loc_ic_t2m_mou_8</th>\n",
       "      <th>monthly_2g_6</th>\n",
       "      <th>monthly_2g_7</th>\n",
       "      <th>monthly_2g_8</th>\n",
       "      <th>sachet_2g_8</th>\n",
       "      <th>monthly_3g_6</th>\n",
       "      <th>monthly_3g_8</th>\n",
       "      <th>sep_vbc_3g</th>\n",
       "      <th>total_og_mou_diff</th>\n",
       "      <th>vol_2g_mb_diff</th>\n",
       "      <th>vol_3g_mb_diff</th>\n",
       "    </tr>\n",
       "  </thead>\n",
       "  <tbody>\n",
       "    <tr>\n",
       "      <th>37239</th>\n",
       "      <td>-0.444457</td>\n",
       "      <td>-0.407970</td>\n",
       "      <td>-0.139496</td>\n",
       "      <td>1.787978</td>\n",
       "      <td>-0.464618</td>\n",
       "      <td>-0.354718</td>\n",
       "      <td>-0.013343</td>\n",
       "      <td>0.065651</td>\n",
       "      <td>1.489715</td>\n",
       "      <td>1.551956</td>\n",
       "      <td>2.670337</td>\n",
       "      <td>2.541101</td>\n",
       "      <td>2.945796</td>\n",
       "      <td>-0.345581</td>\n",
       "      <td>-0.277950</td>\n",
       "      <td>-0.246299</td>\n",
       "      <td>-0.114808</td>\n",
       "      <td>0.731315</td>\n",
       "      <td>0.542207</td>\n",
       "      <td>0.089366</td>\n",
       "    </tr>\n",
       "    <tr>\n",
       "      <th>44745</th>\n",
       "      <td>0.508241</td>\n",
       "      <td>0.332627</td>\n",
       "      <td>0.081859</td>\n",
       "      <td>0.199272</td>\n",
       "      <td>0.313871</td>\n",
       "      <td>0.380657</td>\n",
       "      <td>-0.013343</td>\n",
       "      <td>0.343936</td>\n",
       "      <td>0.550381</td>\n",
       "      <td>0.411814</td>\n",
       "      <td>2.670337</td>\n",
       "      <td>-0.301156</td>\n",
       "      <td>-0.273885</td>\n",
       "      <td>0.153092</td>\n",
       "      <td>-0.277950</td>\n",
       "      <td>-0.246299</td>\n",
       "      <td>-0.114808</td>\n",
       "      <td>-0.260889</td>\n",
       "      <td>0.160960</td>\n",
       "      <td>-0.350304</td>\n",
       "    </tr>\n",
       "    <tr>\n",
       "      <th>83220</th>\n",
       "      <td>0.065381</td>\n",
       "      <td>0.409749</td>\n",
       "      <td>0.062477</td>\n",
       "      <td>0.123895</td>\n",
       "      <td>0.092825</td>\n",
       "      <td>0.478411</td>\n",
       "      <td>-0.013343</td>\n",
       "      <td>0.017318</td>\n",
       "      <td>-0.323472</td>\n",
       "      <td>-0.057178</td>\n",
       "      <td>-0.296853</td>\n",
       "      <td>-0.301156</td>\n",
       "      <td>-0.273885</td>\n",
       "      <td>-0.345581</td>\n",
       "      <td>1.808611</td>\n",
       "      <td>1.874202</td>\n",
       "      <td>-0.114808</td>\n",
       "      <td>0.598882</td>\n",
       "      <td>0.714873</td>\n",
       "      <td>0.009989</td>\n",
       "    </tr>\n",
       "    <tr>\n",
       "      <th>24183</th>\n",
       "      <td>-0.539630</td>\n",
       "      <td>-0.458896</td>\n",
       "      <td>-0.256065</td>\n",
       "      <td>-0.331561</td>\n",
       "      <td>-0.464618</td>\n",
       "      <td>-0.354718</td>\n",
       "      <td>-0.013343</td>\n",
       "      <td>0.156655</td>\n",
       "      <td>1.150443</td>\n",
       "      <td>0.624219</td>\n",
       "      <td>2.670337</td>\n",
       "      <td>-0.301156</td>\n",
       "      <td>-0.273885</td>\n",
       "      <td>-0.345581</td>\n",
       "      <td>-0.277950</td>\n",
       "      <td>-0.246299</td>\n",
       "      <td>-0.114808</td>\n",
       "      <td>0.248257</td>\n",
       "      <td>0.052096</td>\n",
       "      <td>0.089366</td>\n",
       "    </tr>\n",
       "    <tr>\n",
       "      <th>67148</th>\n",
       "      <td>-0.583787</td>\n",
       "      <td>-0.462769</td>\n",
       "      <td>-0.264930</td>\n",
       "      <td>-0.325906</td>\n",
       "      <td>-0.464287</td>\n",
       "      <td>-0.354718</td>\n",
       "      <td>-0.013343</td>\n",
       "      <td>-0.226676</td>\n",
       "      <td>0.440679</td>\n",
       "      <td>0.459749</td>\n",
       "      <td>-0.296853</td>\n",
       "      <td>-0.301156</td>\n",
       "      <td>-0.273885</td>\n",
       "      <td>1.649109</td>\n",
       "      <td>-0.277950</td>\n",
       "      <td>-0.246299</td>\n",
       "      <td>-0.114808</td>\n",
       "      <td>0.447080</td>\n",
       "      <td>0.144011</td>\n",
       "      <td>-0.566674</td>\n",
       "    </tr>\n",
       "  </tbody>\n",
       "</table>\n",
       "</div>"
      ],
      "text/plain": [
       "       onnet_mou_7  onnet_mou_8  loc_og_t2t_mou_8  loc_og_mou_8  \\\n",
       "37239    -0.444457    -0.407970         -0.139496      1.787978   \n",
       "44745     0.508241     0.332627          0.081859      0.199272   \n",
       "83220     0.065381     0.409749          0.062477      0.123895   \n",
       "24183    -0.539630    -0.458896         -0.256065     -0.331561   \n",
       "67148    -0.583787    -0.462769         -0.264930     -0.325906   \n",
       "\n",
       "       std_og_t2t_mou_7  std_og_t2t_mou_8  og_others_8  loc_ic_t2t_mou_8  \\\n",
       "37239         -0.464618         -0.354718    -0.013343          0.065651   \n",
       "44745          0.313871          0.380657    -0.013343          0.343936   \n",
       "83220          0.092825          0.478411    -0.013343          0.017318   \n",
       "24183         -0.464618         -0.354718    -0.013343          0.156655   \n",
       "67148         -0.464287         -0.354718    -0.013343         -0.226676   \n",
       "\n",
       "       loc_ic_t2m_mou_7  loc_ic_t2m_mou_8  monthly_2g_6  monthly_2g_7  \\\n",
       "37239          1.489715          1.551956      2.670337      2.541101   \n",
       "44745          0.550381          0.411814      2.670337     -0.301156   \n",
       "83220         -0.323472         -0.057178     -0.296853     -0.301156   \n",
       "24183          1.150443          0.624219      2.670337     -0.301156   \n",
       "67148          0.440679          0.459749     -0.296853     -0.301156   \n",
       "\n",
       "       monthly_2g_8  sachet_2g_8  monthly_3g_6  monthly_3g_8  sep_vbc_3g  \\\n",
       "37239      2.945796    -0.345581     -0.277950     -0.246299   -0.114808   \n",
       "44745     -0.273885     0.153092     -0.277950     -0.246299   -0.114808   \n",
       "83220     -0.273885    -0.345581      1.808611      1.874202   -0.114808   \n",
       "24183     -0.273885    -0.345581     -0.277950     -0.246299   -0.114808   \n",
       "67148     -0.273885     1.649109     -0.277950     -0.246299   -0.114808   \n",
       "\n",
       "       total_og_mou_diff  vol_2g_mb_diff  vol_3g_mb_diff  \n",
       "37239           0.731315        0.542207        0.089366  \n",
       "44745          -0.260889        0.160960       -0.350304  \n",
       "83220           0.598882        0.714873        0.009989  \n",
       "24183           0.248257        0.052096        0.089366  \n",
       "67148           0.447080        0.144011       -0.566674  "
      ]
     },
     "execution_count": 158,
     "metadata": {},
     "output_type": "execute_result"
    }
   ],
   "source": [
    "# Selecting the columns in X_train for X_test as well\n",
    "X_test = X_test[cols]\n",
    "X_test.head()"
   ]
  },
  {
   "cell_type": "code",
   "execution_count": 159,
   "id": "2b85de85",
   "metadata": {},
   "outputs": [
    {
     "data": {
      "text/html": [
       "<div>\n",
       "<style scoped>\n",
       "    .dataframe tbody tr th:only-of-type {\n",
       "        vertical-align: middle;\n",
       "    }\n",
       "\n",
       "    .dataframe tbody tr th {\n",
       "        vertical-align: top;\n",
       "    }\n",
       "\n",
       "    .dataframe thead th {\n",
       "        text-align: right;\n",
       "    }\n",
       "</style>\n",
       "<table border=\"1\" class=\"dataframe\">\n",
       "  <thead>\n",
       "    <tr style=\"text-align: right;\">\n",
       "      <th></th>\n",
       "      <th>const</th>\n",
       "      <th>onnet_mou_7</th>\n",
       "      <th>onnet_mou_8</th>\n",
       "      <th>loc_og_t2t_mou_8</th>\n",
       "      <th>loc_og_mou_8</th>\n",
       "      <th>std_og_t2t_mou_7</th>\n",
       "      <th>std_og_t2t_mou_8</th>\n",
       "      <th>og_others_8</th>\n",
       "      <th>loc_ic_t2t_mou_8</th>\n",
       "      <th>loc_ic_t2m_mou_7</th>\n",
       "      <th>...</th>\n",
       "      <th>monthly_2g_6</th>\n",
       "      <th>monthly_2g_7</th>\n",
       "      <th>monthly_2g_8</th>\n",
       "      <th>sachet_2g_8</th>\n",
       "      <th>monthly_3g_6</th>\n",
       "      <th>monthly_3g_8</th>\n",
       "      <th>sep_vbc_3g</th>\n",
       "      <th>total_og_mou_diff</th>\n",
       "      <th>vol_2g_mb_diff</th>\n",
       "      <th>vol_3g_mb_diff</th>\n",
       "    </tr>\n",
       "  </thead>\n",
       "  <tbody>\n",
       "    <tr>\n",
       "      <th>37239</th>\n",
       "      <td>1.0</td>\n",
       "      <td>-0.444457</td>\n",
       "      <td>-0.407970</td>\n",
       "      <td>-0.139496</td>\n",
       "      <td>1.787978</td>\n",
       "      <td>-0.464618</td>\n",
       "      <td>-0.354718</td>\n",
       "      <td>-0.013343</td>\n",
       "      <td>0.065651</td>\n",
       "      <td>1.489715</td>\n",
       "      <td>...</td>\n",
       "      <td>2.670337</td>\n",
       "      <td>2.541101</td>\n",
       "      <td>2.945796</td>\n",
       "      <td>-0.345581</td>\n",
       "      <td>-0.277950</td>\n",
       "      <td>-0.246299</td>\n",
       "      <td>-0.114808</td>\n",
       "      <td>0.731315</td>\n",
       "      <td>0.542207</td>\n",
       "      <td>0.089366</td>\n",
       "    </tr>\n",
       "    <tr>\n",
       "      <th>44745</th>\n",
       "      <td>1.0</td>\n",
       "      <td>0.508241</td>\n",
       "      <td>0.332627</td>\n",
       "      <td>0.081859</td>\n",
       "      <td>0.199272</td>\n",
       "      <td>0.313871</td>\n",
       "      <td>0.380657</td>\n",
       "      <td>-0.013343</td>\n",
       "      <td>0.343936</td>\n",
       "      <td>0.550381</td>\n",
       "      <td>...</td>\n",
       "      <td>2.670337</td>\n",
       "      <td>-0.301156</td>\n",
       "      <td>-0.273885</td>\n",
       "      <td>0.153092</td>\n",
       "      <td>-0.277950</td>\n",
       "      <td>-0.246299</td>\n",
       "      <td>-0.114808</td>\n",
       "      <td>-0.260889</td>\n",
       "      <td>0.160960</td>\n",
       "      <td>-0.350304</td>\n",
       "    </tr>\n",
       "    <tr>\n",
       "      <th>83220</th>\n",
       "      <td>1.0</td>\n",
       "      <td>0.065381</td>\n",
       "      <td>0.409749</td>\n",
       "      <td>0.062477</td>\n",
       "      <td>0.123895</td>\n",
       "      <td>0.092825</td>\n",
       "      <td>0.478411</td>\n",
       "      <td>-0.013343</td>\n",
       "      <td>0.017318</td>\n",
       "      <td>-0.323472</td>\n",
       "      <td>...</td>\n",
       "      <td>-0.296853</td>\n",
       "      <td>-0.301156</td>\n",
       "      <td>-0.273885</td>\n",
       "      <td>-0.345581</td>\n",
       "      <td>1.808611</td>\n",
       "      <td>1.874202</td>\n",
       "      <td>-0.114808</td>\n",
       "      <td>0.598882</td>\n",
       "      <td>0.714873</td>\n",
       "      <td>0.009989</td>\n",
       "    </tr>\n",
       "    <tr>\n",
       "      <th>24183</th>\n",
       "      <td>1.0</td>\n",
       "      <td>-0.539630</td>\n",
       "      <td>-0.458896</td>\n",
       "      <td>-0.256065</td>\n",
       "      <td>-0.331561</td>\n",
       "      <td>-0.464618</td>\n",
       "      <td>-0.354718</td>\n",
       "      <td>-0.013343</td>\n",
       "      <td>0.156655</td>\n",
       "      <td>1.150443</td>\n",
       "      <td>...</td>\n",
       "      <td>2.670337</td>\n",
       "      <td>-0.301156</td>\n",
       "      <td>-0.273885</td>\n",
       "      <td>-0.345581</td>\n",
       "      <td>-0.277950</td>\n",
       "      <td>-0.246299</td>\n",
       "      <td>-0.114808</td>\n",
       "      <td>0.248257</td>\n",
       "      <td>0.052096</td>\n",
       "      <td>0.089366</td>\n",
       "    </tr>\n",
       "    <tr>\n",
       "      <th>67148</th>\n",
       "      <td>1.0</td>\n",
       "      <td>-0.583787</td>\n",
       "      <td>-0.462769</td>\n",
       "      <td>-0.264930</td>\n",
       "      <td>-0.325906</td>\n",
       "      <td>-0.464287</td>\n",
       "      <td>-0.354718</td>\n",
       "      <td>-0.013343</td>\n",
       "      <td>-0.226676</td>\n",
       "      <td>0.440679</td>\n",
       "      <td>...</td>\n",
       "      <td>-0.296853</td>\n",
       "      <td>-0.301156</td>\n",
       "      <td>-0.273885</td>\n",
       "      <td>1.649109</td>\n",
       "      <td>-0.277950</td>\n",
       "      <td>-0.246299</td>\n",
       "      <td>-0.114808</td>\n",
       "      <td>0.447080</td>\n",
       "      <td>0.144011</td>\n",
       "      <td>-0.566674</td>\n",
       "    </tr>\n",
       "    <tr>\n",
       "      <th>...</th>\n",
       "      <td>...</td>\n",
       "      <td>...</td>\n",
       "      <td>...</td>\n",
       "      <td>...</td>\n",
       "      <td>...</td>\n",
       "      <td>...</td>\n",
       "      <td>...</td>\n",
       "      <td>...</td>\n",
       "      <td>...</td>\n",
       "      <td>...</td>\n",
       "      <td>...</td>\n",
       "      <td>...</td>\n",
       "      <td>...</td>\n",
       "      <td>...</td>\n",
       "      <td>...</td>\n",
       "      <td>...</td>\n",
       "      <td>...</td>\n",
       "      <td>...</td>\n",
       "      <td>...</td>\n",
       "      <td>...</td>\n",
       "      <td>...</td>\n",
       "    </tr>\n",
       "    <tr>\n",
       "      <th>49770</th>\n",
       "      <td>1.0</td>\n",
       "      <td>0.183415</td>\n",
       "      <td>0.598032</td>\n",
       "      <td>2.059297</td>\n",
       "      <td>2.239875</td>\n",
       "      <td>-0.464080</td>\n",
       "      <td>-0.302847</td>\n",
       "      <td>-0.013343</td>\n",
       "      <td>1.666159</td>\n",
       "      <td>-0.645768</td>\n",
       "      <td>...</td>\n",
       "      <td>-0.296853</td>\n",
       "      <td>-0.301156</td>\n",
       "      <td>-0.273885</td>\n",
       "      <td>-0.345581</td>\n",
       "      <td>-0.277950</td>\n",
       "      <td>-0.246299</td>\n",
       "      <td>-0.114808</td>\n",
       "      <td>0.739503</td>\n",
       "      <td>0.173549</td>\n",
       "      <td>0.089366</td>\n",
       "    </tr>\n",
       "    <tr>\n",
       "      <th>28927</th>\n",
       "      <td>1.0</td>\n",
       "      <td>-0.594087</td>\n",
       "      <td>-0.473786</td>\n",
       "      <td>-0.290149</td>\n",
       "      <td>-0.537002</td>\n",
       "      <td>-0.464618</td>\n",
       "      <td>-0.354718</td>\n",
       "      <td>-0.013343</td>\n",
       "      <td>-0.330480</td>\n",
       "      <td>-0.625747</td>\n",
       "      <td>...</td>\n",
       "      <td>-0.296853</td>\n",
       "      <td>-0.301156</td>\n",
       "      <td>-0.273885</td>\n",
       "      <td>-0.345581</td>\n",
       "      <td>1.808611</td>\n",
       "      <td>1.874202</td>\n",
       "      <td>-0.114808</td>\n",
       "      <td>0.446766</td>\n",
       "      <td>0.278726</td>\n",
       "      <td>0.764935</td>\n",
       "    </tr>\n",
       "    <tr>\n",
       "      <th>54528</th>\n",
       "      <td>1.0</td>\n",
       "      <td>-0.565989</td>\n",
       "      <td>-0.455432</td>\n",
       "      <td>-0.264600</td>\n",
       "      <td>-0.417450</td>\n",
       "      <td>-0.462033</td>\n",
       "      <td>-0.346531</td>\n",
       "      <td>-0.013343</td>\n",
       "      <td>-0.296111</td>\n",
       "      <td>-0.487716</td>\n",
       "      <td>...</td>\n",
       "      <td>-0.296853</td>\n",
       "      <td>-0.301156</td>\n",
       "      <td>-0.273885</td>\n",
       "      <td>-0.345581</td>\n",
       "      <td>-0.277950</td>\n",
       "      <td>-0.246299</td>\n",
       "      <td>-0.114808</td>\n",
       "      <td>0.248854</td>\n",
       "      <td>0.173549</td>\n",
       "      <td>0.089366</td>\n",
       "    </tr>\n",
       "    <tr>\n",
       "      <th>66821</th>\n",
       "      <td>1.0</td>\n",
       "      <td>-0.571303</td>\n",
       "      <td>-0.459016</td>\n",
       "      <td>-0.256340</td>\n",
       "      <td>-0.241814</td>\n",
       "      <td>-0.464618</td>\n",
       "      <td>-0.354718</td>\n",
       "      <td>-0.013343</td>\n",
       "      <td>-0.311550</td>\n",
       "      <td>0.048928</td>\n",
       "      <td>...</td>\n",
       "      <td>2.670337</td>\n",
       "      <td>2.541101</td>\n",
       "      <td>2.945796</td>\n",
       "      <td>-0.345581</td>\n",
       "      <td>-0.277950</td>\n",
       "      <td>-0.246299</td>\n",
       "      <td>-0.114808</td>\n",
       "      <td>0.245886</td>\n",
       "      <td>0.158108</td>\n",
       "      <td>0.206887</td>\n",
       "    </tr>\n",
       "    <tr>\n",
       "      <th>93115</th>\n",
       "      <td>1.0</td>\n",
       "      <td>-0.525697</td>\n",
       "      <td>-0.403929</td>\n",
       "      <td>-0.241473</td>\n",
       "      <td>0.013457</td>\n",
       "      <td>-0.454256</td>\n",
       "      <td>-0.299248</td>\n",
       "      <td>-0.013343</td>\n",
       "      <td>-0.235520</td>\n",
       "      <td>0.224473</td>\n",
       "      <td>...</td>\n",
       "      <td>-0.296853</td>\n",
       "      <td>-0.301156</td>\n",
       "      <td>-0.273885</td>\n",
       "      <td>0.651764</td>\n",
       "      <td>-0.277950</td>\n",
       "      <td>-0.246299</td>\n",
       "      <td>-0.114808</td>\n",
       "      <td>-0.059823</td>\n",
       "      <td>0.173549</td>\n",
       "      <td>0.089366</td>\n",
       "    </tr>\n",
       "  </tbody>\n",
       "</table>\n",
       "<p>7041 rows × 21 columns</p>\n",
       "</div>"
      ],
      "text/plain": [
       "       const  onnet_mou_7  onnet_mou_8  loc_og_t2t_mou_8  loc_og_mou_8  \\\n",
       "37239    1.0    -0.444457    -0.407970         -0.139496      1.787978   \n",
       "44745    1.0     0.508241     0.332627          0.081859      0.199272   \n",
       "83220    1.0     0.065381     0.409749          0.062477      0.123895   \n",
       "24183    1.0    -0.539630    -0.458896         -0.256065     -0.331561   \n",
       "67148    1.0    -0.583787    -0.462769         -0.264930     -0.325906   \n",
       "...      ...          ...          ...               ...           ...   \n",
       "49770    1.0     0.183415     0.598032          2.059297      2.239875   \n",
       "28927    1.0    -0.594087    -0.473786         -0.290149     -0.537002   \n",
       "54528    1.0    -0.565989    -0.455432         -0.264600     -0.417450   \n",
       "66821    1.0    -0.571303    -0.459016         -0.256340     -0.241814   \n",
       "93115    1.0    -0.525697    -0.403929         -0.241473      0.013457   \n",
       "\n",
       "       std_og_t2t_mou_7  std_og_t2t_mou_8  og_others_8  loc_ic_t2t_mou_8  \\\n",
       "37239         -0.464618         -0.354718    -0.013343          0.065651   \n",
       "44745          0.313871          0.380657    -0.013343          0.343936   \n",
       "83220          0.092825          0.478411    -0.013343          0.017318   \n",
       "24183         -0.464618         -0.354718    -0.013343          0.156655   \n",
       "67148         -0.464287         -0.354718    -0.013343         -0.226676   \n",
       "...                 ...               ...          ...               ...   \n",
       "49770         -0.464080         -0.302847    -0.013343          1.666159   \n",
       "28927         -0.464618         -0.354718    -0.013343         -0.330480   \n",
       "54528         -0.462033         -0.346531    -0.013343         -0.296111   \n",
       "66821         -0.464618         -0.354718    -0.013343         -0.311550   \n",
       "93115         -0.454256         -0.299248    -0.013343         -0.235520   \n",
       "\n",
       "       loc_ic_t2m_mou_7  ...  monthly_2g_6  monthly_2g_7  monthly_2g_8  \\\n",
       "37239          1.489715  ...      2.670337      2.541101      2.945796   \n",
       "44745          0.550381  ...      2.670337     -0.301156     -0.273885   \n",
       "83220         -0.323472  ...     -0.296853     -0.301156     -0.273885   \n",
       "24183          1.150443  ...      2.670337     -0.301156     -0.273885   \n",
       "67148          0.440679  ...     -0.296853     -0.301156     -0.273885   \n",
       "...                 ...  ...           ...           ...           ...   \n",
       "49770         -0.645768  ...     -0.296853     -0.301156     -0.273885   \n",
       "28927         -0.625747  ...     -0.296853     -0.301156     -0.273885   \n",
       "54528         -0.487716  ...     -0.296853     -0.301156     -0.273885   \n",
       "66821          0.048928  ...      2.670337      2.541101      2.945796   \n",
       "93115          0.224473  ...     -0.296853     -0.301156     -0.273885   \n",
       "\n",
       "       sachet_2g_8  monthly_3g_6  monthly_3g_8  sep_vbc_3g  total_og_mou_diff  \\\n",
       "37239    -0.345581     -0.277950     -0.246299   -0.114808           0.731315   \n",
       "44745     0.153092     -0.277950     -0.246299   -0.114808          -0.260889   \n",
       "83220    -0.345581      1.808611      1.874202   -0.114808           0.598882   \n",
       "24183    -0.345581     -0.277950     -0.246299   -0.114808           0.248257   \n",
       "67148     1.649109     -0.277950     -0.246299   -0.114808           0.447080   \n",
       "...            ...           ...           ...         ...                ...   \n",
       "49770    -0.345581     -0.277950     -0.246299   -0.114808           0.739503   \n",
       "28927    -0.345581      1.808611      1.874202   -0.114808           0.446766   \n",
       "54528    -0.345581     -0.277950     -0.246299   -0.114808           0.248854   \n",
       "66821    -0.345581     -0.277950     -0.246299   -0.114808           0.245886   \n",
       "93115     0.651764     -0.277950     -0.246299   -0.114808          -0.059823   \n",
       "\n",
       "       vol_2g_mb_diff  vol_3g_mb_diff  \n",
       "37239        0.542207        0.089366  \n",
       "44745        0.160960       -0.350304  \n",
       "83220        0.714873        0.009989  \n",
       "24183        0.052096        0.089366  \n",
       "67148        0.144011       -0.566674  \n",
       "...               ...             ...  \n",
       "49770        0.173549        0.089366  \n",
       "28927        0.278726        0.764935  \n",
       "54528        0.173549        0.089366  \n",
       "66821        0.158108        0.206887  \n",
       "93115        0.173549        0.089366  \n",
       "\n",
       "[7041 rows x 21 columns]"
      ]
     },
     "execution_count": 159,
     "metadata": {},
     "output_type": "execute_result"
    }
   ],
   "source": [
    "# Adding a constant to X_test\n",
    "X_test_sm = sm.add_constant(X_test[cols])\n",
    "X_test_sm"
   ]
  },
  {
   "cell_type": "code",
   "execution_count": 160,
   "id": "f55163c8",
   "metadata": {},
   "outputs": [],
   "source": [
    "# Dropping the required columns from X_test as well\n",
    "\n",
    "X_test.drop([\"og_others_8\",\"onnet_mou_8\", \"onnet_mou_7\", \"std_og_t2t_mou_7\", \"loc_og_t2t_mou_8\"], 1, inplace = True)\n",
    "#X_test.drop([\"og_others_8\", \"onnet_mou_7\", \"std_ic_mou_8\",  \"std_ic_t2m_mou_7\",  \"std_ic_mou_7\"], 1, inplace = True)"
   ]
  },
  {
   "cell_type": "code",
   "execution_count": 161,
   "id": "15554328",
   "metadata": {},
   "outputs": [],
   "source": [
    "# Make predictions on the test set and store it in the variable 'y_test_pred'\n",
    "y_test_pred = result.predict(sm.add_constant(X_test))"
   ]
  },
  {
   "cell_type": "code",
   "execution_count": 162,
   "id": "5a85ac46",
   "metadata": {},
   "outputs": [
    {
     "data": {
      "text/plain": [
       "37239    0.000502\n",
       "44745    0.148877\n",
       "83220    0.068252\n",
       "24183    0.259214\n",
       "67148    0.284529\n",
       "99043    0.292673\n",
       "83815    0.083506\n",
       "45811    0.000002\n",
       "64422    0.156558\n",
       "11914    0.685874\n",
       "dtype: float64"
      ]
     },
     "execution_count": 162,
     "metadata": {},
     "output_type": "execute_result"
    }
   ],
   "source": [
    "y_test_pred[:10]"
   ]
  },
  {
   "cell_type": "code",
   "execution_count": 163,
   "id": "5b615ae1",
   "metadata": {},
   "outputs": [
    {
     "data": {
      "text/html": [
       "<div>\n",
       "<style scoped>\n",
       "    .dataframe tbody tr th:only-of-type {\n",
       "        vertical-align: middle;\n",
       "    }\n",
       "\n",
       "    .dataframe tbody tr th {\n",
       "        vertical-align: top;\n",
       "    }\n",
       "\n",
       "    .dataframe thead th {\n",
       "        text-align: right;\n",
       "    }\n",
       "</style>\n",
       "<table border=\"1\" class=\"dataframe\">\n",
       "  <thead>\n",
       "    <tr style=\"text-align: right;\">\n",
       "      <th></th>\n",
       "      <th>0</th>\n",
       "    </tr>\n",
       "  </thead>\n",
       "  <tbody>\n",
       "    <tr>\n",
       "      <th>37239</th>\n",
       "      <td>0.000502</td>\n",
       "    </tr>\n",
       "    <tr>\n",
       "      <th>44745</th>\n",
       "      <td>0.148877</td>\n",
       "    </tr>\n",
       "    <tr>\n",
       "      <th>83220</th>\n",
       "      <td>0.068252</td>\n",
       "    </tr>\n",
       "    <tr>\n",
       "      <th>24183</th>\n",
       "      <td>0.259214</td>\n",
       "    </tr>\n",
       "    <tr>\n",
       "      <th>67148</th>\n",
       "      <td>0.284529</td>\n",
       "    </tr>\n",
       "  </tbody>\n",
       "</table>\n",
       "</div>"
      ],
      "text/plain": [
       "              0\n",
       "37239  0.000502\n",
       "44745  0.148877\n",
       "83220  0.068252\n",
       "24183  0.259214\n",
       "67148  0.284529"
      ]
     },
     "execution_count": 163,
     "metadata": {},
     "output_type": "execute_result"
    }
   ],
   "source": [
    "# Converting y_pred to a dataframe\n",
    "y_pred_1 = pd.DataFrame(y_test_pred)\n",
    "y_pred_1.head()"
   ]
  },
  {
   "cell_type": "code",
   "execution_count": 164,
   "id": "02627d27",
   "metadata": {},
   "outputs": [],
   "source": [
    "# Converting y_test to dataframe\n",
    "y_test_df = pd.DataFrame(y_test)"
   ]
  },
  {
   "cell_type": "code",
   "execution_count": 165,
   "id": "23488ff9",
   "metadata": {},
   "outputs": [],
   "source": [
    "# Putting Customer ID to index\n",
    "y_test_df['Customer ID'] = y_test_df.index"
   ]
  },
  {
   "cell_type": "code",
   "execution_count": 166,
   "id": "09463278",
   "metadata": {},
   "outputs": [],
   "source": [
    "# Remove index for both dataframes to append them side by side \n",
    "y_pred_1.reset_index(drop=True, inplace=True)\n",
    "y_test_df.reset_index(drop=True, inplace=True)"
   ]
  },
  {
   "cell_type": "code",
   "execution_count": 167,
   "id": "fedf54fa",
   "metadata": {},
   "outputs": [],
   "source": [
    "# Append y_test_df and y_pred_1\n",
    "y_pred_final = pd.concat([y_test_df, y_pred_1],axis=1)"
   ]
  },
  {
   "cell_type": "code",
   "execution_count": 168,
   "id": "f85e5503",
   "metadata": {},
   "outputs": [
    {
     "data": {
      "text/html": [
       "<div>\n",
       "<style scoped>\n",
       "    .dataframe tbody tr th:only-of-type {\n",
       "        vertical-align: middle;\n",
       "    }\n",
       "\n",
       "    .dataframe tbody tr th {\n",
       "        vertical-align: top;\n",
       "    }\n",
       "\n",
       "    .dataframe thead th {\n",
       "        text-align: right;\n",
       "    }\n",
       "</style>\n",
       "<table border=\"1\" class=\"dataframe\">\n",
       "  <thead>\n",
       "    <tr style=\"text-align: right;\">\n",
       "      <th></th>\n",
       "      <th>churn</th>\n",
       "      <th>Customer ID</th>\n",
       "      <th>0</th>\n",
       "    </tr>\n",
       "  </thead>\n",
       "  <tbody>\n",
       "    <tr>\n",
       "      <th>0</th>\n",
       "      <td>0</td>\n",
       "      <td>37239</td>\n",
       "      <td>0.000502</td>\n",
       "    </tr>\n",
       "    <tr>\n",
       "      <th>1</th>\n",
       "      <td>0</td>\n",
       "      <td>44745</td>\n",
       "      <td>0.148877</td>\n",
       "    </tr>\n",
       "    <tr>\n",
       "      <th>2</th>\n",
       "      <td>0</td>\n",
       "      <td>83220</td>\n",
       "      <td>0.068252</td>\n",
       "    </tr>\n",
       "    <tr>\n",
       "      <th>3</th>\n",
       "      <td>0</td>\n",
       "      <td>24183</td>\n",
       "      <td>0.259214</td>\n",
       "    </tr>\n",
       "    <tr>\n",
       "      <th>4</th>\n",
       "      <td>0</td>\n",
       "      <td>67148</td>\n",
       "      <td>0.284529</td>\n",
       "    </tr>\n",
       "  </tbody>\n",
       "</table>\n",
       "</div>"
      ],
      "text/plain": [
       "   churn  Customer ID         0\n",
       "0      0        37239  0.000502\n",
       "1      0        44745  0.148877\n",
       "2      0        83220  0.068252\n",
       "3      0        24183  0.259214\n",
       "4      0        67148  0.284529"
      ]
     },
     "execution_count": 168,
     "metadata": {},
     "output_type": "execute_result"
    }
   ],
   "source": [
    "# Check 'y_pred_final'\n",
    "y_pred_final.head()"
   ]
  },
  {
   "cell_type": "code",
   "execution_count": 169,
   "id": "abc74ffa",
   "metadata": {},
   "outputs": [
    {
     "data": {
      "text/html": [
       "<div>\n",
       "<style scoped>\n",
       "    .dataframe tbody tr th:only-of-type {\n",
       "        vertical-align: middle;\n",
       "    }\n",
       "\n",
       "    .dataframe tbody tr th {\n",
       "        vertical-align: top;\n",
       "    }\n",
       "\n",
       "    .dataframe thead th {\n",
       "        text-align: right;\n",
       "    }\n",
       "</style>\n",
       "<table border=\"1\" class=\"dataframe\">\n",
       "  <thead>\n",
       "    <tr style=\"text-align: right;\">\n",
       "      <th></th>\n",
       "      <th>churn</th>\n",
       "      <th>Customer ID</th>\n",
       "      <th>conversion_prob</th>\n",
       "    </tr>\n",
       "  </thead>\n",
       "  <tbody>\n",
       "    <tr>\n",
       "      <th>0</th>\n",
       "      <td>0</td>\n",
       "      <td>37239</td>\n",
       "      <td>0.000502</td>\n",
       "    </tr>\n",
       "    <tr>\n",
       "      <th>1</th>\n",
       "      <td>0</td>\n",
       "      <td>44745</td>\n",
       "      <td>0.148877</td>\n",
       "    </tr>\n",
       "    <tr>\n",
       "      <th>2</th>\n",
       "      <td>0</td>\n",
       "      <td>83220</td>\n",
       "      <td>0.068252</td>\n",
       "    </tr>\n",
       "    <tr>\n",
       "      <th>3</th>\n",
       "      <td>0</td>\n",
       "      <td>24183</td>\n",
       "      <td>0.259214</td>\n",
       "    </tr>\n",
       "    <tr>\n",
       "      <th>4</th>\n",
       "      <td>0</td>\n",
       "      <td>67148</td>\n",
       "      <td>0.284529</td>\n",
       "    </tr>\n",
       "  </tbody>\n",
       "</table>\n",
       "</div>"
      ],
      "text/plain": [
       "   churn  Customer ID  conversion_prob\n",
       "0      0        37239         0.000502\n",
       "1      0        44745         0.148877\n",
       "2      0        83220         0.068252\n",
       "3      0        24183         0.259214\n",
       "4      0        67148         0.284529"
      ]
     },
     "execution_count": 169,
     "metadata": {},
     "output_type": "execute_result"
    }
   ],
   "source": [
    "# Rename the column \n",
    "y_pred_final= y_pred_final.rename(columns = {0 : 'conversion_prob'})\n",
    "y_pred_final.head()"
   ]
  },
  {
   "cell_type": "code",
   "execution_count": 170,
   "id": "76bc7f07",
   "metadata": {},
   "outputs": [
    {
     "data": {
      "text/html": [
       "<div>\n",
       "<style scoped>\n",
       "    .dataframe tbody tr th:only-of-type {\n",
       "        vertical-align: middle;\n",
       "    }\n",
       "\n",
       "    .dataframe tbody tr th {\n",
       "        vertical-align: top;\n",
       "    }\n",
       "\n",
       "    .dataframe thead th {\n",
       "        text-align: right;\n",
       "    }\n",
       "</style>\n",
       "<table border=\"1\" class=\"dataframe\">\n",
       "  <thead>\n",
       "    <tr style=\"text-align: right;\">\n",
       "      <th></th>\n",
       "      <th>Customer ID</th>\n",
       "      <th>churn</th>\n",
       "      <th>conversion_prob</th>\n",
       "    </tr>\n",
       "  </thead>\n",
       "  <tbody>\n",
       "    <tr>\n",
       "      <th>0</th>\n",
       "      <td>37239</td>\n",
       "      <td>0</td>\n",
       "      <td>0.000502</td>\n",
       "    </tr>\n",
       "    <tr>\n",
       "      <th>1</th>\n",
       "      <td>44745</td>\n",
       "      <td>0</td>\n",
       "      <td>0.148877</td>\n",
       "    </tr>\n",
       "    <tr>\n",
       "      <th>2</th>\n",
       "      <td>83220</td>\n",
       "      <td>0</td>\n",
       "      <td>0.068252</td>\n",
       "    </tr>\n",
       "    <tr>\n",
       "      <th>3</th>\n",
       "      <td>24183</td>\n",
       "      <td>0</td>\n",
       "      <td>0.259214</td>\n",
       "    </tr>\n",
       "    <tr>\n",
       "      <th>4</th>\n",
       "      <td>67148</td>\n",
       "      <td>0</td>\n",
       "      <td>0.284529</td>\n",
       "    </tr>\n",
       "  </tbody>\n",
       "</table>\n",
       "</div>"
      ],
      "text/plain": [
       "   Customer ID  churn  conversion_prob\n",
       "0        37239      0         0.000502\n",
       "1        44745      0         0.148877\n",
       "2        83220      0         0.068252\n",
       "3        24183      0         0.259214\n",
       "4        67148      0         0.284529"
      ]
     },
     "execution_count": 170,
     "metadata": {},
     "output_type": "execute_result"
    }
   ],
   "source": [
    "# Rearranging the columns\n",
    "y_pred_final = y_pred_final.reindex(['Customer ID','churn','conversion_prob'], axis=1)\n",
    "y_pred_final.head()"
   ]
  },
  {
   "cell_type": "code",
   "execution_count": 171,
   "id": "ac2be31f",
   "metadata": {},
   "outputs": [],
   "source": [
    "# Make predictions on the test set using 0.35 as the cutoff\n",
    "y_pred_final['final_predicted'] = y_pred_final.conversion_prob.map(lambda x: 1 if x > 0.5 else 0)"
   ]
  },
  {
   "cell_type": "code",
   "execution_count": 172,
   "id": "eae42f59",
   "metadata": {},
   "outputs": [
    {
     "data": {
      "text/html": [
       "<div>\n",
       "<style scoped>\n",
       "    .dataframe tbody tr th:only-of-type {\n",
       "        vertical-align: middle;\n",
       "    }\n",
       "\n",
       "    .dataframe tbody tr th {\n",
       "        vertical-align: top;\n",
       "    }\n",
       "\n",
       "    .dataframe thead th {\n",
       "        text-align: right;\n",
       "    }\n",
       "</style>\n",
       "<table border=\"1\" class=\"dataframe\">\n",
       "  <thead>\n",
       "    <tr style=\"text-align: right;\">\n",
       "      <th></th>\n",
       "      <th>Customer ID</th>\n",
       "      <th>churn</th>\n",
       "      <th>conversion_prob</th>\n",
       "      <th>final_predicted</th>\n",
       "    </tr>\n",
       "  </thead>\n",
       "  <tbody>\n",
       "    <tr>\n",
       "      <th>0</th>\n",
       "      <td>37239</td>\n",
       "      <td>0</td>\n",
       "      <td>0.000502</td>\n",
       "      <td>0</td>\n",
       "    </tr>\n",
       "    <tr>\n",
       "      <th>1</th>\n",
       "      <td>44745</td>\n",
       "      <td>0</td>\n",
       "      <td>0.148877</td>\n",
       "      <td>0</td>\n",
       "    </tr>\n",
       "    <tr>\n",
       "      <th>2</th>\n",
       "      <td>83220</td>\n",
       "      <td>0</td>\n",
       "      <td>0.068252</td>\n",
       "      <td>0</td>\n",
       "    </tr>\n",
       "    <tr>\n",
       "      <th>3</th>\n",
       "      <td>24183</td>\n",
       "      <td>0</td>\n",
       "      <td>0.259214</td>\n",
       "      <td>0</td>\n",
       "    </tr>\n",
       "    <tr>\n",
       "      <th>4</th>\n",
       "      <td>67148</td>\n",
       "      <td>0</td>\n",
       "      <td>0.284529</td>\n",
       "      <td>0</td>\n",
       "    </tr>\n",
       "  </tbody>\n",
       "</table>\n",
       "</div>"
      ],
      "text/plain": [
       "   Customer ID  churn  conversion_prob  final_predicted\n",
       "0        37239      0         0.000502                0\n",
       "1        44745      0         0.148877                0\n",
       "2        83220      0         0.068252                0\n",
       "3        24183      0         0.259214                0\n",
       "4        67148      0         0.284529                0"
      ]
     },
     "execution_count": 172,
     "metadata": {},
     "output_type": "execute_result"
    }
   ],
   "source": [
    "# Check y_pred_final\n",
    "y_pred_final.head()"
   ]
  },
  {
   "cell_type": "code",
   "execution_count": 173,
   "id": "d6465f7c",
   "metadata": {},
   "outputs": [
    {
     "data": {
      "text/plain": [
       "array([[5162, 1502],\n",
       "       [  97,  280]], dtype=int64)"
      ]
     },
     "execution_count": 173,
     "metadata": {},
     "output_type": "execute_result"
    }
   ],
   "source": [
    "confusion_test = metrics.confusion_matrix(y_pred_final['churn'], y_pred_final.final_predicted )\n",
    "confusion_test"
   ]
  },
  {
   "cell_type": "code",
   "execution_count": 174,
   "id": "bfe042ae",
   "metadata": {},
   "outputs": [
    {
     "name": "stdout",
     "output_type": "stream",
     "text": [
      "Accuracy:  0.7729015764806135\n",
      "Sensitivity: 0.7427055702917772\n",
      "Specificity: 0.774609843937575\n"
     ]
    }
   ],
   "source": [
    "TP = confusion_test[1,1] # true positive \n",
    "TN = confusion_test[0,0] # true negatives\n",
    "FP = confusion_test[0,1] # false positives\n",
    "FN = confusion_test[1,0] # false negatives\n",
    "\n",
    "\n",
    "# Let's checking the overall accuracy\n",
    "print( \"Accuracy: \", metrics.accuracy_score(y_pred_final['churn'], y_pred_final.final_predicted))\n",
    "\n",
    "# Sensitivity\n",
    "print(\"Sensitivity:\",TP / float(TP+FN))\n",
    "\n",
    "# Specificity\n",
    "print(\"Specificity:\", TN / float(TN+FP))"
   ]
  },
  {
   "cell_type": "markdown",
   "id": "e305a975",
   "metadata": {},
   "source": [
    "#### Performance of Logistic regression without PCA\n",
    "\n",
    "* Train Dataset\n",
    "- Accuracy:    0.82\n",
    "- Sensitivity: 0.87\n",
    "- Specificity: 0.77\n",
    " \n",
    " \n",
    "* Test Dataset\n",
    "- Accuracy:    0.78\n",
    "- Sensitivity: 0.75\n",
    "- Specificity: 0.77   "
   ]
  },
  {
   "cell_type": "markdown",
   "id": "8a88d361",
   "metadata": {},
   "source": [
    "## Step 10: Identifying important features"
   ]
  },
  {
   "cell_type": "code",
   "execution_count": 175,
   "id": "126bdf82",
   "metadata": {},
   "outputs": [
    {
     "data": {
      "text/plain": [
       "loc_ic_t2m_mou_7     0.770307\n",
       "std_og_t2t_mou_8    -0.199342\n",
       "vol_2g_mb_diff      -0.395713\n",
       "monthly_3g_6        -0.397614\n",
       "vol_3g_mb_diff      -0.416280\n",
       "monthly_2g_7        -0.505933\n",
       "monthly_2g_6        -0.532925\n",
       "loc_ic_t2t_mou_8    -0.550311\n",
       "monthly_3g_8        -0.600942\n",
       "total_og_mou_diff   -0.613610\n",
       "const               -0.682939\n",
       "loc_og_mou_8        -0.683612\n",
       "monthly_2g_8        -0.684039\n",
       "sachet_2g_8         -0.729509\n",
       "loc_ic_t2m_mou_8    -1.378562\n",
       "sep_vbc_3g          -1.558633\n",
       "dtype: float64"
      ]
     },
     "execution_count": 175,
     "metadata": {},
     "output_type": "execute_result"
    }
   ],
   "source": [
    "# Identifying important features who can predict churn more precisely.\n",
    "result.params.sort_values(ascending=False)"
   ]
  },
  {
   "cell_type": "markdown",
   "id": "48bcd19c",
   "metadata": {},
   "source": [
    "## Step 11: Recommend strategies to manage customer churn"
   ]
  },
  {
   "cell_type": "markdown",
   "id": "35dd55bd",
   "metadata": {},
   "source": [
    "* The company should focus on below customers to find churners,\n",
    "    - The churn rate is more for the customers, whose average revenue decreased in the action phase than the good phase so company should focus on those customers.\n",
    "    - we can see that churn rate is much more for the customers whose outgoing minutes and incoming call minutes are reduced in action phase.\n",
    "    - customers who have not rechared for more number of times has higher chances of churning.\n",
    "    - As number of recharges are decreasing, recharge amount is also decreasing in action phase for churned customers.\n",
    "    - 2g and 3g data usage is not making any significant difference between churners and non churners. \n",
    "    - Here, also we can see that the churn rate is more for the customers, whose recharge amount is decreased along with the volume based cost is increased in the action month.\n",
    "    - cutomers with tenure less than 4 yrs are more likely to churn. Average age on network of churners is low."
   ]
  },
  {
   "cell_type": "markdown",
   "id": "190832eb",
   "metadata": {},
   "source": [
    "* Based on the above indicators the recommendations to the telecom company are :\n",
    "    Models with high sensitivity are the best for predicting churn. Use the PCA + Logistic Regression model to predict churn. It has sensitivity of 87.2 %"
   ]
  }
 ],
 "metadata": {
  "kernelspec": {
   "display_name": "Python 3 (ipykernel)",
   "language": "python",
   "name": "python3"
  },
  "language_info": {
   "codemirror_mode": {
    "name": "ipython",
    "version": 3
   },
   "file_extension": ".py",
   "mimetype": "text/x-python",
   "name": "python",
   "nbconvert_exporter": "python",
   "pygments_lexer": "ipython3",
   "version": "3.9.13"
  }
 },
 "nbformat": 4,
 "nbformat_minor": 5
}
